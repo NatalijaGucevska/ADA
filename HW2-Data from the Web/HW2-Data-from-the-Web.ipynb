{
 "cells": [
  {
   "cell_type": "markdown",
   "metadata": {},
   "source": [
    "# HW2 - Data From The Web"
   ]
  },
  {
   "cell_type": "markdown",
   "metadata": {},
   "source": [
    "## 1. Web Scraping "
   ]
  },
  {
   "cell_type": "markdown",
   "metadata": {},
   "source": [
    "We will first write all functions needed to extract the data from the websites and demonstrate how they work. Then we will complete the assignment using them."
   ]
  },
  {
   "cell_type": "code",
   "execution_count": null,
   "metadata": {},
   "outputs": [],
   "source": [
    "import requests as rq\n",
    "import matplotlib.pyplot as plt\n",
    "import numpy as np\n",
    "from bs4 import BeautifulSoup\n",
    "import pandas as pd\n",
    "import seaborn\n",
    "import pickle\n",
    "%matplotlib inline\n",
    "import os.path\n",
    "from googletrans import Translator\n",
    "import time\n",
    "\n",
    "\n",
    "TOP_UNI_URL = 'https://www.topuniversities.com'\n",
    "TIMES_URL = 'https://www.timeshighereducation.com'"
   ]
  },
  {
   "cell_type": "markdown",
   "metadata": {},
   "source": [
    "## Helper functions"
   ]
  },
  {
   "cell_type": "markdown",
   "metadata": {},
   "source": [
    "#### Create dataframe with the scrapped information "
   ]
  },
  {
   "cell_type": "code",
   "execution_count": null,
   "metadata": {
    "collapsed": true
   },
   "outputs": [],
   "source": [
    "def create_dataframe(data):\n",
    "    df = pd.DataFrame.from_dict(data).set_index('Rank')\n",
    "    df = df[['Name', 'Country', 'Region', 'Tot_Stud', 'Inter_Stud', 'Tot_Mem', 'Inter_Mem']]\n",
    "    return df"
   ]
  },
  {
   "cell_type": "markdown",
   "metadata": {},
   "source": [
    "#### Calculate Member/Student ratio dataframe"
   ]
  },
  {
   "cell_type": "code",
   "execution_count": null,
   "metadata": {
    "collapsed": true,
    "scrolled": false
   },
   "outputs": [],
   "source": [
    "def best_member_student_ratio(df):\n",
    "    best_ratio = df.copy()\n",
    "    best_ratio['Members/Students ratio'] =df['Tot_Mem'] / df['Tot_Stud']\n",
    "    best_ratio = best_ratio.set_index('Name').sort_values(['Members/Students ratio'], ascending=False)\n",
    "    \n",
    "    best_ratio[:20]['Members/Students ratio'].plot.bar(title='Top 20 Universities on Member/Student ratio')\n",
    "    plt.show()\n",
    "    return best_ratio"
   ]
  },
  {
   "cell_type": "markdown",
   "metadata": {},
   "source": [
    "#### Calculate International/Student ratio dataframe"
   ]
  },
  {
   "cell_type": "code",
   "execution_count": null,
   "metadata": {
    "collapsed": true
   },
   "outputs": [],
   "source": [
    "def best_international_student_ratio(df):\n",
    "    best_ratio = df.copy()\n",
    "    best_ratio['Int_Stud ratio'] = df['Inter_Stud'] / df['Tot_Stud']\n",
    "    best_ratio = best_ratio.set_index('Name').sort_values(['Int_Stud ratio'], ascending=False)[:20]\n",
    "    best_ratio[:20]['Int_Stud ratio'].plot.bar(title='Top 20 Universities on Member/Student ratio')\n",
    "    plt.show()\n",
    "    return best_ratio"
   ]
  },
  {
   "cell_type": "markdown",
   "metadata": {},
   "source": [
    "#### Plot ratios by country and region"
   ]
  },
  {
   "cell_type": "code",
   "execution_count": null,
   "metadata": {
    "collapsed": true
   },
   "outputs": [],
   "source": [
    "def plot_ratios_by_country_region(member_student, international_student): \n",
    "    plot_country_df_a = member_student.groupby(['Country'])['Members/Students ratio'].mean()\n",
    "    plot_country_df_a = plot_country_df_a.sort_values(ascending=False)\n",
    "\n",
    "    plot_country_df_b = international_student.groupby(['Country'])['Int_Stud ratio'].mean()\n",
    "    plot_country_df_b = plot_country_df_b.sort_values(ascending=False)\n",
    "\n",
    "    plot_region_df_a = member_student.groupby(['Region'])['Members/Students ratio'].mean()\n",
    "    plot_region_df_a = plot_region_df_a.sort_values(ascending=False)\n",
    "\n",
    "    plot_region_df_b = international_student.groupby(['Region'])['Int_Stud ratio'].mean()\n",
    "    plot_region_df_b = plot_region_df_b.sort_values(ascending=False)\n",
    "    \n",
    "    print(plot_country_df_b.shape)\n",
    "\n",
    "\n",
    "\n",
    "    fig, axes = plt.subplots(nrows=2, ncols=2)\n",
    "    fig.set_figheight(10)\n",
    "    fig.set_figwidth(15)\n",
    "    plt.subplots_adjust(hspace = 1)\n",
    "    plot_country_df_a.plot.bar(ax=axes[0, 0], title='Member/Student ratio by country')\n",
    "    plot_country_df_b.plot.bar(ax=axes[0, 1], title='International Student ratio by Country')\n",
    "    plot_region_df_a.plot.bar(ax=axes[1, 0], title='Member/Student ratio by region')\n",
    "    plot_region_df_b.plot.bar(ax=axes[1, 1], title='International Student ratio by Region')\n",
    "    plt.show()\n",
    "    "
   ]
  },
  {
   "cell_type": "markdown",
   "metadata": {},
   "source": [
    "Here we transform the names of the universities with `clean_name` and we merge the two frames together. We perform an inner join in order to keep only universities that have correspondance in the two data frames"
   ]
  },
  {
   "cell_type": "code",
   "execution_count": null,
   "metadata": {
    "collapsed": true
   },
   "outputs": [],
   "source": [
    "import re\n",
    "\n",
    "def rreplace(s):\n",
    "    d = {}\n",
    "    \n",
    "    for w in s.split(): \n",
    "        w = w.strip(' ')\n",
    "        \n",
    "        if w in d.keys(): \n",
    "            d[w] += 1\n",
    "        else:\n",
    "            d[w] = 0\n",
    "    \n",
    "    for key, value in d.items():\n",
    "        li = s.rsplit(key, value)\n",
    "        s = ''.join(li)\n",
    "    \n",
    "    return s.strip()\n",
    "\n",
    "def clean_name(name):\n",
    "    to_replace = {'the':'', 'of':'', 'é':'e', '-':' ', '—':' ', '–':' ', '’':'',\\\n",
    "                  '\\'':'', '.':'', ',':'', '&':' and ', '(':'', ')':''}\n",
    "    \n",
    "    translator = Translator(service_urls=[\n",
    "        'translate.google.ch'\n",
    "    ])\n",
    "    \n",
    "    name = translator.translate(name).text\n",
    "    name = name.lower()\n",
    "    #name = re.sub(r\"\\(.+\\)\", ' ', name)\n",
    "    name = rreplace(name)\n",
    "    \n",
    "    for key, value in to_replace.items(): \n",
    "        name = name.replace(key, value)\n",
    "    \n",
    "    name = re.sub(r\"\\s+\", ' ', name)\n",
    "    name = name.strip(' ')\n",
    "    print(name)\n",
    "    \n",
    "    return name"
   ]
  },
  {
   "cell_type": "markdown",
   "metadata": {},
   "source": [
    "### 1.1 Top Universities Website"
   ]
  },
  {
   "cell_type": "markdown",
   "metadata": {},
   "source": [
    "Here are the functions to obtain the amount of faculty members (total & international) and students (total & international)"
   ]
  },
  {
   "cell_type": "code",
   "execution_count": null,
   "metadata": {
    "collapsed": true
   },
   "outputs": [],
   "source": [
    "def get_num_members(soup):\n",
    "    return int(soup.find('div', class_='total faculty').find('div', class_='number').text.strip().replace(',', '')),\\\n",
    "           int(soup.find('div', class_='inter faculty').find('div', class_='number').text.strip().replace(',', ''))"
   ]
  },
  {
   "cell_type": "code",
   "execution_count": null,
   "metadata": {
    "collapsed": true
   },
   "outputs": [],
   "source": [
    "def get_num_students(soup):\n",
    "    return int(soup.find('div', class_='total student').find('div', class_='number').text.strip().replace(',', '')),\\\n",
    "           int(soup.find('div', class_='total inter').find('div', class_='number').text.strip().replace(',', ''))"
   ]
  },
  {
   "cell_type": "markdown",
   "metadata": {},
   "source": [
    "After a quick look with Postman on the webside, we realised that the ranking table data were not given on the page but retrieved and added with a script on a json file. We then had to directly get this file to obtain the information we need for this assignment. The file returned by the request is a simple json object with the list of universities ordered by rank after the 'Data' tag."
   ]
  },
  {
   "cell_type": "code",
   "execution_count": null,
   "metadata": {
    "collapsed": true
   },
   "outputs": [],
   "source": [
    "names = []\n",
    "g = 0\n",
    "if not os.path.exists('topunis.pickle'): \n",
    "    TOP_WORLD_RANKING_FILE = TOP_UNI_URL + '/sites/default/files/qs-rankings-data/357051.txt'\n",
    "    ranking_top_uni = rq.get(TOP_WORLD_RANKING_FILE).json().get('data')\n",
    "    top_unis = []\n",
    "    for uni in ranking_top_uni[:200]:\n",
    "        g +=1\n",
    "        \n",
    "        # throttling the research to avoid being kicked by the website\n",
    "        if g % 20 == 0: \n",
    "            time.sleep(10)\n",
    "        name = clean_name(uni.get('title'))\n",
    "        names.append(name)\n",
    "        top_unis.append({'Name' : name, 'Rank' : uni.get('rank_display').replace('=', ''), \n",
    "                         'Country' : uni.get('country'), 'Region' : uni.get('region'), 'Url' : uni.get('url')})\n",
    "        \n",
    "    problematic_uni = []\n",
    "    for uni in top_unis:\n",
    "        page = rq.get(TOP_UNI_URL + uni['Url'])\n",
    "        soup = BeautifulSoup(page.text, 'html.parser')\n",
    "        try:\n",
    "            tot_mem, inter_mem = get_num_members(soup)\n",
    "            tot_stud, inter_stud = get_num_students(soup)\n",
    "            uni['Tot_Mem'] = tot_mem\n",
    "            uni['Inter_Mem'] = inter_mem\n",
    "            uni['Tot_Stud'] = tot_stud\n",
    "            uni['Inter_Stud'] = inter_stud\n",
    "        except AttributeError: \n",
    "            problematic_uni.append(top_unis.index(uni))\n",
    "            print('Could not fetch data from:', uni['Name'])\n",
    "    #Fill in the missing information for \"problematic unis\"\n",
    "    nyu = top_unis[problematic_uni[0]]\n",
    "    nyu['Tot_Mem'] = 7717\n",
    "    nyu['Inter_Mem'] = 604\n",
    "    nyu['Tot_Stud'] = 43860\n",
    "    nyu['Inter_Stud'] = 11593\n",
    "\n",
    "    bang = top_unis[problematic_uni[1]]\n",
    "    bang['Tot_Mem'] = 423\n",
    "    bang['Inter_Mem'] = 0\n",
    "    bang['Tot_Stud'] = 4071\n",
    "    bang['Inter_Stud'] = 47\n",
    "    \n",
    "    with open('topunis.pickle', 'wb') as out:\n",
    "        pickle.dump(top_unis, out)\n",
    "else: \n",
    "    with open('topunis.pickle', 'rb') as data: \n",
    "        top_unis = pickle.load(data)"
   ]
  },
  {
   "cell_type": "code",
   "execution_count": null,
   "metadata": {},
   "outputs": [],
   "source": [
    "top_uni_df = create_dataframe(top_unis)\n",
    "top_uni_df.head()"
   ]
  },
  {
   "cell_type": "markdown",
   "metadata": {},
   "source": [
    "#### 1.2.a Which are the best universities in terms of ratio between faculty members and students ?\n",
    "Here are the top 20"
   ]
  },
  {
   "cell_type": "code",
   "execution_count": null,
   "metadata": {},
   "outputs": [],
   "source": [
    "member_student_ratio = best_member_student_ratio(top_uni_df)"
   ]
  },
  {
   "cell_type": "markdown",
   "metadata": {},
   "source": [
    "#### 1.2.b Which are the best universities in terms of ratio of international students?\n",
    "Here are the top 20"
   ]
  },
  {
   "cell_type": "code",
   "execution_count": null,
   "metadata": {
    "scrolled": false
   },
   "outputs": [],
   "source": [
    "international_student_ratio = best_international_student_ratio(top_uni_df)"
   ]
  },
  {
   "cell_type": "markdown",
   "metadata": {},
   "source": [
    "#### 1.2.c and 1.2.d Same questions aggregating by country:"
   ]
  },
  {
   "cell_type": "code",
   "execution_count": null,
   "metadata": {},
   "outputs": [],
   "source": [
    " plot_ratios_by_country_region(member_student_ratio, international_student_ratio)"
   ]
  },
  {
   "cell_type": "markdown",
   "metadata": {},
   "source": [
    "### 2.1 Times Higher Education Website"
   ]
  },
  {
   "cell_type": "markdown",
   "metadata": {},
   "source": [
    "The file returned by the request is a simple json object with the list of universities ordered by rank after the 'Data' tag. But this time the *Region* is not given by the website, no even on the specific pages. But this time it contains everything else, no need to scrap the specific pages."
   ]
  },
  {
   "cell_type": "code",
   "execution_count": null,
   "metadata": {
    "collapsed": true
   },
   "outputs": [],
   "source": [
    "if not os.path.exists('toptimes.pickle'): \n",
    "    \n",
    "    TOP_TIMES_RANKING_FILE = TIMES_URL + '/sites/default/files/the_data_rankings/world_university_rankings_2018_limit0_369a9045a203e176392b9fb8f8c1cb2a.json'\n",
    "    ranking_top_times = rq.get(TOP_TIMES_RANKING_FILE).json().get('data')\n",
    "\n",
    "    top_times = []\n",
    "    for uni in ranking_top_times[:200]:\n",
    "        g +=1\n",
    "        # throttling the research to avoid being kicked by the website\n",
    "        if g % 50 == 0: \n",
    "            time.sleep(30)\n",
    "            \n",
    "        name = clean_name(uni.get('name'))\n",
    "        for n in names: \n",
    "            if name in n: \n",
    "                name = n\n",
    "                break\n",
    "            elif n in name: \n",
    "                name = n\n",
    "                break\n",
    "        top_times.append({'Name' : name, 'Rank' : uni.get('rank').replace('=', ''), \n",
    "                          'Country' : uni.get('location'), 'Region' : None,\n",
    "                          'Tot_Stud' : int(uni.get('stats_number_students').replace(',', '')), \n",
    "                          'Inter_Stud' : round(int(uni.get('stats_number_students').replace(',', '')) * int(uni.get('stats_pc_intl_students').replace('%', '')) / 100),\n",
    "                          'Tot_Mem' : round(int(uni.get('stats_number_students').replace(',', '')) / float(uni.get('stats_student_staff_ratio'))),\n",
    "                          'Inter_Mem' : None})\n",
    "    with open('toptimes.pickle', 'wb') as out:\n",
    "        pickle.dump(top_times, out)\n",
    "else: \n",
    "    with open('toptimes.pickle', 'rb') as data: \n",
    "        top_times = pickle.load(data)\n",
    "    "
   ]
  },
  {
   "cell_type": "code",
   "execution_count": null,
   "metadata": {
    "scrolled": true
   },
   "outputs": [],
   "source": [
    "top_times_df = create_dataframe(top_times)\n",
    "top_times_df.head()"
   ]
  },
  {
   "cell_type": "markdown",
   "metadata": {},
   "source": [
    "### Fill in the regions for the top times dataframe from top uni dataframe\n",
    "\n",
    "To do this task we take the unique $country \\mapsto region$ mappings from the first ranking. We can see that in the Top Universities ranking Luxembourg doesn't appear, so we have to map it by hand. Also Russia appears as `Russia` in the Top Universities ranking and as `Russian Federation` in the Top Times rankings. We also map it separately to have Europe as region. "
   ]
  },
  {
   "cell_type": "code",
   "execution_count": null,
   "metadata": {},
   "outputs": [],
   "source": [
    "df = top_uni_df[['Country', 'Region']].groupby(['Country','Region'])\n",
    "\n",
    "country_region = {}\n",
    "for country, region in df.groups.keys(): \n",
    "    top_times_df.loc[top_times_df['Country'] == country, 'Region'] = region\n",
    "    \n",
    "top_times_df.loc[top_times_df['Country'] == 'Luxembourg', 'Region'] = 'Europe'\n",
    "top_times_df.loc[top_times_df['Country'] == 'Russian Federation', 'Region'] = 'Europe'\n",
    "\n",
    "top_times_df.head()"
   ]
  },
  {
   "cell_type": "markdown",
   "metadata": {},
   "source": [
    "#### 2.2.a Which are the best universities in terms of ratio between faculty members and students ?\n",
    "Here are the top 20"
   ]
  },
  {
   "cell_type": "code",
   "execution_count": null,
   "metadata": {},
   "outputs": [],
   "source": [
    "member_student_ratio = best_member_student_ratio(top_times_df)"
   ]
  },
  {
   "cell_type": "markdown",
   "metadata": {},
   "source": [
    "#### 2.2.b Which are the best universities in terms of ratio of international students?\n",
    "Here are the top 20"
   ]
  },
  {
   "cell_type": "code",
   "execution_count": null,
   "metadata": {},
   "outputs": [],
   "source": [
    "international_student_ratio = best_international_student_ratio(top_times_df)"
   ]
  },
  {
   "cell_type": "markdown",
   "metadata": {},
   "source": [
    "#### 2.2.c and 2.2.d Same questions aggregating by country and region"
   ]
  },
  {
   "cell_type": "code",
   "execution_count": null,
   "metadata": {},
   "outputs": [],
   "source": [
    " plot_ratios_by_country_region(member_student_ratio, international_student_ratio)"
   ]
  },
  {
   "cell_type": "markdown",
   "metadata": {},
   "source": [
    "### 3. Merge the two DataFrames created in questions 1 and 2 using university names. Match universities' names as well as you can, and explain your strategy. Keep track of the original position in both rankings."
   ]
  },
  {
   "cell_type": "markdown",
   "metadata": {},
   "source": [
    "This function prepare the names for the merge. We noticed that in one of the rankings the name is present as well as an abreviation of the university name. For exemple \"Ecole polytechnique federale de lausanne (EPFL)\" and in the othe rankng the abreviation was not present. Because of that we remove all abreviations of that type. We also remove some types of ponctuation and blank spaces.  "
   ]
  },
  {
   "cell_type": "code",
   "execution_count": null,
   "metadata": {
    "scrolled": false
   },
   "outputs": [],
   "source": [
    "merged_df = top_times_df.reset_index().merge(top_uni_df.reset_index(), on=['Name'], suffixes=('_Times', '_Unis'), how='inner')\n",
    "merged_df.head()\n",
    "merged_df"
   ]
  },
  {
   "cell_type": "markdown",
   "metadata": {},
   "source": [
    "### 4. Find useful insights in the data by performing an exploratory analysis. Can you find a strong correlation between any pair of variables in the dataset you just created? Example: when a university is strong in its international dimension, can you observe a consistency both for students and faculty members?"
   ]
  },
  {
   "cell_type": "code",
   "execution_count": null,
   "metadata": {},
   "outputs": [],
   "source": [
    "merged_df.corr()"
   ]
  },
  {
   "cell_type": "code",
   "execution_count": null,
   "metadata": {},
   "outputs": [],
   "source": [
    "best_ratio  =merged_df.copy()\n",
    "best_ratio['International'] = merged_df['Inter_Stud_Unis'] +  merged_df['Inter_Mem_Unis']\n",
    "best_ratio = best_ratio.set_index('Name').sort_values(['International'], ascending=False)\n",
    "    \n",
    "top_20 = best_ratio[['Inter_Stud_Unis', 'Inter_Mem_Unis']][:20]\n",
    "top_20[['Inter_Stud_Unis']].plot.bar()\n",
    "top_20[['Inter_Mem_Unis']].plot.bar()\n",
    "plt.show()"
   ]
  },
  {
   "cell_type": "code",
   "execution_count": null,
   "metadata": {},
   "outputs": [],
   "source": [
    "rank_no_students = merged_df.set_index('Rank_Times')\n",
    "rank_no_students['Tot_Stud_Times'].plot(title='')\n",
    "\n",
    "rank_no_students = merged_df.set_index('Rank_Unis').sort_index()\n",
    "rank_no_students['Tot_Stud_Unis'].plot(title='')\n",
    "plt.show()"
   ]
  },
  {
   "cell_type": "code",
   "execution_count": null,
   "metadata": {},
   "outputs": [],
   "source": [
    "rank_no_students = merged_df.set_index('Inter_Stud_Times').sort_index()\n",
    "rank_no_students['Tot_Stud_Times'].plot(title='')\n",
    "rank_no_students['Tot_Mem_Times'].plot(title='')\n",
    "plt.show()"
   ]
  },
  {
   "cell_type": "markdown",
   "metadata": {},
   "source": [
    "Scatter plot"
   ]
  },
  {
   "cell_type": "code",
   "execution_count": null,
   "metadata": {},
   "outputs": [],
   "source": [
    "rank_no_students = merged_df.set_index('Inter_Stud_Unis').sort_index()\n",
    "rank_no_students['Tot_Stud_Unis'].plot(title='')\n",
    "rank_no_students['Tot_Mem_Unis'].plot(title='')\n",
    "plt.show()"
   ]
  },
  {
   "cell_type": "code",
   "execution_count": null,
   "metadata": {
    "collapsed": true
   },
   "outputs": [],
   "source": []
  }
 ],
 "metadata": {
  "kernelspec": {
   "display_name": "Python [default]",
   "language": "python",
   "name": "python3"
  },
  "language_info": {
   "codemirror_mode": {
    "name": "ipython",
    "version": 3
   },
   "file_extension": ".py",
   "mimetype": "text/x-python",
   "name": "python",
   "nbconvert_exporter": "python",
   "pygments_lexer": "ipython3",
   "version": "3.5.4"
  }
 },
 "nbformat": 4,
 "nbformat_minor": 2
}

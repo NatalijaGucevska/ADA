{
 "cells": [
  {
   "cell_type": "markdown",
   "metadata": {},
   "source": [
    "# HW2 - Data From The Web"
   ]
  },
  {
   "cell_type": "markdown",
   "metadata": {},
   "source": [
    "## 1. Web Scraping "
   ]
  },
  {
   "cell_type": "markdown",
   "metadata": {},
   "source": [
    "We will first write all functions needed to extract the data from the websites and demonstrate how they work. Then we will complete the assignment using them."
   ]
  },
  {
   "cell_type": "code",
   "execution_count": 1,
   "metadata": {
    "collapsed": true
   },
   "outputs": [],
   "source": [
    "import requests as rq\n",
    "import numpy as np\n",
    "from bs4 import BeautifulSoup\n",
    "import pandas as pd\n",
    "import seaborn\n",
    "import pickle\n",
    "%matplotlib inline\n",
    "\n",
    "TOP_UNI_URL = 'https://www.topuniversities.com'\n",
    "TIMES_URL = 'https://www.timeshighereducation.com'"
   ]
  },
  {
   "cell_type": "markdown",
   "metadata": {},
   "source": [
    "### 1.1 Top Universities Website"
   ]
  },
  {
   "cell_type": "markdown",
   "metadata": {},
   "source": [
    "After a quick look with Postman on the webside, we realised that the ranking table data were not given on the page but retrived and added with a script on a json file. We then had to directly get this file to obtain the information we need for this assignment."
   ]
  },
  {
   "cell_type": "code",
   "execution_count": 2,
   "metadata": {
    "collapsed": true
   },
   "outputs": [],
   "source": [
    "TOP_WORLD_RANKING_FILE = TOP_UNI_URL + '/sites/default/files/qs-rankings-data/357051.txt'\n",
    "ranking_top_uni = rq.get(TOP_WORLD_RANKING_FILE).json().get('data')"
   ]
  },
  {
   "cell_type": "markdown",
   "metadata": {},
   "source": [
    "The file returned by the request is a simple json object with the list of universities ordered by rank after the 'Data' tag."
   ]
  },
  {
   "cell_type": "code",
   "execution_count": 3,
   "metadata": {
    "scrolled": true
   },
   "outputs": [
    {
     "name": "stdout",
     "output_type": "stream",
     "text": [
      "[{'Name': 'Massachusetts Institute of Technology (MIT)', 'Rank': '1', 'Country': 'United States', 'Region': 'North America', 'Url': '/universities/massachusetts-institute-technology-mit'}, {'Name': 'Stanford University', 'Rank': '2', 'Country': 'United States', 'Region': 'North America', 'Url': '/universities/stanford-university'}, {'Name': 'Harvard University', 'Rank': '3', 'Country': 'United States', 'Region': 'North America', 'Url': '/universities/harvard-university'}, {'Name': 'California Institute of Technology (Caltech)', 'Rank': '4', 'Country': 'United States', 'Region': 'North America', 'Url': '/universities/california-institute-technology-caltech'}, {'Name': 'University of Cambridge', 'Rank': '5', 'Country': 'United Kingdom', 'Region': 'Europe', 'Url': '/universities/university-cambridge'}]\n"
     ]
    }
   ],
   "source": [
    "top_unis = []\n",
    "for uni in ranking_top_uni[:200]:\n",
    "    top_unis.append({'Name' : uni.get('title'), 'Rank' : uni.get('rank_display'), \n",
    "                     'Country' : uni.get('country'), 'Region' : uni.get('region'), 'Url' : uni.get('url')})\n",
    "print(top_unis[:5])"
   ]
  },
  {
   "cell_type": "markdown",
   "metadata": {},
   "source": [
    "Here are the functions to obtain the amount of faculty members (total & international) and students (total & international)"
   ]
  },
  {
   "cell_type": "code",
   "execution_count": 5,
   "metadata": {
    "collapsed": true
   },
   "outputs": [],
   "source": [
    "def get_num_members(soup):\n",
    "    return int(soup.find('div', class_='total faculty').find('div', class_='number').text.strip().replace(',', '')),\\\n",
    "           int(soup.find('div', class_='inter faculty').find('div', class_='number').text.strip().replace(',', ''))"
   ]
  },
  {
   "cell_type": "code",
   "execution_count": 6,
   "metadata": {},
   "outputs": [
    {
     "name": "stdout",
     "output_type": "stream",
     "text": [
      "EPFL number of faculty members (total, international:) 1695 1300\n"
     ]
    }
   ],
   "source": [
    "page = rq.get(TOP_UNI_URL + '/universities/ecole-polytechnique-fédérale-de-lausanne-epfl')\n",
    "soup = BeautifulSoup(page.text, 'html.parser')\n",
    "tot, inter = get_num_members(soup)\n",
    "print('EPFL number of faculty members (total, international:)', tot, inter)"
   ]
  },
  {
   "cell_type": "code",
   "execution_count": 7,
   "metadata": {
    "collapsed": true
   },
   "outputs": [],
   "source": [
    "def get_num_students(soup):\n",
    "    return int(soup.find('div', class_='total student').find('div', class_='number').text.strip().replace(',', '')),\\\n",
    "           int(soup.find('div', class_='total inter').find('div', class_='number').text.strip().replace(',', ''))"
   ]
  },
  {
   "cell_type": "code",
   "execution_count": 8,
   "metadata": {},
   "outputs": [
    {
     "name": "stdout",
     "output_type": "stream",
     "text": [
      "EPFL number of students (total, international: 10343 5896\n"
     ]
    }
   ],
   "source": [
    "tot, inter = get_num_students(soup)\n",
    "print('EPFL number of students (total, international:', tot, inter)"
   ]
  },
  {
   "cell_type": "code",
   "execution_count": 10,
   "metadata": {
    "scrolled": true
   },
   "outputs": [
    {
     "name": "stdout",
     "output_type": "stream",
     "text": [
      "Could not fetch data from: New York University (NYU)\n",
      "Could not fetch data from: Indian Institute of Science (IISc) Bangalore\n"
     ]
    }
   ],
   "source": [
    "problematic_uni = []\n",
    "for uni in top_unis:\n",
    "    page = rq.get(TOP_UNI_URL + uni['Url'])\n",
    "    soup = BeautifulSoup(page.text, 'html.parser')\n",
    "    try:\n",
    "        tot_mem, inter_mem = get_num_members(soup)\n",
    "        tot_stud, inter_stud = get_num_students(soup)\n",
    "        uni['Tot_Mem'] = tot_mem\n",
    "        uni['Inter_Mem'] = inter_mem\n",
    "        uni['Tot_Stud'] = tot_stud\n",
    "        uni['Inter_Stud'] = inter_stud\n",
    "    except AttributeError: \n",
    "        problematic_uni.append(top_unis.index(uni))\n",
    "        print('Could not fetch data from:', uni['Name'])"
   ]
  },
  {
   "cell_type": "markdown",
   "metadata": {},
   "source": [
    "As we can see two universities don't have the data on the topuniversities website so we will add them by hand watching on the website our self."
   ]
  },
  {
   "cell_type": "code",
   "execution_count": 11,
   "metadata": {
    "collapsed": true
   },
   "outputs": [],
   "source": [
    "nyu = top_unis[problematic_uni[0]]\n",
    "nyu['Tot_Mem'] = 7717\n",
    "nyu['Inter_Mem'] = 604\n",
    "nyu['Tot_Stud'] = 43860\n",
    "nyu['Inter_Stud'] = 11593\n",
    "\n",
    "bang = top_unis[problematic_uni[1]]\n",
    "bang['Tot_Mem'] = 423\n",
    "bang['Inter_Mem'] = 0\n",
    "bang['Tot_Stud'] = 4071\n",
    "bang['Inter_Stud'] = 47"
   ]
  },
  {
   "cell_type": "code",
   "execution_count": 12,
   "metadata": {
    "scrolled": true
   },
   "outputs": [
    {
     "name": "stdout",
     "output_type": "stream",
     "text": [
      "[{'Name': 'Massachusetts Institute of Technology (MIT)', 'Rank': '1', 'Country': 'United States', 'Region': 'North America', 'Url': '/universities/massachusetts-institute-technology-mit', 'Tot_Mem': 2982, 'Inter_Mem': 1679, 'Tot_Stud': 11067, 'Inter_Stud': 3717}, {'Name': 'Stanford University', 'Rank': '2', 'Country': 'United States', 'Region': 'North America', 'Url': '/universities/stanford-university', 'Tot_Mem': 4285, 'Inter_Mem': 2042, 'Tot_Stud': 15878, 'Inter_Stud': 3611}, {'Name': 'Harvard University', 'Rank': '3', 'Country': 'United States', 'Region': 'North America', 'Url': '/universities/harvard-university', 'Tot_Mem': 4350, 'Inter_Mem': 1311, 'Tot_Stud': 22429, 'Inter_Stud': 5266}, {'Name': 'California Institute of Technology (Caltech)', 'Rank': '4', 'Country': 'United States', 'Region': 'North America', 'Url': '/universities/california-institute-technology-caltech', 'Tot_Mem': 953, 'Inter_Mem': 350, 'Tot_Stud': 2255, 'Inter_Stud': 647}, {'Name': 'University of Cambridge', 'Rank': '5', 'Country': 'United Kingdom', 'Region': 'Europe', 'Url': '/universities/university-cambridge', 'Tot_Mem': 5490, 'Inter_Mem': 2278, 'Tot_Stud': 18770, 'Inter_Stud': 6699}]\n"
     ]
    }
   ],
   "source": [
    "print(top_unis[:5])"
   ]
  },
  {
   "cell_type": "markdown",
   "metadata": {},
   "source": [
    "Now we will save those data in a pickle file to be able to use them without requesting everytime"
   ]
  },
  {
   "cell_type": "code",
   "execution_count": 13,
   "metadata": {
    "collapsed": true
   },
   "outputs": [],
   "source": [
    "with open('topunis.pickle', 'wb') as out:\n",
    "    pickle.dump(top_unis, out)"
   ]
  },
  {
   "cell_type": "code",
   "execution_count": 86,
   "metadata": {},
   "outputs": [],
   "source": [
    "top_uni_df = pd.DataFrame.from_dict(top_unis).set_index('Rank').drop('Url', axis=1)\n",
    "top_uni_df = top_uni_df[['Name', 'Country', 'Region', 'Tot_Stud', 'Inter_Stud', 'Tot_Mem', 'Inter_Mem']]"
   ]
  },
  {
   "cell_type": "code",
   "execution_count": 88,
   "metadata": {},
   "outputs": [
    {
     "data": {
      "text/html": [
       "<div>\n",
       "<style>\n",
       "    .dataframe thead tr:only-child th {\n",
       "        text-align: right;\n",
       "    }\n",
       "\n",
       "    .dataframe thead th {\n",
       "        text-align: left;\n",
       "    }\n",
       "\n",
       "    .dataframe tbody tr th {\n",
       "        vertical-align: top;\n",
       "    }\n",
       "</style>\n",
       "<table border=\"1\" class=\"dataframe\">\n",
       "  <thead>\n",
       "    <tr style=\"text-align: right;\">\n",
       "      <th></th>\n",
       "      <th>Name</th>\n",
       "      <th>Country</th>\n",
       "      <th>Region</th>\n",
       "      <th>Tot_Stud</th>\n",
       "      <th>Inter_Stud</th>\n",
       "      <th>Tot_Mem</th>\n",
       "      <th>Inter_Mem</th>\n",
       "    </tr>\n",
       "    <tr>\n",
       "      <th>Rank</th>\n",
       "      <th></th>\n",
       "      <th></th>\n",
       "      <th></th>\n",
       "      <th></th>\n",
       "      <th></th>\n",
       "      <th></th>\n",
       "      <th></th>\n",
       "    </tr>\n",
       "  </thead>\n",
       "  <tbody>\n",
       "    <tr>\n",
       "      <th>1</th>\n",
       "      <td>Massachusetts Institute of Technology (MIT)</td>\n",
       "      <td>United States</td>\n",
       "      <td>North America</td>\n",
       "      <td>11067</td>\n",
       "      <td>3717</td>\n",
       "      <td>2982</td>\n",
       "      <td>1679</td>\n",
       "    </tr>\n",
       "    <tr>\n",
       "      <th>2</th>\n",
       "      <td>Stanford University</td>\n",
       "      <td>United States</td>\n",
       "      <td>North America</td>\n",
       "      <td>15878</td>\n",
       "      <td>3611</td>\n",
       "      <td>4285</td>\n",
       "      <td>2042</td>\n",
       "    </tr>\n",
       "    <tr>\n",
       "      <th>3</th>\n",
       "      <td>Harvard University</td>\n",
       "      <td>United States</td>\n",
       "      <td>North America</td>\n",
       "      <td>22429</td>\n",
       "      <td>5266</td>\n",
       "      <td>4350</td>\n",
       "      <td>1311</td>\n",
       "    </tr>\n",
       "    <tr>\n",
       "      <th>4</th>\n",
       "      <td>California Institute of Technology (Caltech)</td>\n",
       "      <td>United States</td>\n",
       "      <td>North America</td>\n",
       "      <td>2255</td>\n",
       "      <td>647</td>\n",
       "      <td>953</td>\n",
       "      <td>350</td>\n",
       "    </tr>\n",
       "    <tr>\n",
       "      <th>5</th>\n",
       "      <td>University of Cambridge</td>\n",
       "      <td>United Kingdom</td>\n",
       "      <td>Europe</td>\n",
       "      <td>18770</td>\n",
       "      <td>6699</td>\n",
       "      <td>5490</td>\n",
       "      <td>2278</td>\n",
       "    </tr>\n",
       "  </tbody>\n",
       "</table>\n",
       "</div>"
      ],
      "text/plain": [
       "                                              Name         Country  \\\n",
       "Rank                                                                 \n",
       "1      Massachusetts Institute of Technology (MIT)   United States   \n",
       "2                              Stanford University   United States   \n",
       "3                               Harvard University   United States   \n",
       "4     California Institute of Technology (Caltech)   United States   \n",
       "5                          University of Cambridge  United Kingdom   \n",
       "\n",
       "             Region  Tot_Stud  Inter_Stud  Tot_Mem  Inter_Mem  \n",
       "Rank                                                           \n",
       "1     North America     11067        3717     2982       1679  \n",
       "2     North America     15878        3611     4285       2042  \n",
       "3     North America     22429        5266     4350       1311  \n",
       "4     North America      2255         647      953        350  \n",
       "5            Europe     18770        6699     5490       2278  "
      ]
     },
     "execution_count": 88,
     "metadata": {},
     "output_type": "execute_result"
    }
   ],
   "source": [
    "top_uni_df.head()"
   ]
  },
  {
   "cell_type": "markdown",
   "metadata": {},
   "source": [
    "### 1.1.2 Times Higher Education Website"
   ]
  },
  {
   "cell_type": "code",
   "execution_count": 69,
   "metadata": {},
   "outputs": [
    {
     "name": "stdout",
     "output_type": "stream",
     "text": [
      "[{'rank_order': '10', 'rank': '1', 'name': 'University of Oxford', 'scores_overall': '94.3', 'scores_overall_rank': '10', 'scores_teaching': '86.7', 'scores_teaching_rank': '5', 'scores_research': '99.5', 'scores_research_rank': '1', 'scores_citations': '99.1', 'scores_citations_rank': '15', 'scores_industry_income': '63.7', 'scores_industry_income_rank': '169', 'scores_international_outlook': '95.0', 'scores_international_outlook_rank': '24', 'record_type': 'master_account', 'member_level': '0', 'url': '/world-university-rankings/university-oxford', 'nid': 468, 'location': 'United Kingdom', 'stats_number_students': '20,409', 'stats_student_staff_ratio': '11.2', 'stats_pc_intl_students': '38%', 'stats_female_male_ratio': '46 : 54', 'aliases': 'University of Oxford', 'subjects_offered': 'Archaeology,Art, Performing Arts & Design,Biological Sciences,Business & Management,Chemical Engineering,Chemistry,Civil Engineering,Computer Science,Economics & Econometrics,Electrical & Electronic Engineering,General Engineering,Geography,Geology, Environmental, Earth & Marine Sciences,History, Philosophy & Theology,Languages, Literatures and Linguistics,Law,Mathematics & Statistics,Mechanical & Aerospace Engineering,Medicine & Dentistry,Physics & Astronomy,Psychology'}]\n"
     ]
    }
   ],
   "source": [
    "TOP_TIMES_RANKING_FILE = TIMES_URL + '/sites/default/files/the_data_rankings/world_university_rankings_2018_limit0_369a9045a203e176392b9fb8f8c1cb2a.json'\n",
    "ranking_top_times = rq.get(TOP_TIMES_RANKING_FILE).json().get('data')\n",
    "print(ranking_top_times[:1])"
   ]
  },
  {
   "cell_type": "markdown",
   "metadata": {},
   "source": [
    "The file returned by the request is a simple json object with the list of universities ordered by rank after the 'Data' tag. But this time the *Region* is not given by the website, no even on the specific pages. But this time it contains everything else, no need to scrap the specific pages."
   ]
  },
  {
   "cell_type": "code",
   "execution_count": 94,
   "metadata": {},
   "outputs": [
    {
     "name": "stdout",
     "output_type": "stream",
     "text": [
      "[{'Name': 'University of Oxford', 'Rank': '1', 'Country': 'United Kingdom', 'Region': '', 'Tot_Stud': 20409, 'Inter_Stud': 7755, 'Tot_Mem': 1822, 'Inter_Mem': None}, {'Name': 'University of Cambridge', 'Rank': '2', 'Country': 'United Kingdom', 'Region': '', 'Tot_Stud': 18389, 'Inter_Stud': 6436, 'Tot_Mem': 1687, 'Inter_Mem': None}, {'Name': 'California Institute of Technology', 'Rank': '=3', 'Country': 'United States', 'Region': '', 'Tot_Stud': 2209, 'Inter_Stud': 596, 'Tot_Mem': 340, 'Inter_Mem': None}, {'Name': 'Stanford University', 'Rank': '=3', 'Country': 'United States', 'Region': '', 'Tot_Stud': 15845, 'Inter_Stud': 3486, 'Tot_Mem': 2113, 'Inter_Mem': None}, {'Name': 'Massachusetts Institute of Technology', 'Rank': '5', 'Country': 'United States', 'Region': '', 'Tot_Stud': 11177, 'Inter_Stud': 3800, 'Tot_Mem': 1285, 'Inter_Mem': None}]\n"
     ]
    }
   ],
   "source": [
    "top_times = []\n",
    "for uni in ranking_top_times[:200]:\n",
    "    top_times.append({'Name' : uni.get('name'), 'Rank' : uni.get('rank'), \n",
    "                      'Country' : uni.get('location'), 'Region' : '',\n",
    "                      'Tot_Stud' : int(uni.get('stats_number_students').replace(',', '')), \n",
    "                      'Inter_Stud' : round(int(uni.get('stats_number_students').replace(',', '')) * int(uni.get('stats_pc_intl_students').replace('%', '')) / 100),\n",
    "                      'Tot_Mem' : round(int(uni.get('stats_number_students').replace(',', '')) / float(uni.get('stats_student_staff_ratio'))),\n",
    "                      'Inter_Mem' : None})\n",
    "print(top_times[:5])"
   ]
  },
  {
   "cell_type": "markdown",
   "metadata": {},
   "source": [
    "Now we will save those data in a pickle file to be able to use them without requesting everytime"
   ]
  },
  {
   "cell_type": "code",
   "execution_count": 95,
   "metadata": {
    "collapsed": true
   },
   "outputs": [],
   "source": [
    "with open('toptimes.pickle', 'wb') as out:\n",
    "    pickle.dump(top_times, out)"
   ]
  },
  {
   "cell_type": "code",
   "execution_count": 98,
   "metadata": {},
   "outputs": [],
   "source": [
    "top_times_df = pd.DataFrame.from_dict(top_times).set_index('Rank')\n",
    "top_times_df = top_times_df[['Name', 'Country', 'Region', 'Tot_Stud', 'Inter_Stud', 'Tot_Mem', 'Inter_Mem']]"
   ]
  },
  {
   "cell_type": "code",
   "execution_count": 100,
   "metadata": {},
   "outputs": [
    {
     "data": {
      "text/html": [
       "<div>\n",
       "<style>\n",
       "    .dataframe thead tr:only-child th {\n",
       "        text-align: right;\n",
       "    }\n",
       "\n",
       "    .dataframe thead th {\n",
       "        text-align: left;\n",
       "    }\n",
       "\n",
       "    .dataframe tbody tr th {\n",
       "        vertical-align: top;\n",
       "    }\n",
       "</style>\n",
       "<table border=\"1\" class=\"dataframe\">\n",
       "  <thead>\n",
       "    <tr style=\"text-align: right;\">\n",
       "      <th></th>\n",
       "      <th>Name</th>\n",
       "      <th>Country</th>\n",
       "      <th>Region</th>\n",
       "      <th>Tot_Stud</th>\n",
       "      <th>Inter_Stud</th>\n",
       "      <th>Tot_Mem</th>\n",
       "      <th>Inter_Mem</th>\n",
       "    </tr>\n",
       "    <tr>\n",
       "      <th>Rank</th>\n",
       "      <th></th>\n",
       "      <th></th>\n",
       "      <th></th>\n",
       "      <th></th>\n",
       "      <th></th>\n",
       "      <th></th>\n",
       "      <th></th>\n",
       "    </tr>\n",
       "  </thead>\n",
       "  <tbody>\n",
       "    <tr>\n",
       "      <th>1</th>\n",
       "      <td>University of Oxford</td>\n",
       "      <td>United Kingdom</td>\n",
       "      <td></td>\n",
       "      <td>20409</td>\n",
       "      <td>7755</td>\n",
       "      <td>1822</td>\n",
       "      <td>None</td>\n",
       "    </tr>\n",
       "    <tr>\n",
       "      <th>2</th>\n",
       "      <td>University of Cambridge</td>\n",
       "      <td>United Kingdom</td>\n",
       "      <td></td>\n",
       "      <td>18389</td>\n",
       "      <td>6436</td>\n",
       "      <td>1687</td>\n",
       "      <td>None</td>\n",
       "    </tr>\n",
       "    <tr>\n",
       "      <th>=3</th>\n",
       "      <td>California Institute of Technology</td>\n",
       "      <td>United States</td>\n",
       "      <td></td>\n",
       "      <td>2209</td>\n",
       "      <td>596</td>\n",
       "      <td>340</td>\n",
       "      <td>None</td>\n",
       "    </tr>\n",
       "    <tr>\n",
       "      <th>=3</th>\n",
       "      <td>Stanford University</td>\n",
       "      <td>United States</td>\n",
       "      <td></td>\n",
       "      <td>15845</td>\n",
       "      <td>3486</td>\n",
       "      <td>2113</td>\n",
       "      <td>None</td>\n",
       "    </tr>\n",
       "    <tr>\n",
       "      <th>5</th>\n",
       "      <td>Massachusetts Institute of Technology</td>\n",
       "      <td>United States</td>\n",
       "      <td></td>\n",
       "      <td>11177</td>\n",
       "      <td>3800</td>\n",
       "      <td>1285</td>\n",
       "      <td>None</td>\n",
       "    </tr>\n",
       "  </tbody>\n",
       "</table>\n",
       "</div>"
      ],
      "text/plain": [
       "                                       Name         Country Region  Tot_Stud  \\\n",
       "Rank                                                                           \n",
       "1                      University of Oxford  United Kingdom            20409   \n",
       "2                   University of Cambridge  United Kingdom            18389   \n",
       "=3       California Institute of Technology   United States             2209   \n",
       "=3                      Stanford University   United States            15845   \n",
       "5     Massachusetts Institute of Technology   United States            11177   \n",
       "\n",
       "      Inter_Stud  Tot_Mem Inter_Mem  \n",
       "Rank                                 \n",
       "1           7755     1822      None  \n",
       "2           6436     1687      None  \n",
       "=3           596      340      None  \n",
       "=3          3486     2113      None  \n",
       "5           3800     1285      None  "
      ]
     },
     "execution_count": 100,
     "metadata": {},
     "output_type": "execute_result"
    }
   ],
   "source": [
    "top_times_df.head()"
   ]
  },
  {
   "cell_type": "code",
   "execution_count": null,
   "metadata": {
    "collapsed": true
   },
   "outputs": [],
   "source": []
  }
 ],
 "metadata": {
  "kernelspec": {
   "display_name": "Python 3",
   "language": "python",
   "name": "python3"
  },
  "language_info": {
   "codemirror_mode": {
    "name": "ipython",
    "version": 3
   },
   "file_extension": ".py",
   "mimetype": "text/x-python",
   "name": "python",
   "nbconvert_exporter": "python",
   "pygments_lexer": "ipython3",
   "version": "3.6.1"
  }
 },
 "nbformat": 4,
 "nbformat_minor": 2
}

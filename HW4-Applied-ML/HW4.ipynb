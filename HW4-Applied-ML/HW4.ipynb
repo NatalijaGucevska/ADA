{
 "cells": [
  {
   "cell_type": "markdown",
   "metadata": {},
   "source": [
    "# HOMEWORK 4 - APPLIED ML"
   ]
  },
  {
   "cell_type": "code",
   "execution_count": 167,
   "metadata": {
    "collapsed": true
   },
   "outputs": [],
   "source": [
    "import pandas as pd\n",
    "import numpy as np\n",
    "import matplotlib.pyplot as plt\n",
    "from sklearn import linear_model"
   ]
  },
  {
   "cell_type": "markdown",
   "metadata": {},
   "source": [
    "## 1. Propensity score matching"
   ]
  },
  {
   "cell_type": "code",
   "execution_count": 60,
   "metadata": {},
   "outputs": [
    {
     "data": {
      "text/html": [
       "<div>\n",
       "<style>\n",
       "    .dataframe thead tr:only-child th {\n",
       "        text-align: right;\n",
       "    }\n",
       "\n",
       "    .dataframe thead th {\n",
       "        text-align: left;\n",
       "    }\n",
       "\n",
       "    .dataframe tbody tr th {\n",
       "        vertical-align: top;\n",
       "    }\n",
       "</style>\n",
       "<table border=\"1\" class=\"dataframe\">\n",
       "  <thead>\n",
       "    <tr style=\"text-align: right;\">\n",
       "      <th></th>\n",
       "      <th>treat</th>\n",
       "      <th>age</th>\n",
       "      <th>educ</th>\n",
       "      <th>black</th>\n",
       "      <th>hispan</th>\n",
       "      <th>married</th>\n",
       "      <th>nodegree</th>\n",
       "      <th>re74</th>\n",
       "      <th>re75</th>\n",
       "      <th>re78</th>\n",
       "    </tr>\n",
       "    <tr>\n",
       "      <th>id</th>\n",
       "      <th></th>\n",
       "      <th></th>\n",
       "      <th></th>\n",
       "      <th></th>\n",
       "      <th></th>\n",
       "      <th></th>\n",
       "      <th></th>\n",
       "      <th></th>\n",
       "      <th></th>\n",
       "      <th></th>\n",
       "    </tr>\n",
       "  </thead>\n",
       "  <tbody>\n",
       "    <tr>\n",
       "      <th>NSW1</th>\n",
       "      <td>1</td>\n",
       "      <td>37</td>\n",
       "      <td>11</td>\n",
       "      <td>1</td>\n",
       "      <td>0</td>\n",
       "      <td>1</td>\n",
       "      <td>1</td>\n",
       "      <td>0.0</td>\n",
       "      <td>0.0</td>\n",
       "      <td>9930.0460</td>\n",
       "    </tr>\n",
       "    <tr>\n",
       "      <th>NSW2</th>\n",
       "      <td>1</td>\n",
       "      <td>22</td>\n",
       "      <td>9</td>\n",
       "      <td>0</td>\n",
       "      <td>1</td>\n",
       "      <td>0</td>\n",
       "      <td>1</td>\n",
       "      <td>0.0</td>\n",
       "      <td>0.0</td>\n",
       "      <td>3595.8940</td>\n",
       "    </tr>\n",
       "    <tr>\n",
       "      <th>NSW3</th>\n",
       "      <td>1</td>\n",
       "      <td>30</td>\n",
       "      <td>12</td>\n",
       "      <td>1</td>\n",
       "      <td>0</td>\n",
       "      <td>0</td>\n",
       "      <td>0</td>\n",
       "      <td>0.0</td>\n",
       "      <td>0.0</td>\n",
       "      <td>24909.4500</td>\n",
       "    </tr>\n",
       "    <tr>\n",
       "      <th>NSW4</th>\n",
       "      <td>1</td>\n",
       "      <td>27</td>\n",
       "      <td>11</td>\n",
       "      <td>1</td>\n",
       "      <td>0</td>\n",
       "      <td>0</td>\n",
       "      <td>1</td>\n",
       "      <td>0.0</td>\n",
       "      <td>0.0</td>\n",
       "      <td>7506.1460</td>\n",
       "    </tr>\n",
       "    <tr>\n",
       "      <th>NSW5</th>\n",
       "      <td>1</td>\n",
       "      <td>33</td>\n",
       "      <td>8</td>\n",
       "      <td>1</td>\n",
       "      <td>0</td>\n",
       "      <td>0</td>\n",
       "      <td>1</td>\n",
       "      <td>0.0</td>\n",
       "      <td>0.0</td>\n",
       "      <td>289.7899</td>\n",
       "    </tr>\n",
       "  </tbody>\n",
       "</table>\n",
       "</div>"
      ],
      "text/plain": [
       "      treat  age  educ  black  hispan  married  nodegree  re74  re75  \\\n",
       "id                                                                     \n",
       "NSW1      1   37    11      1       0        1         1   0.0   0.0   \n",
       "NSW2      1   22     9      0       1        0         1   0.0   0.0   \n",
       "NSW3      1   30    12      1       0        0         0   0.0   0.0   \n",
       "NSW4      1   27    11      1       0        0         1   0.0   0.0   \n",
       "NSW5      1   33     8      1       0        0         1   0.0   0.0   \n",
       "\n",
       "            re78  \n",
       "id                \n",
       "NSW1   9930.0460  \n",
       "NSW2   3595.8940  \n",
       "NSW3  24909.4500  \n",
       "NSW4   7506.1460  \n",
       "NSW5    289.7899  "
      ]
     },
     "execution_count": 60,
     "metadata": {},
     "output_type": "execute_result"
    }
   ],
   "source": [
    "#loading data\n",
    "lalonde_df = pd.read_csv('lalonde.csv').set_index('id')\n",
    "lalonde_df.head()"
   ]
  },
  {
   "cell_type": "markdown",
   "metadata": {},
   "source": [
    "### 1.1. A naive analysis"
   ]
  },
  {
   "cell_type": "code",
   "execution_count": 61,
   "metadata": {},
   "outputs": [],
   "source": [
    "treated = lalonde_df.loc[lalonde_df['treat'] == 1]\n",
    "not_treated = lalonde_df.loc[lalonde_df['treat'] == 0]"
   ]
  },
  {
   "cell_type": "code",
   "execution_count": 62,
   "metadata": {},
   "outputs": [
    {
     "data": {
      "text/plain": [
       "count      185.000000\n",
       "mean      6349.143530\n",
       "std       7867.402218\n",
       "min          0.000000\n",
       "25%        485.229800\n",
       "50%       4232.309000\n",
       "75%       9642.999000\n",
       "max      60307.930000\n",
       "Name: re78, dtype: float64"
      ]
     },
     "execution_count": 62,
     "metadata": {},
     "output_type": "execute_result"
    }
   ],
   "source": [
    "treated['re78'].describe()"
   ]
  },
  {
   "cell_type": "code",
   "execution_count": 63,
   "metadata": {},
   "outputs": [
    {
     "data": {
      "text/plain": [
       "count      429.000000\n",
       "mean      6984.169742\n",
       "std       7294.161791\n",
       "min          0.000000\n",
       "25%        220.181300\n",
       "50%       4975.505000\n",
       "75%      11688.820000\n",
       "max      25564.670000\n",
       "Name: re78, dtype: float64"
      ]
     },
     "execution_count": 63,
     "metadata": {},
     "output_type": "execute_result"
    }
   ],
   "source": [
    "not_treated['re78'].describe()"
   ]
  },
  {
   "cell_type": "code",
   "execution_count": 138,
   "metadata": {},
   "outputs": [
    {
     "data": {
      "image/png": "[encoded data removed]",
      "text/plain": [
       "<matplotlib.figure.Figure at 0x10e878c50>"
      ]
     },
     "metadata": {},
     "output_type": "display_data"
    },
    {
     "data": {
      "image/png": "[encoded data removed]",
      "text/plain": [
       "<matplotlib.figure.Figure at 0x10f9c90f0>"
      ]
     },
     "metadata": {},
     "output_type": "display_data"
    }
   ],
   "source": [
    "treated['re78'].plot(kind='hist',  color='blue', title='Treated (blue) - Not treated (red)')\n",
    "not_treated['re78'].plot(kind='hist', color='red', alpha=0.6)\n",
    "plt.show()\n",
    "\n",
    "treated['re78'].sort_values(ascending=False).plot(color='blue', title='Treated (blue) - Not treated (red)')\n",
    "not_treated['re78'].sort_values(ascending=False).plot(color='red')\n",
    "plt.show()"
   ]
  },
  {
   "cell_type": "markdown",
   "metadata": {},
   "source": [
    "Here a naive \"researcher\" might conclude that the treatment doesn't work. As the average income of the not treated group is higher than the the one form the treated group. But he/she could also conclude that if you are part of the few *lucky* ones in the treated group, you will have a much higher income than the people which are not getting the training."
   ]
  },
  {
   "cell_type": "markdown",
   "metadata": {},
   "source": [
    "### 1.2. A closer look at the data"
   ]
  },
  {
   "cell_type": "markdown",
   "metadata": {},
   "source": [
    "We will now compare the distribution of real income values but this time for each year, ages and education level. Comparing the 1/0 values of the race, marriage and treatment does not make much sens."
   ]
  },
  {
   "cell_type": "code",
   "execution_count": 121,
   "metadata": {},
   "outputs": [
    {
     "data": {
      "image/png": "[encoded data removed]",
      "text/plain": [
       "<matplotlib.figure.Figure at 0x10f3a0c18>"
      ]
     },
     "metadata": {},
     "output_type": "display_data"
    },
    {
     "data": {
      "image/png": "[encoded data removed]",
      "text/plain": [
       "<matplotlib.figure.Figure at 0x10f6eea20>"
      ]
     },
     "metadata": {},
     "output_type": "display_data"
    }
   ],
   "source": [
    "treated['re74'].sort_values(ascending=False).plot(color='blue', title='Distribution of RE for treatment group per year', legend=True)\n",
    "treated['re75'].sort_values(ascending=False).plot(color='green', legend=True)\n",
    "treated['re78'].sort_values(ascending=False).plot(color='red', legend=True)\n",
    "plt.show()\n",
    "\n",
    "not_treated['re74'].sort_values(ascending=False).plot(color='blue', title='Distribution of RE for not treated group per year', legend=True)\n",
    "not_treated['re75'].sort_values(ascending=False).plot(color='green', legend=True)\n",
    "not_treated['re78'].sort_values(ascending=False).plot(color='black', legend=True)\n",
    "plt.show()"
   ]
  },
  {
   "cell_type": "markdown",
   "metadata": {},
   "source": [
    "It would seem now (for the less naïve researcher) that the treatment actually works as we see the number of unemployed person (with real income = 0.0) decrease much faster in the treated group as in the other. To confirm this intuition let's print the amount of unemployed person in both groups."
   ]
  },
  {
   "cell_type": "code",
   "execution_count": 107,
   "metadata": {},
   "outputs": [
    {
     "name": "stdout",
     "output_type": "stream",
     "text": [
      "Unemployed person in Treated group per year:\n",
      " re74    131\n",
      "re75    111\n",
      "re78     45\n",
      "dtype: int64\n",
      "Unemployed person in Not-treated group per year:\n",
      " re74    112\n",
      "re75    134\n",
      "re78     98\n",
      "dtype: int64\n"
     ]
    }
   ],
   "source": [
    "print('Unemployed person in Treated group per year:\\n',(treated[['re74', 're75', 're78']] == 0).astype(int).sum(axis=0))\n",
    "print('Unemployed person in Not-treated group per year:\\n',(not_treated[['re74', 're75', 're78']] == 0).astype(int).sum(axis=0))"
   ]
  },
  {
   "cell_type": "markdown",
   "metadata": {},
   "source": [
    "The education level is very similar in both groups:"
   ]
  },
  {
   "cell_type": "code",
   "execution_count": 152,
   "metadata": {
    "scrolled": false
   },
   "outputs": [
    {
     "data": {
      "text/plain": [
       "count    185.000000\n",
       "mean      10.345946\n",
       "std        2.010650\n",
       "min        4.000000\n",
       "25%        9.000000\n",
       "50%       11.000000\n",
       "75%       12.000000\n",
       "max       16.000000\n",
       "Name: educ, dtype: float64"
      ]
     },
     "execution_count": 152,
     "metadata": {},
     "output_type": "execute_result"
    }
   ],
   "source": [
    "treated['educ'].describe()"
   ]
  },
  {
   "cell_type": "code",
   "execution_count": 153,
   "metadata": {},
   "outputs": [
    {
     "data": {
      "text/plain": [
       "count    429.000000\n",
       "mean      10.235431\n",
       "std        2.855238\n",
       "min        0.000000\n",
       "25%        9.000000\n",
       "50%       11.000000\n",
       "75%       12.000000\n",
       "max       18.000000\n",
       "Name: educ, dtype: float64"
      ]
     },
     "execution_count": 153,
     "metadata": {},
     "output_type": "execute_result"
    }
   ],
   "source": [
    "not_treated['educ'].describe()"
   ]
  },
  {
   "cell_type": "code",
   "execution_count": 154,
   "metadata": {
    "scrolled": true
   },
   "outputs": [
    {
     "data": {
      "image/png": "[encoded data removed]",
      "text/plain": [
       "<matplotlib.figure.Figure at 0x10e5f2898>"
      ]
     },
     "metadata": {},
     "output_type": "display_data"
    }
   ],
   "source": [
    "treated['educ'].plot(kind='hist', color='blue', title='Distribution of Education for Treated (blue) - Not treated (red)')\n",
    "not_treated['educ'].plot(kind='hist', color='red', alpha=0.6)\n",
    "plt.show()"
   ]
  },
  {
   "cell_type": "markdown",
   "metadata": {},
   "source": [
    "People in the treatment group seem to be a little bit younger, but this could be explained the fact that younger people might be more willing to do training programs:"
   ]
  },
  {
   "cell_type": "code",
   "execution_count": 159,
   "metadata": {},
   "outputs": [
    {
     "data": {
      "text/plain": [
       "count    185.000000\n",
       "mean      25.816216\n",
       "std        7.155019\n",
       "min       17.000000\n",
       "25%       20.000000\n",
       "50%       25.000000\n",
       "75%       29.000000\n",
       "max       48.000000\n",
       "Name: age, dtype: float64"
      ]
     },
     "execution_count": 159,
     "metadata": {},
     "output_type": "execute_result"
    }
   ],
   "source": [
    "treated['age'].describe()"
   ]
  },
  {
   "cell_type": "code",
   "execution_count": 160,
   "metadata": {},
   "outputs": [
    {
     "data": {
      "text/plain": [
       "count    429.000000\n",
       "mean      28.030303\n",
       "std       10.786653\n",
       "min       16.000000\n",
       "25%       19.000000\n",
       "50%       25.000000\n",
       "75%       35.000000\n",
       "max       55.000000\n",
       "Name: age, dtype: float64"
      ]
     },
     "execution_count": 160,
     "metadata": {},
     "output_type": "execute_result"
    }
   ],
   "source": [
    "not_treated['age'].describe()"
   ]
  },
  {
   "cell_type": "code",
   "execution_count": 161,
   "metadata": {},
   "outputs": [
    {
     "data": {
      "image/png": "[encoded data removed]",
      "text/plain": [
       "<matplotlib.figure.Figure at 0x10e530ac8>"
      ]
     },
     "metadata": {},
     "output_type": "display_data"
    }
   ],
   "source": [
    "treated['age'].plot(kind='hist', color='blue', title='Distribution of ages for Treated (blue) - Not treated (red)')\n",
    "not_treated['age'].plot(kind='hist', color='red', alpha=0.6)\n",
    "plt.show()"
   ]
  },
  {
   "cell_type": "markdown",
   "metadata": {},
   "source": [
    "In average people in the training programs tends to have a degree more often than in the other group:"
   ]
  },
  {
   "cell_type": "code",
   "execution_count": 163,
   "metadata": {},
   "outputs": [
    {
     "data": {
      "text/plain": [
       "count    185.000000\n",
       "mean       0.708108\n",
       "std        0.455867\n",
       "min        0.000000\n",
       "25%        0.000000\n",
       "50%        1.000000\n",
       "75%        1.000000\n",
       "max        1.000000\n",
       "Name: nodegree, dtype: float64"
      ]
     },
     "execution_count": 163,
     "metadata": {},
     "output_type": "execute_result"
    }
   ],
   "source": [
    "treated['nodegree'].describe()"
   ]
  },
  {
   "cell_type": "code",
   "execution_count": 164,
   "metadata": {},
   "outputs": [
    {
     "data": {
      "text/plain": [
       "count    429.000000\n",
       "mean       0.596737\n",
       "std        0.491126\n",
       "min        0.000000\n",
       "25%        0.000000\n",
       "50%        1.000000\n",
       "75%        1.000000\n",
       "max        1.000000\n",
       "Name: nodegree, dtype: float64"
      ]
     },
     "execution_count": 164,
     "metadata": {},
     "output_type": "execute_result"
    }
   ],
   "source": [
    "not_treated['nodegree'].describe()"
   ]
  },
  {
   "cell_type": "markdown",
   "metadata": {},
   "source": [
    "### 1.3. A propensity score model"
   ]
  },
  {
   "cell_type": "code",
   "execution_count": 168,
   "metadata": {},
   "outputs": [
    {
     "data": {
      "text/plain": [
       "LogisticRegression(C=1.0, class_weight=None, dual=False, fit_intercept=True,\n",
       "          intercept_scaling=1, max_iter=100, multi_class='ovr', n_jobs=1,\n",
       "          penalty='l2', random_state=None, solver='liblinear', tol=0.0001,\n",
       "          verbose=0, warm_start=False)"
      ]
     },
     "execution_count": 168,
     "metadata": {},
     "output_type": "execute_result"
    }
   ],
   "source": [
    "logistic = linear_model.LogisticRegression()\n",
    "X = lalonde_df[['age', 'educ', 'black', 'hispan', 'married', 'nodegree', 're74', 're75', 're78']]\n",
    "y = lalonde_df['treat']\n",
    "#training logistic model\n",
    "logistic.fit(X, y)"
   ]
  },
  {
   "cell_type": "markdown",
   "metadata": {},
   "source": [
    "Here is the propensity score (probability of belonging to the class 0 or 1)"
   ]
  },
  {
   "cell_type": "code",
   "execution_count": 170,
   "metadata": {},
   "outputs": [
    {
     "data": {
      "text/plain": [
       "array([[ 0.54192649,  0.45807351],\n",
       "       [ 0.84801994,  0.15198006],\n",
       "       [ 0.24903448,  0.75096552],\n",
       "       ..., \n",
       "       [ 0.89944167,  0.10055833],\n",
       "       [ 0.44954653,  0.55045347],\n",
       "       [ 0.79880343,  0.20119657]])"
      ]
     },
     "execution_count": 170,
     "metadata": {},
     "output_type": "execute_result"
    }
   ],
   "source": [
    "prop_score = logistic.predict_proba(X)\n",
    "prop_score"
   ]
  },
  {
   "cell_type": "markdown",
   "metadata": {},
   "source": [
    "### 1.4. Balancing the dataset via matching"
   ]
  },
  {
   "cell_type": "code",
   "execution_count": null,
   "metadata": {
    "collapsed": true
   },
   "outputs": [],
   "source": []
  }
 ],
 "metadata": {
  "kernelspec": {
   "display_name": "Python 3",
   "language": "python",
   "name": "python3"
  },
  "language_info": {
   "codemirror_mode": {
    "name": "ipython",
    "version": 3
   },
   "file_extension": ".py",
   "mimetype": "text/x-python",
   "name": "python",
   "nbconvert_exporter": "python",
   "pygments_lexer": "ipython3",
   "version": "3.6.1"
  }
 },
 "nbformat": 4,
 "nbformat_minor": 2
}

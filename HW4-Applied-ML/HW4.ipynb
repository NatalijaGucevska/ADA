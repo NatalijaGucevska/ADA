{
 "cells": [
  {
   "cell_type": "markdown",
   "metadata": {},
   "source": [
    "# HOMEWORK 4 - APPLIED ML"
   ]
  },
  {
   "cell_type": "code",
   "execution_count": 14,
   "metadata": {},
   "outputs": [],
   "source": [
    "import pandas as pd\n",
    "import numpy as np\n",
    "import matplotlib.pyplot as plt\n",
    "from sklearn import linear_model\n",
    "import networkx as nx\n",
    "import itertools\n",
    "import sys"
   ]
  },
  {
   "cell_type": "markdown",
   "metadata": {},
   "source": [
    "## 1. Propensity score matching\n",
    "\n",
    "Compare the distribution of the outcome variable (`re78`) between the two groups, using plots and numbers.\n",
    "To summarize and compare the distributions, you may use the techniques we discussed in lectures 4 (\"Read the stats carefully\") and 6 (\"Data visualization\").\n",
    "\n",
    "What might a naive \"researcher\" conclude from this superficial analysis?"
   ]
  },
  {
   "cell_type": "code",
   "execution_count": 4,
   "metadata": {
    "scrolled": true
   },
   "outputs": [
    {
     "data": {
      "text/html": [
       "<div>\n",
       "<table border=\"1\" class=\"dataframe\">\n",
       "  <thead>\n",
       "    <tr style=\"text-align: right;\">\n",
       "      <th></th>\n",
       "      <th>treat</th>\n",
       "      <th>age</th>\n",
       "      <th>educ</th>\n",
       "      <th>black</th>\n",
       "      <th>hispan</th>\n",
       "      <th>married</th>\n",
       "      <th>nodegree</th>\n",
       "      <th>re74</th>\n",
       "      <th>re75</th>\n",
       "      <th>re78</th>\n",
       "    </tr>\n",
       "    <tr>\n",
       "      <th>id</th>\n",
       "      <th></th>\n",
       "      <th></th>\n",
       "      <th></th>\n",
       "      <th></th>\n",
       "      <th></th>\n",
       "      <th></th>\n",
       "      <th></th>\n",
       "      <th></th>\n",
       "      <th></th>\n",
       "      <th></th>\n",
       "    </tr>\n",
       "  </thead>\n",
       "  <tbody>\n",
       "    <tr>\n",
       "      <th>NSW1</th>\n",
       "      <td>1</td>\n",
       "      <td>37</td>\n",
       "      <td>11</td>\n",
       "      <td>1</td>\n",
       "      <td>0</td>\n",
       "      <td>1</td>\n",
       "      <td>1</td>\n",
       "      <td>0.0</td>\n",
       "      <td>0.0</td>\n",
       "      <td>9930.0460</td>\n",
       "    </tr>\n",
       "    <tr>\n",
       "      <th>NSW2</th>\n",
       "      <td>1</td>\n",
       "      <td>22</td>\n",
       "      <td>9</td>\n",
       "      <td>0</td>\n",
       "      <td>1</td>\n",
       "      <td>0</td>\n",
       "      <td>1</td>\n",
       "      <td>0.0</td>\n",
       "      <td>0.0</td>\n",
       "      <td>3595.8940</td>\n",
       "    </tr>\n",
       "    <tr>\n",
       "      <th>NSW3</th>\n",
       "      <td>1</td>\n",
       "      <td>30</td>\n",
       "      <td>12</td>\n",
       "      <td>1</td>\n",
       "      <td>0</td>\n",
       "      <td>0</td>\n",
       "      <td>0</td>\n",
       "      <td>0.0</td>\n",
       "      <td>0.0</td>\n",
       "      <td>24909.4500</td>\n",
       "    </tr>\n",
       "    <tr>\n",
       "      <th>NSW4</th>\n",
       "      <td>1</td>\n",
       "      <td>27</td>\n",
       "      <td>11</td>\n",
       "      <td>1</td>\n",
       "      <td>0</td>\n",
       "      <td>0</td>\n",
       "      <td>1</td>\n",
       "      <td>0.0</td>\n",
       "      <td>0.0</td>\n",
       "      <td>7506.1460</td>\n",
       "    </tr>\n",
       "    <tr>\n",
       "      <th>NSW5</th>\n",
       "      <td>1</td>\n",
       "      <td>33</td>\n",
       "      <td>8</td>\n",
       "      <td>1</td>\n",
       "      <td>0</td>\n",
       "      <td>0</td>\n",
       "      <td>1</td>\n",
       "      <td>0.0</td>\n",
       "      <td>0.0</td>\n",
       "      <td>289.7899</td>\n",
       "    </tr>\n",
       "  </tbody>\n",
       "</table>\n",
       "</div>"
      ],
      "text/plain": [
       "      treat  age  educ  black  hispan  married  nodegree  re74  re75  \\\n",
       "id                                                                     \n",
       "NSW1      1   37    11      1       0        1         1   0.0   0.0   \n",
       "NSW2      1   22     9      0       1        0         1   0.0   0.0   \n",
       "NSW3      1   30    12      1       0        0         0   0.0   0.0   \n",
       "NSW4      1   27    11      1       0        0         1   0.0   0.0   \n",
       "NSW5      1   33     8      1       0        0         1   0.0   0.0   \n",
       "\n",
       "            re78  \n",
       "id                \n",
       "NSW1   9930.0460  \n",
       "NSW2   3595.8940  \n",
       "NSW3  24909.4500  \n",
       "NSW4   7506.1460  \n",
       "NSW5    289.7899  "
      ]
     },
     "execution_count": 4,
     "metadata": {},
     "output_type": "execute_result"
    }
   ],
   "source": [
    "#loading data\n",
    "lalonde_df = pd.read_csv('lalonde.csv').set_index('id')\n",
    "lalonde_df.head()"
   ]
  },
  {
   "cell_type": "markdown",
   "metadata": {},
   "source": [
    "### 1.1. A naive analysis"
   ]
  },
  {
   "cell_type": "code",
   "execution_count": 5,
   "metadata": {},
   "outputs": [],
   "source": [
    "treated = lalonde_df.loc[lalonde_df['treat'] == 1]\n",
    "not_treated = lalonde_df.loc[lalonde_df['treat'] == 0]"
   ]
  },
  {
   "cell_type": "code",
   "execution_count": 6,
   "metadata": {},
   "outputs": [
    {
     "data": {
      "text/plain": [
       "count      185.000000\n",
       "mean      6349.143530\n",
       "std       7867.402218\n",
       "min          0.000000\n",
       "25%        485.229800\n",
       "50%       4232.309000\n",
       "75%       9642.999000\n",
       "max      60307.930000\n",
       "Name: re78, dtype: float64"
      ]
     },
     "execution_count": 6,
     "metadata": {},
     "output_type": "execute_result"
    }
   ],
   "source": [
    "treated['re78'].describe()"
   ]
  },
  {
   "cell_type": "code",
   "execution_count": 7,
   "metadata": {},
   "outputs": [
    {
     "data": {
      "text/plain": [
       "count      429.000000\n",
       "mean      6984.169742\n",
       "std       7294.161791\n",
       "min          0.000000\n",
       "25%        220.181300\n",
       "50%       4975.505000\n",
       "75%      11688.820000\n",
       "max      25564.670000\n",
       "Name: re78, dtype: float64"
      ]
     },
     "execution_count": 7,
     "metadata": {},
     "output_type": "execute_result"
    }
   ],
   "source": [
    "not_treated['re78'].describe()"
   ]
  },
  {
   "cell_type": "code",
   "execution_count": 8,
   "metadata": {},
   "outputs": [
    {
     "data": {
      "image/png": "[encoded data removed]",
      "text/plain": [
       "<matplotlib.figure.Figure at 0x7fb33a0d0cc0>"
      ]
     },
     "metadata": {},
     "output_type": "display_data"
    },
    {
     "data": {
      "image/png": "[encoded data removed]",
      "text/plain": [
       "<matplotlib.figure.Figure at 0x7fb336c948d0>"
      ]
     },
     "metadata": {},
     "output_type": "display_data"
    }
   ],
   "source": [
    "treated['re78'].plot(kind='hist',  color='blue', title='Treated (blue) - Not treated (red)')\n",
    "not_treated['re78'].plot(kind='hist', color='red', alpha=0.6)\n",
    "plt.show()\n",
    "\n",
    "treated['re78'].sort_values(ascending=False).plot(color='blue', title='Treated (blue) - Not treated (red)')\n",
    "not_treated['re78'].sort_values(ascending=False).plot(color='red')\n",
    "plt.show()"
   ]
  },
  {
   "cell_type": "markdown",
   "metadata": {},
   "source": [
    "Here a naive \"researcher\" might conclude that the treatment doesn't work. As the average income of the not treated group is higher than the the one form the treated group. But he/she could also conclude that if you are part of the few *lucky* ones in the treated group, you will have a much higher income than the people which are not getting the training."
   ]
  },
  {
   "cell_type": "markdown",
   "metadata": {},
   "source": [
    "### 1.2. A closer look at the data"
   ]
  },
  {
   "cell_type": "markdown",
   "metadata": {},
   "source": [
    "We will now compare the distribution of real income values but this time for each year, ages and education level. Comparing the 1/0 values of the race, marriage and treatment does not make much sens."
   ]
  },
  {
   "cell_type": "code",
   "execution_count": 9,
   "metadata": {},
   "outputs": [
    {
     "data": {
      "image/png": "[encoded data removed]",
      "text/plain": [
       "<matplotlib.figure.Figure at 0x7fb336be90b8>"
      ]
     },
     "metadata": {},
     "output_type": "display_data"
    },
    {
     "data": {
      "image/png": "[encoded data removed]",
      "text/plain": [
       "<matplotlib.figure.Figure at 0x7fb336cc42b0>"
      ]
     },
     "metadata": {},
     "output_type": "display_data"
    }
   ],
   "source": [
    "treated['re74'].sort_values(ascending=False).plot(color='blue', title='Distribution of RE for treatment group per year', legend=True)\n",
    "treated['re75'].sort_values(ascending=False).plot(color='green', legend=True)\n",
    "treated['re78'].sort_values(ascending=False).plot(color='red', legend=True)\n",
    "plt.show()\n",
    "\n",
    "not_treated['re74'].sort_values(ascending=False).plot(color='blue', title='Distribution of RE for not treated group per year', legend=True)\n",
    "not_treated['re75'].sort_values(ascending=False).plot(color='green', legend=True)\n",
    "not_treated['re78'].sort_values(ascending=False).plot(color='black', legend=True)\n",
    "plt.show()"
   ]
  },
  {
   "cell_type": "markdown",
   "metadata": {},
   "source": [
    "It would seem now (for the less naïve researcher) that the treatment actually works as we see the number of unemployed person (with real income = 0.0) decrease much faster in the treated group as in the other. To confirm this intuition let's print the amount of unemployed person in both groups."
   ]
  },
  {
   "cell_type": "code",
   "execution_count": 10,
   "metadata": {
    "scrolled": true
   },
   "outputs": [
    {
     "name": "stdout",
     "output_type": "stream",
     "text": [
      "Unemployed person in Treated group per year:\n",
      " re74    131\n",
      "re75    111\n",
      "re78     45\n",
      "dtype: int64\n",
      "Unemployed person in Not-treated group per year:\n",
      " re74    112\n",
      "re75    134\n",
      "re78     98\n",
      "dtype: int64\n"
     ]
    }
   ],
   "source": [
    "print('Unemployed person in Treated group per year:\\n',(treated[['re74', 're75', 're78']] == 0).astype(int).sum(axis=0))\n",
    "print('Unemployed person in Not-treated group per year:\\n',(not_treated[['re74', 're75', 're78']] == 0).astype(int).sum(axis=0))"
   ]
  },
  {
   "cell_type": "markdown",
   "metadata": {},
   "source": [
    "The education level is very similar in both groups:"
   ]
  },
  {
   "cell_type": "code",
   "execution_count": 11,
   "metadata": {
    "scrolled": false
   },
   "outputs": [
    {
     "data": {
      "text/plain": [
       "count    185.000000\n",
       "mean      10.345946\n",
       "std        2.010650\n",
       "min        4.000000\n",
       "25%        9.000000\n",
       "50%       11.000000\n",
       "75%       12.000000\n",
       "max       16.000000\n",
       "Name: educ, dtype: float64"
      ]
     },
     "execution_count": 11,
     "metadata": {},
     "output_type": "execute_result"
    }
   ],
   "source": [
    "treated['educ'].describe()"
   ]
  },
  {
   "cell_type": "code",
   "execution_count": 12,
   "metadata": {},
   "outputs": [
    {
     "data": {
      "text/plain": [
       "count    429.000000\n",
       "mean      10.235431\n",
       "std        2.855238\n",
       "min        0.000000\n",
       "25%        9.000000\n",
       "50%       11.000000\n",
       "75%       12.000000\n",
       "max       18.000000\n",
       "Name: educ, dtype: float64"
      ]
     },
     "execution_count": 12,
     "metadata": {},
     "output_type": "execute_result"
    }
   ],
   "source": [
    "not_treated['educ'].describe()"
   ]
  },
  {
   "cell_type": "code",
   "execution_count": 13,
   "metadata": {
    "scrolled": true
   },
   "outputs": [
    {
     "data": {
      "image/png": "[encoded data removed]",
      "text/plain": [
       "<matplotlib.figure.Figure at 0x7fb336be9a90>"
      ]
     },
     "metadata": {},
     "output_type": "display_data"
    }
   ],
   "source": [
    "treated['educ'].plot(kind='hist', color='blue', title='Distribution of Education for Treated (blue) - Not treated (red)')\n",
    "not_treated['educ'].plot(kind='hist', color='red', alpha=0.6)\n",
    "plt.show()"
   ]
  },
  {
   "cell_type": "markdown",
   "metadata": {},
   "source": [
    "People in the treatment group seem to be a little bit younger, but this could be explained the fact that younger people might be more willing to do training programs:"
   ]
  },
  {
   "cell_type": "code",
   "execution_count": 14,
   "metadata": {},
   "outputs": [
    {
     "data": {
      "text/plain": [
       "count    185.000000\n",
       "mean      25.816216\n",
       "std        7.155019\n",
       "min       17.000000\n",
       "25%       20.000000\n",
       "50%       25.000000\n",
       "75%       29.000000\n",
       "max       48.000000\n",
       "Name: age, dtype: float64"
      ]
     },
     "execution_count": 14,
     "metadata": {},
     "output_type": "execute_result"
    }
   ],
   "source": [
    "treated['age'].describe()"
   ]
  },
  {
   "cell_type": "code",
   "execution_count": 15,
   "metadata": {},
   "outputs": [
    {
     "data": {
      "text/plain": [
       "count    429.000000\n",
       "mean      28.030303\n",
       "std       10.786653\n",
       "min       16.000000\n",
       "25%       19.000000\n",
       "50%       25.000000\n",
       "75%       35.000000\n",
       "max       55.000000\n",
       "Name: age, dtype: float64"
      ]
     },
     "execution_count": 15,
     "metadata": {},
     "output_type": "execute_result"
    }
   ],
   "source": [
    "not_treated['age'].describe()"
   ]
  },
  {
   "cell_type": "code",
   "execution_count": 16,
   "metadata": {},
   "outputs": [
    {
     "data": {
      "image/png": "[encoded data removed]",
      "text/plain": [
       "<matplotlib.figure.Figure at 0x7fb336a59f28>"
      ]
     },
     "metadata": {},
     "output_type": "display_data"
    }
   ],
   "source": [
    "treated['age'].plot(kind='hist', color='blue', title='Distribution of ages for Treated (blue) - Not treated (red)')\n",
    "not_treated['age'].plot(kind='hist', color='red', alpha=0.6)\n",
    "plt.show()"
   ]
  },
  {
   "cell_type": "markdown",
   "metadata": {},
   "source": [
    "In average people in the training programs tends to have a degree less often than in the other group:"
   ]
  },
  {
   "cell_type": "code",
   "execution_count": 17,
   "metadata": {},
   "outputs": [
    {
     "data": {
      "text/plain": [
       "count    185.000000\n",
       "mean       0.708108\n",
       "std        0.455867\n",
       "min        0.000000\n",
       "25%        0.000000\n",
       "50%        1.000000\n",
       "75%        1.000000\n",
       "max        1.000000\n",
       "Name: nodegree, dtype: float64"
      ]
     },
     "execution_count": 17,
     "metadata": {},
     "output_type": "execute_result"
    }
   ],
   "source": [
    "treated['nodegree'].describe()"
   ]
  },
  {
   "cell_type": "code",
   "execution_count": 18,
   "metadata": {},
   "outputs": [
    {
     "data": {
      "text/plain": [
       "count    429.000000\n",
       "mean       0.596737\n",
       "std        0.491126\n",
       "min        0.000000\n",
       "25%        0.000000\n",
       "50%        1.000000\n",
       "75%        1.000000\n",
       "max        1.000000\n",
       "Name: nodegree, dtype: float64"
      ]
     },
     "execution_count": 18,
     "metadata": {},
     "output_type": "execute_result"
    }
   ],
   "source": [
    "not_treated['nodegree'].describe()"
   ]
  },
  {
   "cell_type": "markdown",
   "metadata": {},
   "source": [
    "### 1.3. A propensity score model"
   ]
  },
  {
   "cell_type": "code",
   "execution_count": 19,
   "metadata": {},
   "outputs": [
    {
     "data": {
      "text/plain": [
       "LogisticRegression(C=1.0, class_weight=None, dual=False, fit_intercept=True,\n",
       "          intercept_scaling=1, max_iter=100, multi_class='ovr', n_jobs=1,\n",
       "          penalty='l2', random_state=None, solver='liblinear', tol=0.0001,\n",
       "          verbose=0, warm_start=False)"
      ]
     },
     "execution_count": 19,
     "metadata": {},
     "output_type": "execute_result"
    }
   ],
   "source": [
    "logistic = linear_model.LogisticRegression()\n",
    "X = lalonde_df[['age', 'educ', 'black', 'hispan', 'married', 'nodegree', 're74', 're75', 're78']]\n",
    "y = lalonde_df['treat']\n",
    "#training logistic model\n",
    "logistic.fit(X, y)"
   ]
  },
  {
   "cell_type": "markdown",
   "metadata": {},
   "source": [
    "Here is the propensity score (probability of belonging to the class 0 or 1)"
   ]
  },
  {
   "cell_type": "code",
   "execution_count": 20,
   "metadata": {},
   "outputs": [
    {
     "data": {
      "text/plain": [
       "array([[ 0.54192649,  0.45807351],\n",
       "       [ 0.84801994,  0.15198006],\n",
       "       [ 0.24903448,  0.75096552],\n",
       "       ..., \n",
       "       [ 0.89944167,  0.10055833],\n",
       "       [ 0.44954653,  0.55045347],\n",
       "       [ 0.79880343,  0.20119657]])"
      ]
     },
     "execution_count": 20,
     "metadata": {},
     "output_type": "execute_result"
    }
   ],
   "source": [
    "prop_score = logistic.predict_proba(X)\n",
    "prop_score"
   ]
  },
  {
   "cell_type": "markdown",
   "metadata": {},
   "source": [
    "Now we will add it to te dataframe to keep each score with its matching data point."
   ]
  },
  {
   "cell_type": "code",
   "execution_count": 21,
   "metadata": {},
   "outputs": [],
   "source": [
    "lalonde_df['prop_score_0'] = prop_score[:, 0]\n",
    "lalonde_df['prop_score_1'] = prop_score[:, 1]"
   ]
  },
  {
   "cell_type": "code",
   "execution_count": 22,
   "metadata": {
    "scrolled": true
   },
   "outputs": [
    {
     "data": {
      "text/html": [
       "<div>\n",
       "<table border=\"1\" class=\"dataframe\">\n",
       "  <thead>\n",
       "    <tr style=\"text-align: right;\">\n",
       "      <th></th>\n",
       "      <th>treat</th>\n",
       "      <th>age</th>\n",
       "      <th>educ</th>\n",
       "      <th>black</th>\n",
       "      <th>hispan</th>\n",
       "      <th>married</th>\n",
       "      <th>nodegree</th>\n",
       "      <th>re74</th>\n",
       "      <th>re75</th>\n",
       "      <th>re78</th>\n",
       "      <th>prop_score_0</th>\n",
       "      <th>prop_score_1</th>\n",
       "    </tr>\n",
       "    <tr>\n",
       "      <th>id</th>\n",
       "      <th></th>\n",
       "      <th></th>\n",
       "      <th></th>\n",
       "      <th></th>\n",
       "      <th></th>\n",
       "      <th></th>\n",
       "      <th></th>\n",
       "      <th></th>\n",
       "      <th></th>\n",
       "      <th></th>\n",
       "      <th></th>\n",
       "      <th></th>\n",
       "    </tr>\n",
       "  </thead>\n",
       "  <tbody>\n",
       "    <tr>\n",
       "      <th>NSW1</th>\n",
       "      <td>1</td>\n",
       "      <td>37</td>\n",
       "      <td>11</td>\n",
       "      <td>1</td>\n",
       "      <td>0</td>\n",
       "      <td>1</td>\n",
       "      <td>1</td>\n",
       "      <td>0.0</td>\n",
       "      <td>0.0</td>\n",
       "      <td>9930.0460</td>\n",
       "      <td>0.541926</td>\n",
       "      <td>0.458074</td>\n",
       "    </tr>\n",
       "    <tr>\n",
       "      <th>NSW2</th>\n",
       "      <td>1</td>\n",
       "      <td>22</td>\n",
       "      <td>9</td>\n",
       "      <td>0</td>\n",
       "      <td>1</td>\n",
       "      <td>0</td>\n",
       "      <td>1</td>\n",
       "      <td>0.0</td>\n",
       "      <td>0.0</td>\n",
       "      <td>3595.8940</td>\n",
       "      <td>0.848020</td>\n",
       "      <td>0.151980</td>\n",
       "    </tr>\n",
       "    <tr>\n",
       "      <th>NSW3</th>\n",
       "      <td>1</td>\n",
       "      <td>30</td>\n",
       "      <td>12</td>\n",
       "      <td>1</td>\n",
       "      <td>0</td>\n",
       "      <td>0</td>\n",
       "      <td>0</td>\n",
       "      <td>0.0</td>\n",
       "      <td>0.0</td>\n",
       "      <td>24909.4500</td>\n",
       "      <td>0.249034</td>\n",
       "      <td>0.750966</td>\n",
       "    </tr>\n",
       "    <tr>\n",
       "      <th>NSW4</th>\n",
       "      <td>1</td>\n",
       "      <td>27</td>\n",
       "      <td>11</td>\n",
       "      <td>1</td>\n",
       "      <td>0</td>\n",
       "      <td>0</td>\n",
       "      <td>1</td>\n",
       "      <td>0.0</td>\n",
       "      <td>0.0</td>\n",
       "      <td>7506.1460</td>\n",
       "      <td>0.325980</td>\n",
       "      <td>0.674020</td>\n",
       "    </tr>\n",
       "    <tr>\n",
       "      <th>NSW5</th>\n",
       "      <td>1</td>\n",
       "      <td>33</td>\n",
       "      <td>8</td>\n",
       "      <td>1</td>\n",
       "      <td>0</td>\n",
       "      <td>0</td>\n",
       "      <td>1</td>\n",
       "      <td>0.0</td>\n",
       "      <td>0.0</td>\n",
       "      <td>289.7899</td>\n",
       "      <td>0.329410</td>\n",
       "      <td>0.670590</td>\n",
       "    </tr>\n",
       "  </tbody>\n",
       "</table>\n",
       "</div>"
      ],
      "text/plain": [
       "      treat  age  educ  black  hispan  married  nodegree  re74  re75  \\\n",
       "id                                                                     \n",
       "NSW1      1   37    11      1       0        1         1   0.0   0.0   \n",
       "NSW2      1   22     9      0       1        0         1   0.0   0.0   \n",
       "NSW3      1   30    12      1       0        0         0   0.0   0.0   \n",
       "NSW4      1   27    11      1       0        0         1   0.0   0.0   \n",
       "NSW5      1   33     8      1       0        0         1   0.0   0.0   \n",
       "\n",
       "            re78  prop_score_0  prop_score_1  \n",
       "id                                            \n",
       "NSW1   9930.0460      0.541926      0.458074  \n",
       "NSW2   3595.8940      0.848020      0.151980  \n",
       "NSW3  24909.4500      0.249034      0.750966  \n",
       "NSW4   7506.1460      0.325980      0.674020  \n",
       "NSW5    289.7899      0.329410      0.670590  "
      ]
     },
     "execution_count": 22,
     "metadata": {},
     "output_type": "execute_result"
    }
   ],
   "source": [
    "lalonde_df.head()"
   ]
  },
  {
   "cell_type": "markdown",
   "metadata": {},
   "source": [
    "### 1.4. Balancing the dataset via matching"
   ]
  },
  {
   "cell_type": "markdown",
   "metadata": {},
   "source": [
    "We will use a simple function that calculate te distance between two points to match the propensity scores."
   ]
  },
  {
   "cell_type": "code",
   "execution_count": 23,
   "metadata": {},
   "outputs": [],
   "source": [
    "treated = lalonde_df.loc[lalonde_df['treat'] == 1]\n",
    "not_treated = lalonde_df.loc[lalonde_df['treat'] == 0]"
   ]
  },
  {
   "cell_type": "code",
   "execution_count": 24,
   "metadata": {},
   "outputs": [],
   "source": [
    "#Compute distance between two values\n",
    "def compute_diff(val_1, val_2):\n",
    "    return np.sqrt(np.power(val_1 - val_2, 2))\n",
    "\n",
    "#Create a matched list of Treated-Controled based on propensity score of beeing in the treated group\n",
    "def match_propensity(treated, control):\n",
    "    matches_ind = []\n",
    "    matches_score = []\n",
    "    #list of already matched control point, to not have duplicates.\n",
    "    matched = []\n",
    "    for t_idx in treated.index:\n",
    "        temp_min = sys.maxsize\n",
    "        temp_indx = 'NAN'\n",
    "        t_row = treated.loc[t_idx]\n",
    "        for c_idx in control.index:\n",
    "            c_row = control.loc[c_idx]\n",
    "            diff = compute_diff(t_row['prop_score_1'], c_row['prop_score_1'])\n",
    "            if diff < temp_min and c_idx not in matched:\n",
    "                temp_min = diff \n",
    "                temp_indx = c_idx\n",
    "        matches_ind.append([t_idx, temp_indx])\n",
    "        matches_score.append([t_row['prop_score_1'], control.loc[temp_indx]['prop_score_1']])\n",
    "        matched.append(temp_indx)\n",
    "    return np.array(matches_ind), np.array(matches_score)"
   ]
  },
  {
   "cell_type": "code",
   "execution_count": 25,
   "metadata": {},
   "outputs": [],
   "source": [
    "m_ind, m_scores = match_propensity(treated, not_treated)"
   ]
  },
  {
   "cell_type": "code",
   "execution_count": 26,
   "metadata": {},
   "outputs": [
    {
     "data": {
      "text/plain": [
       "array([[ 0.45807351,  0.46895593],\n",
       "       [ 0.15198006,  0.15121151],\n",
       "       [ 0.75096552,  0.7517876 ],\n",
       "       [ 0.67401978,  0.67436073],\n",
       "       [ 0.67059037,  0.67315518],\n",
       "       [ 0.71125444,  0.71129477],\n",
       "       [ 0.64961649,  0.6490786 ],\n",
       "       [ 0.66043351,  0.66108822],\n",
       "       [ 0.58382034,  0.58726769],\n",
       "       [ 0.08673513,  0.0868916 ]])"
      ]
     },
     "execution_count": 26,
     "metadata": {},
     "output_type": "execute_result"
    }
   ],
   "source": [
    "m_scores[:10]"
   ]
  },
  {
   "cell_type": "markdown",
   "metadata": {},
   "source": [
    "The propensity scores matched seem really similar, so we will keep them. Now, let's try to analyse only the matched pairs:"
   ]
  },
  {
   "cell_type": "code",
   "execution_count": 27,
   "metadata": {},
   "outputs": [
    {
     "data": {
      "text/plain": [
       "count      185.000000\n",
       "mean      6349.143530\n",
       "std       7867.402218\n",
       "min          0.000000\n",
       "25%        485.229800\n",
       "50%       4232.309000\n",
       "75%       9642.999000\n",
       "max      60307.930000\n",
       "Name: re78, dtype: float64"
      ]
     },
     "execution_count": 27,
     "metadata": {},
     "output_type": "execute_result"
    }
   ],
   "source": [
    "treated['re78'].describe()"
   ]
  },
  {
   "cell_type": "code",
   "execution_count": 28,
   "metadata": {},
   "outputs": [
    {
     "data": {
      "text/plain": [
       "count      185.000000\n",
       "mean      5828.584903\n",
       "std       6094.306306\n",
       "min          0.000000\n",
       "25%        237.914000\n",
       "50%       4112.513000\n",
       "75%       8957.978000\n",
       "max      25564.670000\n",
       "Name: re78, dtype: float64"
      ]
     },
     "execution_count": 28,
     "metadata": {},
     "output_type": "execute_result"
    }
   ],
   "source": [
    "not_treated.loc[m_ind[:, 1]]['re78'].describe()"
   ]
  },
  {
   "cell_type": "code",
   "execution_count": 29,
   "metadata": {},
   "outputs": [
    {
     "data": {
      "image/png": "[encoded data removed]",
      "text/plain": [
       "<matplotlib.figure.Figure at 0x7fb33695bb38>"
      ]
     },
     "metadata": {},
     "output_type": "display_data"
    }
   ],
   "source": [
    "treated['re78'].sort_values(ascending=False).plot(color='blue', title='Treated (blue) - Not treated (red)')\n",
    "not_treated.loc[m_ind[:, 1]]['re78'].sort_values(ascending=False).plot(color='red')\n",
    "plt.show()"
   ]
  },
  {
   "cell_type": "markdown",
   "metadata": {},
   "source": [
    "We can see now that, except for the particularly high incomes of a few treated people, the distribution of real income in 78 matches very well. And we can see that actually with those matched pairs, both group have very similar distribution of real income for every year:"
   ]
  },
  {
   "cell_type": "code",
   "execution_count": 30,
   "metadata": {
    "scrolled": true
   },
   "outputs": [
    {
     "data": {
      "image/png": "[encoded data removed]",
      "text/plain": [
       "<matplotlib.figure.Figure at 0x7fb336ab7e48>"
      ]
     },
     "metadata": {},
     "output_type": "display_data"
    }
   ],
   "source": [
    "treated['re74'].sort_values(ascending=False).plot(color='blue', title='Distribution of RE per year for Treated (transparent) and Control groups', legend=True, alpha=0.5)\n",
    "treated['re75'].sort_values(ascending=False).plot(color='green', legend=True, alpha=0.5)\n",
    "treated['re78'].sort_values(ascending=False).plot(color='red', legend=True, alpha=0.5)\n",
    "not_treated['re74'].loc[m_ind[:, 1]].sort_values(ascending=False).plot(color='blue', legend=True)\n",
    "not_treated['re75'].loc[m_ind[:, 1]].sort_values(ascending=False).plot(color='green', legend=True)\n",
    "not_treated['re78'].loc[m_ind[:, 1]].sort_values(ascending=False).plot(color='black', legend=True)\n",
    "#axes = plt.gca()\n",
    "#axes.set_ylim([0,60000])\n",
    "plt.show()"
   ]
  },
  {
   "cell_type": "code",
   "execution_count": null,
   "metadata": {},
   "outputs": [],
   "source": []
  },
  {
   "cell_type": "code",
   "execution_count": 31,
   "metadata": {},
   "outputs": [
    {
     "data": {
      "image/png": "[encoded data removed]",
      "text/plain": [
       "<matplotlib.figure.Figure at 0x7fb336a902b0>"
      ]
     },
     "metadata": {},
     "output_type": "display_data"
    }
   ],
   "source": [
    "treated['educ'].plot(kind='hist', color='blue', title='Distribution of Education for Treated (blue) - Not treated (red)')\n",
    "not_treated['educ'].loc[m_ind[:, 1]].plot(kind='hist', color='red', alpha=0.6)\n",
    "plt.show()"
   ]
  },
  {
   "cell_type": "code",
   "execution_count": 32,
   "metadata": {},
   "outputs": [
    {
     "data": {
      "image/png": "[encoded data removed]",
      "text/plain": [
       "<matplotlib.figure.Figure at 0x7fb336b8c160>"
      ]
     },
     "metadata": {},
     "output_type": "display_data"
    }
   ],
   "source": [
    "treated['age'].plot(kind='hist', color='blue', title='Distribution of ages for Treated (blue) - Not treated (red)')\n",
    "not_treated['age'].loc[m_ind[:, 1]].plot(kind='hist', color='red', alpha=0.6)\n",
    "plt.show()"
   ]
  },
  {
   "cell_type": "markdown",
   "metadata": {},
   "source": [
    "This time the amount of people without a degree is much more similar"
   ]
  },
  {
   "cell_type": "code",
   "execution_count": 148,
   "metadata": {},
   "outputs": [
    {
     "data": {
      "text/plain": [
       "count    185.000000\n",
       "mean       0.708108\n",
       "std        0.455867\n",
       "min        0.000000\n",
       "25%        0.000000\n",
       "50%        1.000000\n",
       "75%        1.000000\n",
       "max        1.000000\n",
       "Name: nodegree, dtype: float64"
      ]
     },
     "execution_count": 148,
     "metadata": {},
     "output_type": "execute_result"
    }
   ],
   "source": [
    "treated['nodegree'].describe()"
   ]
  },
  {
   "cell_type": "code",
   "execution_count": 149,
   "metadata": {},
   "outputs": [
    {
     "data": {
      "text/plain": [
       "count    185.000000\n",
       "mean       0.675676\n",
       "std        0.469392\n",
       "min        0.000000\n",
       "25%        0.000000\n",
       "50%        1.000000\n",
       "75%        1.000000\n",
       "max        1.000000\n",
       "Name: nodegree, dtype: float64"
      ]
     },
     "execution_count": 149,
     "metadata": {},
     "output_type": "execute_result"
    }
   ],
   "source": [
    "not_treated['nodegree'].loc[m_ind[:, 1]].describe()"
   ]
  },
  {
   "cell_type": "markdown",
   "metadata": {},
   "source": [
    "From here we can draw these conclusions:\n",
    "- The real income distribution of people with similar posterior attributes, is very close and does not seem to depend on the fact that one was treated or not. So the difference of income and unemployed people between each year could well be the cause of economic fluctuations.\n",
    "- The distribution of education time seem to be a gaussian distribution of mean around 10 for both groups.\n",
    "- There seem to be much more *very* young people (15-20 years old) that did not get the treatment.\n",
    "- The propotion of person without a degree is very similar in both groups with the matched pair approach, although it is still higher in the treatment group, which seems to mean that people without diploma are more willing to take a training."
   ]
  },
  {
   "cell_type": "markdown",
   "metadata": {},
   "source": [
    "### 1.5. Balancing the groups further"
   ]
  },
  {
   "cell_type": "code",
   "execution_count": null,
   "metadata": {
    "collapsed": true
   },
   "outputs": [],
   "source": []
  },
  {
   "cell_type": "markdown",
   "metadata": {},
   "source": [
    "# Question 2\n",
    "\n",
    "We are going to build a classifier of news to directly assign them to 20 news categories. Note that the pipeline that you will build in this exercise could be of great help during your project if you plan to work with text!\n",
    "\n",
    "1. Load the 20newsgroup dataset. It is, again, a classic dataset that can directly be loaded using sklearn ([link](http://scikit-learn.org/stable/datasets/twenty_newsgroups.html)). [TF-IDF](https://en.wikipedia.org/wiki/Tf%E2%80%93idf), short for term frequency–inverse document frequency, is of great help when if comes to compute textual features. Indeed, it gives more importance to terms that are more specific to the considered articles (TF) but reduces the importance of terms that are very frequent in the entire corpus (IDF). Compute TF-IDF features for every article using [TfidfVectorizer](http://scikit-learn.org/stable/modules/generated/sklearn.feature_extraction.text.TfidfVectorizer.html). Then, split your dataset into a training, a testing and a validation set (10% for validation and 10% for testing). Each observation should be paired with its corresponding label (the article category).\n",
    "\n",
    "\n",
    "2. Train a random forest on your training set. Try to fine-tune the parameters of your predictor on your validation set using a simple grid search on the number of estimator \"n_estimators\" and the max depth of the trees \"max_depth\". Then, display a confusion matrix of your classification pipeline. Lastly, once you assessed your model, inspect the `feature_importances_` attribute of your random forest and discuss the obtained results."
   ]
  },
  {
   "cell_type": "code",
   "execution_count": 10,
   "metadata": {},
   "outputs": [],
   "source": [
    "from sklearn.datasets import fetch_20newsgroups\n",
    "from sklearn.feature_extraction.text import TfidfVectorizer\n",
    "from sklearn.ensemble import RandomForestClassifier\n",
    "from sklearn.model_selection import cross_val_score\n",
    "\n",
    "import matplotlib.pyplot as plt\n",
    "from mpl_toolkits.mplot3d import Axes3D\n",
    "from matplotlib import cm\n",
    "\n",
    "from random import shuffle\n",
    "from sklearn.metrics import confusion_matrix"
   ]
  },
  {
   "cell_type": "markdown",
   "metadata": {},
   "source": [
    "### 1. Load the data and we separate targets and features: "
   ]
  },
  {
   "cell_type": "code",
   "execution_count": 11,
   "metadata": {},
   "outputs": [],
   "source": [
    "newsgroups_train = fetch_20newsgroups(subset=\"all\")\n",
    "vectorizer = TfidfVectorizer(stop_words='english', max_df=0.5)\n",
    "\n",
    "X = vectorizer.fit_transform(newsgroups_train.data)\n",
    "y = newsgroups_train.target"
   ]
  },
  {
   "cell_type": "markdown",
   "metadata": {},
   "source": [
    "### 2. Split the set to 0.9 train data and 0.1 test data"
   ]
  },
  {
   "cell_type": "code",
   "execution_count": 12,
   "metadata": {},
   "outputs": [],
   "source": [
    "n = len(y)\n",
    "indices = list(range(n))\n",
    "shuffle(indices)\n",
    "\n",
    "test_len = round(0.1*n)\n",
    "train_len = n - test_len\n",
    "\n",
    "X_test = X[indices[0:test_len]]\n",
    "y_test = y[indices[0:test_len]]\n",
    "\n",
    "X_train = X[indices[test_len:n]]\n",
    "y_train = y[indices[test_len:n]]"
   ]
  },
  {
   "cell_type": "markdown",
   "metadata": {},
   "source": [
    "### 3. Cross validation with 0.1 validation data and 0.9 train data (from the remaining dataset) \n",
    "\n",
    "- The estimators are in range: 50 - 300 with step size 50 \n",
    "- The depths are in range 50 - 30 with step size 50 \n",
    "\n",
    "In order to visualise the results of the grid search we keep track of the different combinations of: \n",
    "\n",
    "- n_estimators\n",
    "- max_depth \n",
    "- mean accuracy over 10-fold cross validation "
   ]
  },
  {
   "cell_type": "code",
   "execution_count": null,
   "metadata": {},
   "outputs": [
    {
     "name": "stdout",
     "output_type": "stream",
     "text": [
      "n_estimators=0.0, max_depth=0.0\n",
      "n_estimators=0.0, max_depth=1.0\n",
      "n_estimators=0.0, max_depth=2.0\n",
      "n_estimators=0.0, max_depth=3.0\n",
      "n_estimators=0.0, max_depth=4.0\n"
     ]
    }
   ],
   "source": [
    "heatmap = np.zeros((6,6))\n",
    "\n",
    "for n_estimators in range(50, 301, 50): \n",
    "    for max_depth in range(50, 301, 50): \n",
    "        print(\"n_estimators={}, max_depth={}\".format(n_estimators/50 - 1, max_depth/50 - 1))\n",
    "        random_forest = RandomForestClassifier(n_estimators=n_estimators, max_depth=max_depth, n_jobs=2)\n",
    "        scores = cross_val_score(random_forest, X_train, y_train, cv=10, n_jobs=4)\n",
    "        heatmap[int(n_estimators/50 - 1), int(max_depth/50 - 1)] = np.mean(scores)"
   ]
  },
  {
   "cell_type": "markdown",
   "metadata": {},
   "source": [
    "Here we show the heatmap for the accuracies obtained with different parameters. The vertical axis is the number of estimators, the horizontal axis is the max depth. "
   ]
  },
  {
   "cell_type": "code",
   "execution_count": 5,
   "metadata": {},
   "outputs": [],
   "source": [
    "#fig = plt.figure()\n",
    "#ax = Axes3D(fig)\n",
    "#ax.scatter3D(x,y,z)\n",
    "#plt.show()\n",
    "\n",
    "plt.imshow(heatmap, cmap='hot')\n",
    "plt.show()"
   ]
  },
  {
   "cell_type": "markdown",
   "metadata": {},
   "source": [
    "The best parameters to chose in this case are n_estimators= and max_depth= . We can see that the accuracy is increasing when these parameters are increased but the increased computing time is not worth the very small accuracy gain. "
   ]
  },
  {
   "cell_type": "code",
   "execution_count": 40,
   "metadata": {},
   "outputs": [
    {
     "data": {
      "text/plain": [
       "RandomForestClassifier(bootstrap=True, class_weight=None, criterion='gini',\n",
       "            max_depth=200, max_features='auto', max_leaf_nodes=None,\n",
       "            min_impurity_decrease=0.0, min_impurity_split=None,\n",
       "            min_samples_leaf=1, min_samples_split=2,\n",
       "            min_weight_fraction_leaf=0.0, n_estimators=300, n_jobs=4,\n",
       "            oob_score=False, random_state=None, verbose=0,\n",
       "            warm_start=False)"
      ]
     },
     "execution_count": 40,
     "metadata": {},
     "output_type": "execute_result"
    }
   ],
   "source": [
    "random_forest = RandomForestClassifier(n_estimators=300, max_depth=200)\n",
    "random_forest.fit(X_train, y_train)"
   ]
  },
  {
   "cell_type": "code",
   "execution_count": 41,
   "metadata": {},
   "outputs": [
    {
     "data": {
      "text/plain": [
       "0.87444739168877095"
      ]
     },
     "execution_count": 41,
     "metadata": {},
     "output_type": "execute_result"
    }
   ],
   "source": [
    "y_pred = random_forest.predict(X_test)\n",
    "\n",
    "cnf_matrix = confusion_matrix(y_test, y_pred)\n",
    "print(cnf_matrix)"
   ]
  },
  {
   "cell_type": "code",
   "execution_count": 75,
   "metadata": {
    "scrolled": false
   },
   "outputs": [
    {
     "name": "stdout",
     "output_type": "stream",
     "text": [
      "windows\n",
      "790\n",
      "sale\n",
      "491\n",
      "dod\n",
      "388\n",
      "car\n",
      "573\n",
      "bike\n",
      "277\n",
      "space\n",
      "624\n",
      "encryption\n",
      "278\n",
      "clipper\n",
      "337\n",
      "hockey\n",
      "250\n",
      "god\n",
      "824\n",
      "israeli\n",
      "215\n",
      "cars\n",
      "266\n",
      "israel\n",
      "287\n",
      "gun\n",
      "370\n",
      "baseball\n",
      "282\n",
      "mac\n",
      "391\n",
      "graphics\n",
      "422\n",
      "christians\n",
      "339\n",
      "apple\n",
      "370\n",
      "team\n",
      "497\n",
      "rutgers\n",
      "323\n",
      "article\n",
      "5272\n",
      "nhl\n",
      "187\n",
      "key\n",
      "556\n",
      "chip\n",
      "492\n",
      "window\n",
      "384\n",
      "com\n",
      "4790\n",
      "game\n",
      "554\n",
      "christian\n",
      "486\n",
      "guns\n",
      "244\n",
      "host\n",
      "4840\n",
      "people\n",
      "2547\n",
      "motif\n",
      "140\n",
      "government\n",
      "788\n",
      "posting\n",
      "5086\n",
      "players\n",
      "286\n",
      "athos\n",
      "148\n",
      "nntp\n",
      "4777\n",
      "offer\n",
      "352\n",
      "bikes\n",
      "109\n",
      "orbit\n",
      "141\n",
      "circuit\n",
      "120\n",
      "shipping\n",
      "207\n",
      "thanks\n",
      "1731\n",
      "bible\n",
      "325\n",
      "ride\n",
      "177\n",
      "riding\n",
      "131\n",
      "atheists\n",
      "184\n",
      "jesus\n",
      "364\n",
      "card\n",
      "572\n",
      "escrow\n",
      "147\n",
      "university\n",
      "4437\n",
      "file\n",
      "553\n",
      "motorcycle\n",
      "114\n",
      "christ\n",
      "287\n",
      "distribution\n",
      "2633\n",
      "nasa\n",
      "420\n",
      "season\n",
      "284\n",
      "controller\n",
      "185\n",
      "x11r5\n",
      "104\n",
      "church\n",
      "258\n",
      "moon\n",
      "150\n",
      "drive\n",
      "688\n",
      "playoffs\n",
      "119\n",
      "use\n",
      "2200\n",
      "disease\n",
      "135\n",
      "quadra\n",
      "95\n",
      "crypto\n",
      "141\n",
      "arab\n",
      "136\n",
      "mit\n",
      "375\n",
      "games\n",
      "398\n",
      "forsale\n",
      "86\n",
      "doctor\n",
      "140\n",
      "pc\n",
      "461\n",
      "tapped\n",
      "89\n",
      "waco\n",
      "159\n",
      "know\n",
      "3291\n",
      "pitching\n",
      "89\n",
      "does\n",
      "2656\n",
      "play\n",
      "505\n",
      "just\n",
      "3492\n",
      "shuttle\n",
      "96\n",
      "algorithm\n",
      "201\n",
      "playoff\n",
      "108\n",
      "ca\n",
      "1802\n",
      "prb\n",
      "78\n",
      "dos\n",
      "390\n",
      "pgp\n",
      "135\n",
      "expo\n",
      "90\n",
      "firearms\n",
      "118\n",
      "don\n",
      "3349\n",
      "clinton\n",
      "335\n",
      "clh\n",
      "97\n",
      "widget\n",
      "87\n",
      "win\n",
      "479\n",
      "bmw\n",
      "128\n",
      "launch\n",
      "127\n",
      "teams\n",
      "217\n",
      "usa\n",
      "1554\n"
     ]
    }
   ],
   "source": [
    "for r in range(1,100):\n",
    "    print(vectorizer.get_feature_names()[indices[-r]])\n",
    "    print(len(np.nonzero(X[:, indices[-r]])[0]))"
   ]
  },
  {
   "cell_type": "code",
   "execution_count": null,
   "metadata": {},
   "outputs": [],
   "source": []
  }
 ],
 "metadata": {
  "kernelspec": {
   "display_name": "Python [default]",
   "language": "python",
   "name": "python3"
  },
  "language_info": {
   "codemirror_mode": {
    "name": "ipython",
    "version": 3
   },
   "file_extension": ".py",
   "mimetype": "text/x-python",
   "name": "python",
   "nbconvert_exporter": "python",
   "pygments_lexer": "ipython3",
   "version": "3.5.4"
  }
 },
 "nbformat": 4,
 "nbformat_minor": 2
}

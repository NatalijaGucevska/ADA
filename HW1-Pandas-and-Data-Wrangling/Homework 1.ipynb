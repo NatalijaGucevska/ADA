{
 "cells": [
  {
   "cell_type": "markdown",
   "metadata": {},
   "source": [
    "# Table of Contents\n",
    " <p><div class=\"lev1\"><a href=\"#Task-1.-Compiling-Ebola-Data\"><span class=\"toc-item-num\">Task 1.&nbsp;&nbsp;</span>Compiling Ebola Data</a></div>\n",
    " <div class=\"lev1\"><a href=\"#Task-2.-RNA-Sequences\"><span class=\"toc-item-num\">Task 2.&nbsp;&nbsp;</span>RNA Sequences</a></div>\n",
    " <div class=\"lev1\"><a href=\"#Task-3.-Class-War-in-Titanic\"><span class=\"toc-item-num\">Task 3.&nbsp;&nbsp;</span>Class War in Titanic</a></div></p>"
   ]
  },
  {
   "cell_type": "code",
   "execution_count": 1,
   "metadata": {},
   "outputs": [],
   "source": [
    "from IPython.core.display import HTML\n",
    "import pandas as pd\n",
    "import numpy as np\n",
    "import glob\n",
    "import re\n",
    "import string\n",
    "import math\n",
    "\n",
    "DATA_FOLDER = 'Data'  # Use the data folder provided in Tutorial 02 - Intro to Pandas."
   ]
  },
  {
   "cell_type": "markdown",
   "metadata": {},
   "source": [
    "## Task 1. Compiling Ebola Data\n",
    "\n",
    "The `DATA_FOLDER/ebola` folder contains summarized reports of Ebola cases from three countries (Guinea, Liberia and Sierra Leone) during the recent outbreak of the disease in West Africa. For each country, there are daily reports that contain various information about the outbreak in several cities in each country.\n",
    "\n",
    "Use pandas to import these data files into a single `Dataframe`.\n",
    "Using this `DataFrame`, calculate for *each country*, the *daily average per month* of *new cases* and *deaths*.\n",
    "Make sure you handle all the different expressions for *new cases* and *deaths* that are used in the reports."
   ]
  },
  {
   "cell_type": "markdown",
   "metadata": {},
   "source": [
    "This next cell is use to suppress Pandas FutureWarnings which always come up on ambiguity from Column/Index names"
   ]
  },
  {
   "cell_type": "code",
   "execution_count": null,
   "metadata": {
    "collapsed": true
   },
   "outputs": [],
   "source": [
    "import warnings\n",
    "warnings.simplefilter(action='ignore', category=FutureWarning)"
   ]
  },
  {
   "cell_type": "markdown",
   "metadata": {},
   "source": [
    "Helper functions to Format result tables from DF"
   ]
  },
  {
   "cell_type": "code",
   "execution_count": null,
   "metadata": {
    "collapsed": true
   },
   "outputs": [],
   "source": [
    "def only_year_month(x):\n",
    "    return str(x.year) + '-' + str(x.month)\n",
    "\n",
    "def avg_table_daily(table):\n",
    "    new_indexes = reversed(list(set(table.index.map(only_year_month))))\n",
    "    avg_result = pd.DataFrame(index=new_indexes, columns=['Total Death (daily avg.)', 'New cases (daily avg.)'])\n",
    "    index_list = table.index\n",
    "    i = 0\n",
    "    while i < len(index_list):\n",
    "        new_ind = str(index_list[i].year) + '-' + str(index_list[i].month)\n",
    "        num_days = (int(index_list[i+1].day) - int(index_list[i].day)) + 1\n",
    "        avg_result['Total Death (daily avg.)'][new_ind] = (int(table['Total death'][index_list[i+1]]) - int(table['Total death'][index_list[i]])) / num_days\n",
    "        avg_result['New cases (daily avg.)'][new_ind] = (int(table['New cases (cumul.)'][index_list[i+1]]) - int(table['New cases (cumul.)'][index_list[i]])) / num_days\n",
    "        i =  i + 2\n",
    "\n",
    "    return avg_result"
   ]
  },
  {
   "cell_type": "markdown",
   "metadata": {},
   "source": [
    "Helper function to check headers from a list of files"
   ]
  },
  {
   "cell_type": "code",
   "execution_count": null,
   "metadata": {
    "collapsed": true
   },
   "outputs": [],
   "source": [
    "def check_headers(files):\n",
    "    list_ = []\n",
    "    for file_ in files:\n",
    "        df = pd.read_csv(file_, header=None)\n",
    "        list_.append(df.head(n=1))\n",
    "\n",
    "    frame = pd.concat(list_)\n",
    "    # Transpose to not drop record and better visualisation\n",
    "    return frame.drop_duplicates().T"
   ]
  },
  {
   "cell_type": "markdown",
   "metadata": {},
   "source": [
    "Helper function checking if dates are unique per file"
   ]
  },
  {
   "cell_type": "code",
   "execution_count": null,
   "metadata": {},
   "outputs": [],
   "source": [
    "def are_date_unique_per_file(files, lowercase=False):\n",
    "    cols=['Date']\n",
    "    if lowercase:\n",
    "        cols=['date']\n",
    "    for file_ in files:\n",
    "        df = pd.read_csv(file_, usecols=cols)\n",
    "        #print(file_, df.shape)\n",
    "        if df.drop_duplicates().shape[0] > 1:\n",
    "            return False\n",
    "    return True"
   ]
  },
  {
   "cell_type": "markdown",
   "metadata": {},
   "source": [
    "## Liberia\n",
    "\n",
    "### Check structures of the files\n",
    "\n",
    "#### Headers"
   ]
  },
  {
   "cell_type": "code",
   "execution_count": null,
   "metadata": {
    "scrolled": true
   },
   "outputs": [],
   "source": [
    "allFiles = glob.glob(DATA_FOLDER + '/ebola/liberia_data/*.csv')\n",
    "\n",
    "check_headers(allFiles)"
   ]
  },
  {
   "cell_type": "code",
   "execution_count": null,
   "metadata": {},
   "outputs": [],
   "source": [
    "are_date_unique_per_file(allFiles)"
   ]
  },
  {
   "cell_type": "markdown",
   "metadata": {},
   "source": [
    "We wanted to use first the \"Newly reported deaths\" column, but they were disrepedancies with the cumulated data, and the newly reported data did not indicate if it was confirmed, suspected, etc. For the \"Total death/s in confirmed cases\",  less than half of the files didn't contain the value for this field. So either we switch to no data or more data but overestimation. Then we decided to switch to cumulated \"Total death/s in confirmed, probable, suspected cases\"."
   ]
  },
  {
   "cell_type": "code",
   "execution_count": null,
   "metadata": {},
   "outputs": [],
   "source": [
    "NEW_CASES = \"New case/s (confirmed)\"\n",
    "TOTAL_NEW_CASES = \"Total confirmed cases\"\n",
    "TOTAL_DEATH = \"Total death/s in confirmed, probable, suspected cases\"\n",
    "NEWLY_REPORTED_DEATH = \"Newly reported deaths\"\n",
    "\n",
    "\n",
    "# most of error are extra \\n and spaces\n",
    "#columns = list(map(lambda x: re.sub(\"\\s\\s+\" , \" \", x.replace(\"\\n\", \"\")), df.index.levels[0].values.tolist()))\n",
    "def check_column_in_files(files, column_name, lower_case=False, decript=False):\n",
    "    #Added lower_case boolean not to rewrite function as Sierre Leone data are lowercased.\n",
    "    #Added descript boolean not to rewrite function as Guinea data are different.\n",
    "    cols=['Variable', 'Date']\n",
    "    if lower_case:\n",
    "        cols=['variable', 'date']\n",
    "    if decript:\n",
    "        cols=['Description', 'Date']\n",
    "    \n",
    "    for file_ in allFiles:\n",
    "        df = pd.read_csv(file_, index_col=cols).fillna(value=0)\n",
    "        \n",
    "        #df[\"edited_variable\"] = df.index.levels[0].values\n",
    "        #df[\"edited_variable\"] = \n",
    "        new_values = list(map(lambda x: re.sub(\"\\s\\s+\" , \" \", x.replace(\"\\n\", \"\")), df.index.levels[0].values.tolist()))\n",
    "        df.index = df.index.set_levels(levels=new_values, level=0)\n",
    "        \n",
    "        #print(df.index.levels[0])\n",
    "        \n",
    "        #result = False\n",
    "        result = column_name in df.index\n",
    "            \n",
    "        \n",
    "        \n",
    "        if(column_name == TOTAL_DEATH):\n",
    "            pass\n",
    "            #print(\"{} {}\".format(result, file_))\n",
    "        if not result:\n",
    "            if(column_name == TOTAL_DEATH):\n",
    "                print(df.index.levels[0])\n",
    "            return False\n",
    "    \n",
    "        \n",
    "    return True\n",
    "\n",
    "\n",
    "to_check = [NEW_CASES, TOTAL_DEATH, NEWLY_REPORTED_DEATH, TOTAL_NEW_CASES]\n",
    "list(map(lambda x: check_column_in_files(allFiles, x), to_check))"
   ]
  },
  {
   "cell_type": "markdown",
   "metadata": {},
   "source": [
    "So, the both lines are available in each file, however a quick check in the files indicates that the cell may be empty.\n",
    "\n",
    "Below, we found out that there is many NA values for the lasts months, only totals are available which mixes confirmed, probable and suspected cases. We have chosen along the way to consider only *confirmed cases*, so we are going to drop those data. First, let's check how many data we are going to drop.\n",
    "\n",
    "Also, there is discrependencies between New deaths reported and cumulated data.\n",
    "\n",
    "For the new cases, we also are going to use the cumulated data, except for the last file, were it seems that the cumulated data has moved to the new cases column. We patch manually this"
   ]
  },
  {
   "cell_type": "markdown",
   "metadata": {},
   "source": [
    "In the `2014-10-04-v142.csv` file, there is two Total deaths line, we keep only the second one"
   ]
  },
  {
   "cell_type": "code",
   "execution_count": null,
   "metadata": {
    "scrolled": true
   },
   "outputs": [],
   "source": [
    "allFiles = glob.glob(DATA_FOLDER + '/ebola/liberia_data/*.csv')\n",
    "\n",
    "list_ = []\n",
    "\n",
    "for file_ in allFiles:\n",
    "    df = pd.read_csv(file_, index_col=['Variable', 'Date'])\n",
    "    \n",
    "    # Normalize variable column\n",
    "    new_values = list(map(lambda x: re.sub(\"\\s\\s+\" , \" \", x.replace(\"\\n\", \"\")), df.index.levels[0].values.tolist()))\n",
    "    df.index = df.index.set_levels(levels=new_values, level=0)\n",
    "    \n",
    "    data = df[[\"National\"]]\n",
    "\n",
    "    total_deaths = data.loc[TOTAL_DEATH]\n",
    "    new_cases = data.loc[NEW_CASES]\n",
    "    total_cases = data.loc[TOTAL_NEW_CASES]\n",
    "    \n",
    "    concatenated = pd.concat([total_deaths.tail(n=1), new_cases, total_cases], axis=1)\n",
    "    concatenated.columns = [\"Total death\", \"New cases\", \"New cases (cumul.)\"]\n",
    "    list_.append(concatenated)\n",
    "    \n",
    "frame = pd.concat(list_)\n",
    "\n",
    "# keep only NaN value.\n",
    "death_null = frame[frame[\"Total death\"].isnull()].shape[0]\n",
    "death_total = frame.shape[0]\n",
    "\n",
    "cases_null = frame[frame[\"New cases\"].isnull()].shape[0]\n",
    "cases_total = frame.shape[0]\n",
    "\n",
    "frame[\"New cases (cumul.)\"][\"12/9/2014\"] = frame[\"New cases\"][\"12/9/2014\"]\n",
    "frame.index = pd.to_datetime(frame.index)\n",
    "\n",
    "def remove_outliers(x,y):\n",
    "    #print(x, y, x > y)\n",
    "    if(x > y):\n",
    "        return x\n",
    "    return y\n",
    "\n",
    "frame[\"corr\"] = frame[\"New cases (cumul.)\"].rolling(window=2).apply(lambda x: remove_outliers(x[0], x[1]))\n",
    "\n",
    "frame[\"Month\"] = frame.index.map(lambda x: x.month).astype(int)\n",
    "frame[\"Day\"] = frame.index.map(lambda x: x.day).astype(int)\n",
    "frame.index = [frame[\"Month\"], frame[\"Day\"]]\n",
    "\n",
    "a = pd.concat(\n",
    "    [frame.groupby(['Month'])['Day'].min().reset_index(),\n",
    "    frame.groupby(['Month'])['Day'].max().reset_index()]\n",
    ").sort_index()\n",
    "result = pd.merge(a, frame, on=[\"Month\", \"Day\"], how=\"left\")\n",
    "\n",
    "result.index = pd.to_datetime(result[['Month','Day']].apply(lambda x : '{}-{}-2014'.format(x[0],x[1]), axis=1))\n",
    "result = result.drop([\"Month\", \"Day\"], axis=1)\n",
    "\n",
    "result"
   ]
  },
  {
   "cell_type": "markdown",
   "metadata": {},
   "source": [
    "We can that there must have been a mistake in the New cases (cumul.) column at the end of October 2011 as the cumulative amount drops from 926 to 73. In our corralated New cases *(corr column)* we got a total of 2437 which is much more coherent with the following datas. We decided to use that summed amount for the calculations.\n",
    "\n",
    "As explained before we will only consider the cumulative results as they are much more coherent et complete."
   ]
  },
  {
   "cell_type": "code",
   "execution_count": null,
   "metadata": {},
   "outputs": [],
   "source": [
    "result['New cases (cumul.)']['2014-10-31'] = result['corr']['2014-10-31']\n",
    "result"
   ]
  },
  {
   "cell_type": "markdown",
   "metadata": {},
   "source": [
    "#### Now putting all that togheter and averaging daily we get this results for the Liberia data:"
   ]
  },
  {
   "cell_type": "code",
   "execution_count": null,
   "metadata": {},
   "outputs": [],
   "source": [
    "avg_result_L = avg_table_daily(result)\n",
    "avg_result_L = avg_result_L.reindex([\"2014-6\", \"2014-7\", \"2014-8\", '2014-9', '2014-10', '2014-11', '2014-12'])\n",
    "avg_result_L['Country'] = 'Liberia'\n",
    "avg_result_L"
   ]
  },
  {
   "cell_type": "markdown",
   "metadata": {},
   "source": [
    "## Sierre Leone\n",
    "\n",
    "### Check structures of the files\n",
    "\n",
    "#### Headers"
   ]
  },
  {
   "cell_type": "code",
   "execution_count": null,
   "metadata": {
    "scrolled": true
   },
   "outputs": [],
   "source": [
    "allFiles = glob.glob(DATA_FOLDER + '/ebola/sl_data/*.csv')\n",
    "check_headers(allFiles)"
   ]
  },
  {
   "cell_type": "code",
   "execution_count": null,
   "metadata": {},
   "outputs": [],
   "source": [
    "are_date_unique_per_file(allFiles, True)"
   ]
  },
  {
   "cell_type": "markdown",
   "metadata": {},
   "source": [
    "For the Sierra Leone we decided to keep the *confirmed* number for the new cases and death, as it seemed to make more sense to keep only the amount of infected and dead we were sure about."
   ]
  },
  {
   "cell_type": "code",
   "execution_count": null,
   "metadata": {},
   "outputs": [],
   "source": [
    "TOTAL_NEW_CASES = \"cum_confirmed\"\n",
    "TOTAL_DEATH = \"death_confirmed\"\n",
    "\n",
    "to_check = [TOTAL_DEATH, TOTAL_NEW_CASES]\n",
    "list(map(lambda x: check_column_in_files(allFiles, x, True, False), to_check))"
   ]
  },
  {
   "cell_type": "markdown",
   "metadata": {},
   "source": [
    "As the total deaths data was missing from the last file for december (13-12-2014) we decided to keep the amounts (for every column) shown in the last file that was complete (05-12-2014). This is why we do not take the last two files in the calculations."
   ]
  },
  {
   "cell_type": "code",
   "execution_count": null,
   "metadata": {
    "scrolled": true
   },
   "outputs": [],
   "source": [
    "list_ = []\n",
    "\n",
    "for file_ in allFiles[:len(allFiles) - 2]:\n",
    "    df = pd.read_csv(file_, index_col=['variable', 'date'])\n",
    "    \n",
    "    # Normalize variable column\n",
    "    new_values = list(map(lambda x: re.sub(\"\\s\\s+\" , \" \", x.replace(\"\\n\", \"\")), df.index.levels[0].values.tolist()))\n",
    "    df.index = df.index.set_levels(levels=new_values, level=0)\n",
    "    \n",
    "    data = df[[\"National\"]]\n",
    "    \n",
    "    total_deaths = data.loc[TOTAL_DEATH]\n",
    "    total_cases = data.loc[TOTAL_NEW_CASES]\n",
    "    \n",
    "    concatenated = pd.concat([total_deaths.tail(n=1), total_cases], axis=1)\n",
    "    concatenated.columns = [\"Total death\", \"New cases (cumul.)\"]\n",
    "    \n",
    "    list_.append(concatenated)\n",
    "    \n",
    "    \n",
    "    \n",
    "frame = pd.concat(list_)\n",
    "frame.index = pd.to_datetime(frame.index)\n",
    "frame[\"Month\"] = frame.index.map(lambda x: x.month).astype(int)\n",
    "frame[\"Day\"] = frame.index.map(lambda x: x.day).astype(int)\n",
    "frame.index = [frame[\"Month\"], frame[\"Day\"]]\n",
    "\n",
    "a = pd.concat(\n",
    "    [frame.groupby(['Month'])['Day'].min().reset_index(),\n",
    "    frame.groupby(['Month'])['Day'].max().reset_index()]\n",
    ").sort_index()\n",
    "result = pd.merge(a, frame, on=[\"Month\", \"Day\"], how=\"left\")\n",
    "\n",
    "result.index = pd.to_datetime(result[['Month','Day']].apply(lambda x : '{}-{}-2014'.format(x[0],x[1]), axis=1))\n",
    "result = result.drop([\"Month\", \"Day\"], axis=1)\n",
    "\n",
    "result"
   ]
  },
  {
   "cell_type": "markdown",
   "metadata": {},
   "source": [
    "#### Now putting all that togheter and averaging daily we get this results for the Sierra Leone data:"
   ]
  },
  {
   "cell_type": "code",
   "execution_count": null,
   "metadata": {},
   "outputs": [],
   "source": [
    "avg_result_SL = avg_table_daily(result)\n",
    "avg_result_SL = avg_result_SL.reindex([\"2014-8\", '2014-9', '2014-10', '2014-11', '2014-12'])\n",
    "avg_result_SL['Country'] = 'Sierra Leone'\n",
    "avg_result_SL"
   ]
  },
  {
   "cell_type": "markdown",
   "metadata": {},
   "source": [
    "## Guinea\n",
    "\n",
    "### Check structures of the files\n",
    "\n",
    "#### Headers"
   ]
  },
  {
   "cell_type": "code",
   "execution_count": null,
   "metadata": {
    "scrolled": true
   },
   "outputs": [],
   "source": [
    "allFiles = glob.glob(DATA_FOLDER + '/ebola/guinea_data/*.csv')\n",
    "check_headers(allFiles)"
   ]
  },
  {
   "cell_type": "code",
   "execution_count": null,
   "metadata": {},
   "outputs": [],
   "source": [
    "are_date_unique_per_file(allFiles)"
   ]
  },
  {
   "cell_type": "markdown",
   "metadata": {},
   "source": [
    "We can see that three columns are always available: Date, Description and Totals. We decided to use the total cumulative confirmed amount for deaths and new cases."
   ]
  },
  {
   "cell_type": "code",
   "execution_count": null,
   "metadata": {},
   "outputs": [],
   "source": [
    "TOTAL_NEW_CASES = \"Total cases of confirmed\"\n",
    "TOTAL_DEATH = \"Total deaths of confirmed\"\n",
    "\n",
    "to_check = [TOTAL_DEATH, TOTAL_NEW_CASES]\n",
    "list(map(lambda x: check_column_in_files(allFiles, x, False, True), to_check))"
   ]
  },
  {
   "cell_type": "code",
   "execution_count": null,
   "metadata": {
    "scrolled": true
   },
   "outputs": [],
   "source": [
    "list_ = []\n",
    "\n",
    "for file_ in allFiles[:len(allFiles)-1]:\n",
    "    df = pd.read_csv(file_, index_col=['Description', 'Date'])\n",
    "    \n",
    "    # Normalize variable column\n",
    "    new_values = list(map(lambda x: re.sub(\"\\s\\s+\" , \" \", x.replace(\"\\n\", \"\")), df.index.levels[0].values.tolist()))\n",
    "    df.index = df.index.set_levels(levels=new_values, level=0)\n",
    "    \n",
    "    data = df[[\"Totals\"]]\n",
    "    \n",
    "    total_deaths = data.loc[TOTAL_DEATH]\n",
    "    total_cases = data.loc[TOTAL_NEW_CASES]\n",
    "    \n",
    "    concatenated = pd.concat([total_deaths.tail(n=1), total_cases], axis=1)\n",
    "    concatenated.columns = [\"Total death\", \"New cases (cumul.)\"]\n",
    "    \n",
    "    list_.append(concatenated)\n",
    "    \n",
    "    \n",
    "    \n",
    "frame = pd.concat(list_)\n",
    "frame.index = pd.to_datetime(frame.index)\n",
    "frame[\"Month\"] = frame.index.map(lambda x: x.month).astype(int)\n",
    "frame[\"Day\"] = frame.index.map(lambda x: x.day).astype(int)\n",
    "frame.index = [frame[\"Month\"], frame[\"Day\"]]\n",
    "\n",
    "a = pd.concat(\n",
    "    [frame.groupby(['Month'])['Day'].min().reset_index(),\n",
    "    frame.groupby(['Month'])['Day'].max().reset_index()]\n",
    ").sort_index()\n",
    "result = pd.merge(a, frame, on=[\"Month\", \"Day\"], how=\"left\")\n",
    "\n",
    "result.index = pd.to_datetime(result[['Month','Day']].apply(lambda x : '{}-{}-2014'.format(x[0],x[1]), axis=1))\n",
    "result = result.drop([\"Month\", \"Day\"], axis=1)\n",
    "\n",
    "result"
   ]
  },
  {
   "cell_type": "markdown",
   "metadata": {},
   "source": [
    "The guinea data for October 2014 only contained one day of data. We decided to drop it as it doesn't make much sense to return a daily average per month on one day."
   ]
  },
  {
   "cell_type": "markdown",
   "metadata": {},
   "source": [
    "#### Now putting all that togheter and averaging daily we get this results for the Guinea data:"
   ]
  },
  {
   "cell_type": "code",
   "execution_count": null,
   "metadata": {},
   "outputs": [],
   "source": [
    "avg_result_G = avg_table_daily(result)\n",
    "avg_result_G = avg_result_G.reindex([\"2014-8\", '2014-9'])\n",
    "avg_result_G['Country'] = 'Guinea'\n",
    "avg_result_G"
   ]
  },
  {
   "cell_type": "markdown",
   "metadata": {},
   "source": [
    "### Putting everything together"
   ]
  },
  {
   "cell_type": "code",
   "execution_count": null,
   "metadata": {},
   "outputs": [],
   "source": [
    "total_result = pd.concat([avg_result_L, avg_result_SL, avg_result_G])\n",
    "total_result = total_result.set_index([total_result['Country'], total_result.index]).drop('Country', axis=1)\n",
    "total_result"
   ]
  },
  {
   "cell_type": "markdown",
   "metadata": {},
   "source": [
    "## Task 2. RNA Sequences\n",
    "\n",
    "In the `DATA_FOLDER/microbiome` subdirectory, there are 9 spreadsheets of microbiome data that was acquired from high-throughput RNA sequencing procedures, along with a 10<sup>th</sup> file that describes the content of each. \n",
    "\n",
    "Use pandas to import the first 9 spreadsheets into a single `DataFrame`.\n",
    "Then, add the metadata information from the 10<sup>th</sup> spreadsheet as columns in the combined `DataFrame`.\n",
    "Make sure that the final `DataFrame` has a unique index and all the `NaN` values have been replaced by the tag `unknown`."
   ]
  },
  {
   "cell_type": "markdown",
   "metadata": {},
   "source": [
    "## Solution"
   ]
  },
  {
   "cell_type": "markdown",
   "metadata": {},
   "source": [
    "To solve this exercice we will first load the metadata and modify the NA value to the *unknown* tag. After that we will load every MIDx.xls file in a separate DataFrame and store them in a list to be able to concat them together. While we load the files we will add a new column call *BARCODE* and store which file every row comes from. This will allow us to use a simple merge to fill the metadatas in for each line. Finaly to keep unique indexes we will use the tupple [*BARCODE, TAXON*]"
   ]
  },
  {
   "cell_type": "code",
   "execution_count": null,
   "metadata": {
    "collapsed": true
   },
   "outputs": [],
   "source": [
    "DATA_FILE = DATA_FOLDER + '/microbiome/'\n",
    "METADATA = 'metadata'\n",
    "MID = 'MID'\n",
    "XLS = '.xls'"
   ]
  },
  {
   "cell_type": "code",
   "execution_count": null,
   "metadata": {},
   "outputs": [],
   "source": [
    "metadata = pd.read_excel(DATA_FILE + METADATA + XLS).fillna('unknown')\n",
    "metadata"
   ]
  },
  {
   "cell_type": "code",
   "execution_count": null,
   "metadata": {},
   "outputs": [],
   "source": [
    "temp_df_list = []\n",
    "for x in range(9):\n",
    "    temp_df = pd.read_excel(DATA_FILE + MID + str(x+1) + XLS, header=None)\n",
    "    temp_df['BARCODE'] = pd.Series([MID + str(x+1)]*len(temp_df))\n",
    "    temp_df_list.append(temp_df)\n",
    "taxons = pd.concat(temp_df_list)\n",
    "taxons.columns = ['TAXON', 'COUNT', 'BARCODE']\n",
    "taxons.head()"
   ]
  },
  {
   "cell_type": "code",
   "execution_count": null,
   "metadata": {},
   "outputs": [],
   "source": [
    "final = taxons.merge(metadata, on='BARCODE', how='left').set_index(['BARCODE', 'TAXON'])\n",
    "final.head()"
   ]
  },
  {
   "cell_type": "code",
   "execution_count": null,
   "metadata": {},
   "outputs": [],
   "source": [
    "final.tail()"
   ]
  },
  {
   "cell_type": "markdown",
   "metadata": {},
   "source": [
    "We can check that the index is unique and that there is no more NaN values\n"
   ]
  },
  {
   "cell_type": "code",
   "execution_count": null,
   "metadata": {},
   "outputs": [],
   "source": [
    "final.index.is_unique"
   ]
  },
  {
   "cell_type": "code",
   "execution_count": null,
   "metadata": {},
   "outputs": [],
   "source": [
    "final.isnull()"
   ]
  },
  {
   "cell_type": "markdown",
   "metadata": {},
   "source": [
    "## Task 3. Class War in Titanic\n",
    "\n",
    "Use pandas to import the data file `Data/titanic.xls`. It contains data on all the passengers that travelled on the Titanic."
   ]
  },
  {
   "cell_type": "code",
   "execution_count": null,
   "metadata": {},
   "outputs": [],
   "source": [
    "HTML(filename=DATA_FOLDER+'/titanic.html')"
   ]
  },
  {
   "cell_type": "markdown",
   "metadata": {},
   "source": [
    "For each of the following questions state clearly your assumptions and discuss your findings:\n",
    "1. Describe the *type* and the *value range* of each attribute. Indicate and transform the attributes that can be `Categorical`. \n",
    "2. Plot histograms for the *travel class*, *embarkation port*, *sex* and *age* attributes. For the latter one, use *discrete decade intervals*. \n",
    "3. Calculate the proportion of passengers by *cabin floor*. Present your results in a *pie chart*.\n",
    "4. For each *travel class*, calculate the proportion of the passengers that survived. Present your results in *pie charts*.\n",
    "5. Calculate the proportion of the passengers that survived by *travel class* and *sex*. Present your results in *a single histogram*.\n",
    "6. Create 2 equally populated *age categories* and calculate survival proportions by *age category*, *travel class* and *sex*. Present your results in a `DataFrame` with unique index."
   ]
  },
  {
   "cell_type": "code",
   "execution_count": 52,
   "metadata": {},
   "outputs": [],
   "source": [
    "#Load data\n",
    "frame = pd.read_excel(DATA_FOLDER+'/titanic.xls')"
   ]
  },
  {
   "cell_type": "markdown",
   "metadata": {},
   "source": [
    "### Cleanup\n",
    "\n",
    "#### Tickets\n",
    "To be able to describe the different atributes of this dataset we need to cleanup the dataset. For the ticket atribute we noticed that the tickets are described mostly by integers but in samoe cases there is text in front of the ticket number such as `'PC'`, `'.A.'`, ect... To clean this column we remove all the letters and punctuation that is around the ticket number. \n",
    "\n",
    "#### Age\n",
    "Cleaning up the data regarding the age was done in the folowing way: \n",
    "- Samples containing null value as age were dropped. There was the possibility to assign random ages from the range `0-80` years but the distribution of these ages is unknown (i.e. require  additional analysis to be know) thus dropping these values was more reasnoable. \n",
    "- The minimal age is `0.1667` which we consider is a valid age, representing a fraction from year \n",
    "\n",
    "#### Embarked\n",
    "The `embarked` column has only two null, and whit the same argument as for the age attribute, we decided to drop these values \n",
    "\n",
    "#### pclass, sex, survived\n",
    "The columns of these attributes are fully populated and without strange values \n",
    "\n",
    "#### cabin \n",
    "The null values for the `cabin` attribute are droped only when we count number of passengers by floor. \n",
    "\n",
    "#### Other attributes\n",
    "We didn't clean data regarding the other attributes since they are not used in the analysis"
   ]
  },
  {
   "cell_type": "code",
   "execution_count": 40,
   "metadata": {},
   "outputs": [
    {
     "name": "stdout",
     "output_type": "stream",
     "text": [
      "In total 0 samples were dropped, out of 1044 initial number of samples\n"
     ]
    }
   ],
   "source": [
    "initial = len(frame)\n",
    "#Ticket cleanup\n",
    "frame.ticket = frame.ticket.map(lambda tickets: str(tickets).strip('{}{}'.format(string.ascii_letters, string.punctuation)).split(' ')[-1])\n",
    "frame.ticket = frame.ticket.map(lambda tickets: 0 if len(tickets)==0 else int(tickets))\n",
    "\n",
    "#Age cleanup\n",
    "frame = frame[frame.age.notnull()]\n",
    "frame = frame[frame.embarked.notnull()]\n",
    "final = len(frame)\n",
    "\n",
    "print(\"In total {} samples were dropped, out of {} initial number of samples\".format(initial-final, initial))"
   ]
  },
  {
   "cell_type": "markdown",
   "metadata": {},
   "source": [
    "### 1.Describe the type and the value range of each attribute. Indicate and transform the attributes that can be Categorical.\n"
   ]
  },
  {
   "cell_type": "code",
   "execution_count": 46,
   "metadata": {},
   "outputs": [
    {
     "name": "stdout",
     "output_type": "stream",
     "text": [
      "\n",
      "pclass \n",
      " range: [1, 2, 3]\n",
      "Categories (3, int64): [1, 2, 3]\n",
      " type: category\n",
      "\n",
      "survived \n",
      " range: [1, 0]\n",
      "Categories (2, int64): [1, 0]\n",
      " type: category\n",
      "\n",
      "sex \n",
      " range: [female, male]\n",
      "Categories (2, object): [female, male]\n",
      " type: category\n",
      "\n",
      "embarked \n",
      " range: [S, C, Q]\n",
      "Categories (3, object): [S, C, Q]\n",
      " type: category\n",
      "\n",
      "parch \n",
      " range: 0-6\n",
      " type: int64\n",
      "\n",
      "sibsp \n",
      " range: 0-8\n",
      " type: int64\n",
      "\n",
      "age \n",
      " range: 0.1667-80.0\n",
      " type: float64\n",
      "\n",
      "ticket \n",
      " range: 0-3101317\n",
      " type: int64\n",
      "\n",
      "fare \n",
      " range: 0.0-512.3292\n",
      " type: float64\n",
      "\n",
      "body \n",
      " range: 1.0-328.0\n",
      " type: float64\n",
      "\n",
      "boat \n",
      " range: [2 '11' nan '3' '10' 'D' '4' '9' '6' 'B' '8' 'A' '5' '7' 'C' '14' '2' '5 9'\n",
      " '13' '1' '15' '5 7' '8 10' '12' '16' '13 15 B' 'C D' '13 15']\n",
      " type: object\n",
      "\n",
      "cabin \n",
      " range: ['B5' 'C22 C26' 'E12' 'D7' 'A36' 'C101' nan 'C62 C64' 'B35' 'A23' 'B58 B60'\n",
      " 'D15' 'C6' 'D35' 'C148' 'C97' 'B49' 'C99' 'C52' 'T' 'A31' 'C7' 'C103'\n",
      " 'D22' 'E33' 'A21' 'B10' 'B4' 'E40' 'B38' 'E24' 'B51 B53 B55' 'B96 B98'\n",
      " 'C46' 'E31' 'E8' 'B61' 'B77' 'A9' 'C89' 'E58' 'E49' 'E52' 'E45' 'B22'\n",
      " 'B26' 'C85' 'E17' 'B71' 'B20' 'A34' 'C86' 'A16' 'A20' 'A18' 'C54' 'C45'\n",
      " 'D20' 'A29' 'E25' 'C111' 'C23 C25 C27' 'E36' 'D40' 'B39' 'B41' 'C123'\n",
      " 'E63' 'C130' 'B86' 'C92' 'A5' 'C51' 'B42' 'C91' 'C125' 'D10 D12' 'B82 B84'\n",
      " 'E50' 'D33' 'C83' 'B94' 'D49' 'B69' 'B11' 'C39' 'B18' 'D11' 'C93' 'C49'\n",
      " 'B52 B54 B56' 'E60' 'C132' 'B37' 'D21' 'D19' 'D17' 'B101' 'D28' 'D6' 'D9'\n",
      " 'B80' 'C106' 'B79' 'D30' 'C90' 'E46' 'E38' 'C78' 'C30' 'C118' 'D36' 'D48'\n",
      " 'D47' 'C105' 'B36' 'B30' 'D43' 'C124' 'B24' 'C2' 'C65' 'B73' 'C104' 'C110'\n",
      " 'C50' 'B3' 'A24' 'A11' 'A10' 'B57 B59 B63 B66' 'C28' 'E44' 'A26' 'A6' 'A7'\n",
      " 'C31' 'B45' 'E34' 'B78' 'B50' 'C87' 'C116' 'C55 C57' 'D50' 'E68' 'E67'\n",
      " 'C126' 'C68' 'C70' 'C53' 'B19' 'D46' 'D37' 'D26' 'C32' 'C80' 'C82'\n",
      " 'E39 E41' 'D' 'F4' 'D56' 'F33' 'E77' 'F2' 'D38' 'F' 'E101' 'F G63' 'F E57'\n",
      " 'F G73' 'E121' 'E10' 'G6']\n",
      " type: object\n",
      "\n",
      "name \n",
      " range: ['Allen, Miss. Elisabeth Walton' 'Allison, Master. Hudson Trevor'\n",
      " 'Allison, Miss. Helen Loraine' ..., 'Zakarian, Mr. Mapriededer'\n",
      " 'Zakarian, Mr. Ortin' 'Zimmerman, Mr. Leo']\n",
      " type: object\n",
      "\n",
      "home.dest \n",
      " range: ['St Louis, MO' 'Montreal, PQ / Chesterville, ON' 'New York, NY'\n",
      " 'Hudson, NY' 'Belfast, NI' 'Bayside, Queens, NY' 'Montevideo, Uruguay'\n",
      " 'Paris, France' nan 'Hessle, Yorks' 'Montreal, PQ' 'Winnipeg, MN'\n",
      " 'San Francisco, CA' 'Dowagiac, MI' 'Stockholm, Sweden / Washington, DC'\n",
      " 'Trenton, NJ' 'Glen Ridge, NJ' 'Youngstown, OH'\n",
      " 'Birkdale, England Cleveland, Ohio' 'London / Winnipeg, MB'\n",
      " 'Cooperstown, NY' 'St Leonards-on-Sea, England Ohio' 'Pomeroy, WA'\n",
      " 'Omaha, NE' 'Denver, CO' 'Belmont, MA' 'Philadelphia, PA' 'Washington, DC'\n",
      " 'Austria-Hungary / Germantown, Philadelphia, PA'\n",
      " 'Germantown, Philadelphia, PA' 'Bryn Mawr, PA'\n",
      " 'Ascot, Berkshire / Rochester, NY' 'Little Onn Hall, Staffs' 'Amenia, ND'\n",
      " 'New York, NY / Ithaca, NY' 'London, England' 'Los Angeles, CA'\n",
      " 'Victoria, BC' 'Lakewood, NJ' 'Milwaukee, WI' 'Lima, Peru' 'Calgary, AB'\n",
      " 'Deephaven, MN / Cedar Rapids, IA' 'London / Paris'\n",
      " 'Mt Airy, Philadelphia, PA' 'Brookline, MA' 'Brooklyn, NY' 'Winnipeg, MB'\n",
      " 'Zurich, Switzerland' 'Scituate, MA' \"St Anne's-on-Sea, Lancashire\"\n",
      " 'Paris, France / New York, NY' 'Greenwich, CT' 'London / Middlesex'\n",
      " 'London / Birmingham' 'Chicago, IL' 'Indianapolis, IN'\n",
      " 'New York, NY /  Stamford CT' 'Paris, France New York, NY' 'Liverpool'\n",
      " 'Bennington, VT' 'London' 'Buffalo, NY' 'Southington / Noank, CT'\n",
      " 'Boston, MA' 'Stockholm, Sweden' 'Springfield, MA' 'London / New York, NY'\n",
      " 'Brockton, MA' 'Belgium  Montreal, PQ' 'Vancouver, BC' 'Dorchester, MA'\n",
      " 'East Bridgewater, MA' 'Fond du Lac, WI' 'Green Bay, WI' 'Lexington, MA'\n",
      " 'Isle of Wight, England' 'Providence, RI' '?Havana, Cuba'\n",
      " 'Surbiton Hill, Surrey' 'Isleworth, England' 'Madrid, Spain' 'Toronto, ON'\n",
      " 'Worcester, MA' 'Rotterdam, Netherlands' 'London  Vancouver, BC'\n",
      " 'Haverford, PA / Cooperstown, NY' 'New York, NY / Greenwich CT'\n",
      " 'Duluth, MN' 'Basel, Switzerland' 'New Britain, CT'\n",
      " 'St James, Long Island, NY' 'Huntington, WV' 'Minneapolis, MN'\n",
      " 'Tuxedo Park, NY' 'Wimbledon Park, London / Hayling Island, Hants'\n",
      " 'Newark, NJ' 'Haverford, PA' 'Haddenfield, NJ' 'London /  East Orange, NJ'\n",
      " 'Albany, NY' 'Mexico City, Mexico' 'East Orange, NJ' 'Portland, OR'\n",
      " 'England Salt Lake City, Utah' 'Brunswick, ME'\n",
      " 'New York, NY / Briarcliff Manor NY' 'Elkins Park, PA'\n",
      " 'Geneva, Switzerland / Radnor, PA' 'Halifax, NS'\n",
      " 'New York, NY / Washington, DC' 'Russia New York, NY' 'Bryn Mawr, PA, USA'\n",
      " 'Buenos Aires, Argentina / New Jersey, NJ'\n",
      " 'Cornwall, England Houghton, MI' 'Warwick, England' 'West Hoboken, NJ'\n",
      " 'Penzance, Cornwall / Akron, OH' 'Guernsey'\n",
      " 'Bristol, Avon / Jacksonville, FL' 'Plymouth, Dorset / Houghton, MI'\n",
      " 'Jacksonville, FL' 'Norwich / New York, NY' 'England'\n",
      " 'Guntur, India / Benton Harbour, MI' 'Rochester, NY'\n",
      " 'St Ives, Cornwall / Calumet, MI' 'Elmira, NY / Orange, NJ'\n",
      " 'Lake Arthur, Chavez County, NM' 'London / Montreal, PQ'\n",
      " 'Cape Town, South Africa / Seattle, WA' 'Skara, Sweden / Rockford, IL'\n",
      " 'Sittingbourne, England / San Diego, CA' 'Southsea, Hants'\n",
      " 'Bangkok, Thailand / Roseville, IL' 'Mamaroneck, NY' 'Bronx, NY'\n",
      " 'Cornwall / Spokane, WA' 'England / San Francisco, CA'\n",
      " 'Hartford, Huntingdonshire' 'Helsinki, Finland Ashtabula, Ohio'\n",
      " 'London / Fort Byron, NY' 'Bishopstoke, Hants / Fayette Valley, ID'\n",
      " 'Pennsylvania' 'Provo, UT' 'St Ives, Cornwall / Hancock, MI'\n",
      " 'Lyndhurst, England' 'London / Staten Island, NY'\n",
      " 'Portugal / Sau Paulo, Brazil' 'Lucca, Italy / California'\n",
      " 'Guernsey / Elizabeth, NJ' 'New Forest, England' 'Southampton'\n",
      " 'Holley, NY' 'Greenport, NY' 'Barcelona, Spain / Havana, Cuba'\n",
      " 'England / Detroit, MI' 'Goteborg, Sweden / Rockford, IL'\n",
      " 'Oslo, Norway Bayonne, NJ' 'England / Philadelphia, PA'\n",
      " 'Cornwall / Houghton, MI' 'Janjgir, India / Pennsylvania'\n",
      " 'Liverpool / Montreal, PQ' 'Cornwall / Clear Creek, CO' 'Cornwall'\n",
      " 'Cornwall / Camden, NJ' 'West Kensington, London' 'Clevedon, England'\n",
      " 'Auburn, NY' 'Detroit, MI' 'Seattle, WA / Toledo, OH'\n",
      " 'Denmark Hill, Surrey / Chicago' 'Walthamstow, England'\n",
      " 'Ilford, Essex / Winnipeg, MB' 'Somerset / Bernardsville, NJ'\n",
      " 'India / Rapid City, SD' 'West Hampstead, London / Neepawa, MB'\n",
      " 'Kontiolahti, Finland / Detroit, MI' 'Cornwall / Akron, OH'\n",
      " 'Devonport, England' 'England / Sacramento, CA' 'Tokyo, Japan'\n",
      " 'Swindon, England' 'North Evington, England'\n",
      " 'St Ives, Cornwall / Houghton, MI' 'Moscow / Bronx, NY'\n",
      " 'India / Pittsburgh, PA' 'Glasgow / Bangor, ME' 'Sweden / Arlington, NJ'\n",
      " 'Paris / Haiti' 'Berne, Switzerland / Central City, IA'\n",
      " 'Weston-Super-Mare, Somerset' 'Southampton / New York, NY'\n",
      " 'Paris / Montreal, PQ' 'St Austall, Cornwall'\n",
      " 'Weston-Super-Mare / Moose Jaw, SK' 'Sydney, Australia' 'Sarnia, ON'\n",
      " 'England / Bennington, VT' 'Chelsea, London'\n",
      " 'Harrow-on-the-Hill, Middlesex' 'Copenhagen, Denmark'\n",
      " 'Guernsey / Montclair, NJ and/or Toledo, Ohio' 'Frankfort, KY'\n",
      " 'Halesworth, England' 'Cambridge, MA' 'Nice, France'\n",
      " 'Cornwall / Hancock, MI' 'Glasgow' 'Cologne, Germany'\n",
      " 'Folkstone, Kent / New York, NY' 'Middleburg Heights, OH'\n",
      " 'Pondersend, England / New Durham, NJ' 'Hamilton, ON'\n",
      " 'Spain / Havana, Cuba' 'St Andrews, Guernsey' 'Woodford County, KY'\n",
      " 'Gunnislake, England / Butte, MT' 'Ilfracombe, Devon' 'Worcester, England'\n",
      " 'Russia' 'Denmark / New York, NY' 'Milford, NH' 'Paris'\n",
      " 'Plymouth, Devon / Detroit, MI' 'Brighton, Sussex' 'Elizabeth, NJ' 'Spain'\n",
      " 'London, England / Marietta, Ohio and Milwaukee, WI'\n",
      " 'Guernsey / Wilmington, DE' 'Hornsey, England' 'Deer Lodge, MT'\n",
      " 'Finland / Minneapolis, MN' 'Finland / Washington, DC'\n",
      " 'Sault St Marie, ON' 'Catford, Kent / Detroit, MI' 'Columbus, OH'\n",
      " 'Bath, England / Massachusetts' 'Plymouth, England'\n",
      " 'Barre, Co Washington, VT' 'Bristol, England / New Britain, CT'\n",
      " 'Aberdeen / Portland, OR' 'England / Hartford, CT'\n",
      " 'Bromsgrove, England / Montreal, PQ' 'Bournmouth, England'\n",
      " 'Guernsey, England / Edgewood, RI' 'Yoevil, England / Cottage Grove, OR'\n",
      " 'East Providence, RI' 'Norway Los Angeles, CA' 'Perkins County, SD'\n",
      " 'Taalintehdas, Finland Hoboken, NJ' 'Greensburg, PA'\n",
      " 'Asarum, Sweden Brooklyn, NY' 'Bournemouth, England' 'Sweden Akeley, MN'\n",
      " 'London, England Norfolk, VA' 'Syria Fredericksburg, VA'\n",
      " 'England Albion, NY' 'Salo, Finland Astoria, OR' 'Argentina'\n",
      " 'Lower Clapton, Middlesex or Erdington, Birmingham'\n",
      " 'Windsor, England New York, NY' 'Bergen, Norway' 'Sweden Winnipeg, MN'\n",
      " 'Ruotsinphyhtaa, Finland New York, NY' 'Vadsbro, Sweden Ministee, MI'\n",
      " 'Hartford, CT' 'Sweden Chicago, IL' 'Bulgaria Chicago, IL'\n",
      " 'Altdorf, Switzerland' 'Sweden Joliet, IL' 'Sweden  Worcester, MA'\n",
      " 'Sweden Worcester, MA' 'Oskarshamn, Sweden Minneapolis, MN' 'Ottawa, ON'\n",
      " 'Krakoryd, Sweden Bloomington, IL' 'Syria Youngstown, OH'\n",
      " 'Ruotsinphytaa, Finland New York, NY' 'Syria New York, NY'\n",
      " 'London Skanteales, NY' 'Syria Ottawa, ON' 'England New York, NY'\n",
      " 'Krakudden, Sweden Moune, IL' 'Tranvik, Finland New York' 'Syria'\n",
      " 'Hong Kong New York, NY' 'Brennes, Norway New York'\n",
      " 'Stockholm, Sweden New York' 'Syria Kent, ON' 'Ireland Chicago, IL'\n",
      " 'Treherbert, Cardiff, Wales'\n",
      " 'Kingwilliamstown, Co Cork, Ireland Glens Falls, NY'\n",
      " 'Medeltorp, Sweden Chicago, IL' 'Bridgerule, Devon'\n",
      " 'Broomfield, Chelmsford, England' 'Co Cork, Ireland Roxbury, MA'\n",
      " 'Kingwilliamstown, Co Cork, Ireland New York, NY'\n",
      " 'Co Cork, Ireland Charlestown, MA' 'Co Sligo, Ireland New York, NY'\n",
      " 'Croatia' 'Ireland Philadelphia, PA' 'Dagsas, Sweden Fower, MN'\n",
      " 'Goteborg, Sweden Huntley, IL' 'Co Longford, Ireland New York, NY'\n",
      " 'Co Sligo, Ireland Hartford, CT' 'St Denys, Southampton, Hants'\n",
      " 'Ireland New York, NY' 'Greece' 'Portugal' 'London Brooklyn, NY'\n",
      " 'Co Limerick, Ireland Sherbrooke, PQ' 'Ireland Brooklyn, NY' 'Ireland'\n",
      " 'Austria' 'England Brooklyn, NY' 'Merrill, WI'\n",
      " 'Bristol, England Cleveland, OH' 'Bournemouth, England Newark, NJ'\n",
      " 'Austria-Hungary' 'Australia Fingal, ND' 'Norrlot, Sweden Chicago, IL'\n",
      " 'Co Athlone, Ireland New York, NY' 'Stanton, IA'\n",
      " 'West Bromwich, England Pontiac, MI' 'Tampico, MT' 'Belgium Detroit, MI'\n",
      " 'Devon, England Wichita, KS' 'Kilmacowen, Co Sligo, Ireland New York, NY'\n",
      " 'England Oglesby, IL' 'Union Hill, NJ' 'London New York, NY'\n",
      " 'Austria Niagara Falls, NY' 'West Haven, CT' 'Tofta, Sweden Joliet, IL'\n",
      " 'Karberg, Sweden Jerome Junction, AZ' 'Effington Rut, SD' 'Illinois, USA'\n",
      " 'Aughnacliff, Co Longford, Ireland New York, NY'\n",
      " 'Rotherfield, Sussex, England Essex Co, MA'\n",
      " 'Strood, Kent, England Detroit, MI' 'Wiltshire, England Niagara Falls, NY'\n",
      " 'Dorking, Surrey, England' 'Foresvik, Norway Portland, ND'\n",
      " 'Waukegan, Chicago, IL' 'Myren, Sweden New York, NY' 'Finland Sudbury, ON'\n",
      " 'Oslo, Norway Cameron, WI' 'Antwerp, Belgium / Stanton, OH']\n",
      " type: object\n"
     ]
    }
   ],
   "source": [
    "print(\"\\npclass \\n range: {}\\n type: {}\".format(frame.pclass.unique(), frame.pclass.dtype))\n",
    "print(\"\\nsurvived \\n range: {}\\n type: {}\".format(frame.survived.unique(), frame.survived.dtype))\n",
    "print(\"\\nsex \\n range: {}\\n type: {}\".format(frame.sex.unique(), frame.sex.dtype))\n",
    "print(\"\\nembarked \\n range: {}\\n type: {}\".format(frame.embarked.unique(), frame.embarked.dtype))\n",
    "print(\"\\nparch \\n range: {}-{}\\n type: {}\".format(frame.parch.min(), frame.parch.max(), frame.parch.dtype))\n",
    "print(\"\\nsibsp \\n range: {}-{}\\n type: {}\".format(frame.sibsp.min(), frame.sibsp.max(), frame.sibsp.dtype))\n",
    "print(\"\\nage \\n range: {}-{}\\n type: {}\".format(frame.age.min(), frame.age.max(), frame.age.dtype))\n",
    "print(\"\\nticket \\n range: {}-{}\\n type: {}\".format(frame.ticket.min(), frame.ticket.max(), frame.ticket.dtype))\n",
    "print(\"\\nfare \\n range: {}-{}\\n type: {}\".format(frame.fare.min(), frame.fare.max(), frame.fare.dtype))\n",
    "print(\"\\nbody \\n range: {}-{}\\n type: {}\".format(frame.body.min(), frame.body.max(), frame.body.dtype))\n",
    "print(\"\\nboat \\n range: {}\\n type: {}\".format(frame.boat.unique(), frame.boat.dtype))\n",
    "print(\"\\ncabin \\n range: {}\\n type: {}\".format(frame.cabin.unique(), frame.cabin.dtype))\n",
    "print(\"\\nname \\n range: {}\\n type: {}\".format(frame.name.unique(), frame.name.dtype))\n",
    "print(\"\\nhome.dest \\n range: {}\\n type: {}\".format(frame['home.dest'].unique(), frame['home.dest'].dtype))"
   ]
  },
  {
   "cell_type": "markdown",
   "metadata": {},
   "source": [
    "`pclass`, `survived`, `sex` and `embarked` can be considered as categorical attributes. They have at most 3 different values."
   ]
  },
  {
   "cell_type": "code",
   "execution_count": 47,
   "metadata": {},
   "outputs": [],
   "source": [
    "#Transform the attributes that can be `Categorical`. \n",
    "frame['pclass'] = frame.pclass.astype('category')\n",
    "frame['survived'] = frame.survived.astype('category')\n",
    "frame['sex'] = frame.sex.astype('category')\n",
    "frame['embarked'] = frame.embarked.astype('category')"
   ]
  },
  {
   "cell_type": "markdown",
   "metadata": {},
   "source": [
    "As mentioned above, some of the columns are not used in the later analysis, thus can be dropped from the initial frame. "
   ]
  },
  {
   "cell_type": "code",
   "execution_count": 48,
   "metadata": {},
   "outputs": [],
   "source": [
    "#Drop columns that won't be used furhter\n",
    "clean_frame = frame.drop(['sibsp', 'parch', 'ticket', 'fare', 'body', 'home.dest', 'boat', 'name'], axis=1)"
   ]
  },
  {
   "cell_type": "markdown",
   "metadata": {},
   "source": [
    "### 2. Plot histograms for the *travel class*, *embarkation port*, *sex* and *age* attributes. For the latter one, use *discrete decade intervals*. "
   ]
  },
  {
   "cell_type": "markdown",
   "metadata": {},
   "source": [
    "Since `sex`, `pclass` and `embarked` are categorical attributes, we can easily use `value_counts` and have the number of people in each category. For `age` we use intiervals to count the number of people in each age category. "
   ]
  },
  {
   "cell_type": "code",
   "execution_count": 45,
   "metadata": {},
   "outputs": [
    {
     "data": {
      "image/png": "[encoded data removed]",
      "text/plain": [
       "<matplotlib.figure.Figure at 0x7f6e9783e780>"
      ]
     },
     "metadata": {},
     "output_type": "display_data"
    },
    {
     "data": {
      "image/png": "[encoded data removed]",
      "text/plain": [
       "<matplotlib.figure.Figure at 0x7f6e977888d0>"
      ]
     },
     "metadata": {},
     "output_type": "display_data"
    },
    {
     "data": {
      "image/png": "[encoded data removed]",
      "text/plain": [
       "<matplotlib.figure.Figure at 0x7f6e9cc7cb00>"
      ]
     },
     "metadata": {},
     "output_type": "display_data"
    },
    {
     "data": {
      "image/png": "[encoded data removed]",
      "text/plain": [
       "<matplotlib.figure.Figure at 0x7f6e979758d0>"
      ]
     },
     "metadata": {},
     "output_type": "display_data"
    }
   ],
   "source": [
    "import matplotlib.pyplot as plt\n",
    "import matplotlib\n",
    "matplotlib.style.use('ggplot')\n",
    "\n",
    "#Plot histograms for the *travel class*, *embarkation port*,\n",
    "#*sex* and *age* attributes. For the latter one, use *discrete decade intervals*. \n",
    "\n",
    "clean_frame['sex'].value_counts().plot(kind='bar', color=['r','g'], title='Grouped by sex')\n",
    "plt.show()\n",
    "\n",
    "clean_frame['pclass'].value_counts().plot(kind='bar', color=['r','g','b'], title='Grouped by travel class')\n",
    "plt.show()\n",
    "\n",
    "clean_frame['embarked'].value_counts().plot(kind='bar', color=['r','g','b'], title='Grouped by embarkation port')\n",
    "plt.show()\n",
    "\n",
    "pd.cut(clean_frame.age, [0,10,20,30,40,50,60,70,80]).value_counts().plot(kind='bar', title='Grouped by decade')\n",
    "plt.show()"
   ]
  },
  {
   "cell_type": "markdown",
   "metadata": {},
   "source": [
    "### 3. Calculate the proportion of passengers by *cabin floor*. Present your results in a *pie chart*."
   ]
  },
  {
   "cell_type": "code",
   "execution_count": 49,
   "metadata": {},
   "outputs": [
    {
     "name": "stdout",
     "output_type": "stream",
     "text": [
      "C22 C26\n",
      "C22 C26\n",
      "C22 C26\n",
      "C22 C26\n",
      "C62 C64\n",
      "C62 C64\n",
      "B58 B60\n",
      "B58 B60\n",
      "B51 B53 B55\n",
      "B51 B53 B55\n",
      "B51 B53 B55\n",
      "B96 B98\n",
      "B96 B98\n",
      "B96 B98\n",
      "B96 B98\n",
      "B58 B60\n",
      "C23 C25 C27\n",
      "C23 C25 C27\n",
      "C23 C25 C27\n",
      "C23 C25 C27\n",
      "C23 C25 C27\n",
      "C23 C25 C27\n",
      "D10 D12\n",
      "D10 D12\n",
      "B82 B84\n",
      "B52 B54 B56\n",
      "B57 B59 B63 B66\n",
      "B57 B59 B63 B66\n",
      "B57 B59 B63 B66\n",
      "B57 B59 B63 B66\n",
      "B57 B59 B63 B66\n",
      "C55 C57\n",
      "C55 C57\n",
      "E39 E41\n",
      "F G63\n",
      "F G63\n",
      "F E57\n",
      "F G73\n",
      "F G73\n"
     ]
    }
   ],
   "source": [
    "for c in clean_frame.cabin.values:\n",
    "    if len(str(c).split(' '))>1:\n",
    "        print(c) "
   ]
  },
  {
   "cell_type": "markdown",
   "metadata": {},
   "source": [
    "According to [this](https://www.encyclopedia-titanica.org/titanic-deckplans/g-deck.html) map, we assume that the starting letter for each value represent the floor on which the person stays. For the cases where we have for exemple 'F G63' we assume that the person stayed on floor F in part G cabin 63. When there are more than one value as cabin for the same person we noticed that these cabins are always on the same floor (showed above). "
   ]
  },
  {
   "cell_type": "code",
   "execution_count": 50,
   "metadata": {},
   "outputs": [
    {
     "data": {
      "image/png": "[encoded data removed]",
      "text/plain": [
       "<matplotlib.figure.Figure at 0x7f6e9783ec88>"
      ]
     },
     "metadata": {},
     "output_type": "display_data"
    }
   ],
   "source": [
    "#Calculate the proportion of passengers by cabin floor. Present your results in a pie chart\n",
    "\n",
    "#Add new column named floor\n",
    "clean_frame['floor'] = clean_frame.cabin.dropna().map(lambda f: f[0])\n",
    "#Make it categorical \n",
    "clean_frame['floor'] = clean_frame.floor.astype('category')\n",
    "#Show the piechart\n",
    "clean_frame['floor'].value_counts().plot(kind='pie', title='Grouped by cabin floor')\n",
    "plt.show()"
   ]
  },
  {
   "cell_type": "markdown",
   "metadata": {},
   "source": [
    "### 4. For each *travel class*, calculate the proportion of the passengers that survived. Present your results in *pie charts*."
   ]
  },
  {
   "cell_type": "code",
   "execution_count": 55,
   "metadata": {},
   "outputs": [
    {
     "data": {
      "image/png": "[encoded data removed]",
      "text/plain": [
       "<matplotlib.figure.Figure at 0x7f6e9cc7e668>"
      ]
     },
     "metadata": {},
     "output_type": "display_data"
    },
    {
     "data": {
      "image/png": "[encoded data removed]",
      "text/plain": [
       "<matplotlib.figure.Figure at 0x7f6e97a9a080>"
      ]
     },
     "metadata": {},
     "output_type": "display_data"
    },
    {
     "data": {
      "image/png": "[encoded data removed]",
      "text/plain": [
       "<matplotlib.figure.Figure at 0x7f6e976736a0>"
      ]
     },
     "metadata": {},
     "output_type": "display_data"
    },
    {
     "data": {
      "image/png": "[encoded data removed]",
      "text/plain": [
       "<matplotlib.figure.Figure at 0x7f6e976330f0>"
      ]
     },
     "metadata": {},
     "output_type": "display_data"
    },
    {
     "data": {
      "image/png": "[encoded data removed]",
      "text/plain": [
       "<matplotlib.figure.Figure at 0x7f6e976fdf28>"
      ]
     },
     "metadata": {},
     "output_type": "display_data"
    }
   ],
   "source": [
    "clean_frame[clean_frame.survived==1]['pclass'].value_counts().plot(kind='pie', title='Survived proportions from each class')\n",
    "plt.show()\n",
    "clean_frame.groupby(['pclass', 'survived']).pclass.value_counts().plot(kind='pie', title='Survived(1) vs. Dead(0) all together')\n",
    "plt.show()\n",
    "clean_frame[clean_frame.pclass==1]['survived'].value_counts().plot(kind='pie', title='Survived(1) from class 1')\n",
    "plt.show()\n",
    "clean_frame[clean_frame.pclass==2]['survived'].value_counts().plot(kind='pie', title='Survived(1) from class 2')\n",
    "plt.show()\n",
    "clean_frame[clean_frame.pclass==3]['survived'].value_counts().plot(kind='pie', title='Survived(1) from class 3')\n",
    "plt.show()"
   ]
  },
  {
   "cell_type": "markdown",
   "metadata": {},
   "source": [
    "### 5. Calculate the proportion of the passengers that survived by *travel class* and *sex*. Present your results in *a single histogram*.\n",
    "\n",
    "Here we select only passengers that survived, we group them by `pclass` and `sex` and then we count the survived passengers for each group. "
   ]
  },
  {
   "cell_type": "code",
   "execution_count": 54,
   "metadata": {},
   "outputs": [
    {
     "data": {
      "image/png": "[encoded data removed]",
      "text/plain": [
       "<matplotlib.figure.Figure at 0x7f6e97a650b8>"
      ]
     },
     "metadata": {},
     "output_type": "display_data"
    }
   ],
   "source": [
    "grouped = clean_frame[clean_frame.survived==1].groupby(['pclass', 'sex'])\n",
    "\n",
    "grouped.survived.value_counts().plot(kind='bar', color=['r','g','b','m','y', 'c'], title='Survived passengers by sex and travel class')\n",
    "plt.show()"
   ]
  },
  {
   "cell_type": "markdown",
   "metadata": {},
   "source": [
    "### 6. Create 2 equally populated age categories and calculate survival proportions by age category, travel class and sex. Present your results in a `DataFrame` with unique index.\n",
    "\n",
    "Here we create a new column by_ages that contains the two different age categories: \\[0.167, 28\\] and (28, 80]. The two age categories doesn't have exactly the same number of passengers since splitting people of age 28 in two different groups doesn't look as proper solution. "
   ]
  },
  {
   "cell_type": "code",
   "execution_count": 56,
   "metadata": {},
   "outputs": [
    {
     "data": {
      "image/png": "[encoded data removed]",
      "text/plain": [
       "<matplotlib.figure.Figure at 0x7f6e979b2080>"
      ]
     },
     "metadata": {},
     "output_type": "display_data"
    }
   ],
   "source": [
    "by_ages = pd.qcut(clean_frame.age, 2)\n",
    "clean_frame['by_ages'] = by_ages\n",
    "\n",
    "grouped = clean_frame[clean_frame.survived==1].groupby(['pclass', 'sex', 'by_ages'])\n",
    "grouped.survived.value_counts().plot(kind='bar', color=['r','g','b','m','y', 'c'], title='Survived passengers by sex, travel class and age category')\n",
    "plt.show()"
   ]
  },
  {
   "cell_type": "code",
   "execution_count": 59,
   "metadata": {},
   "outputs": [
    {
     "data": {
      "text/html": [
       "<div>\n",
       "<table border=\"1\" class=\"dataframe\">\n",
       "  <thead>\n",
       "    <tr style=\"text-align: right;\">\n",
       "      <th></th>\n",
       "      <th>pclass</th>\n",
       "      <th>survived</th>\n",
       "      <th>sex</th>\n",
       "      <th>age</th>\n",
       "      <th>cabin</th>\n",
       "      <th>embarked</th>\n",
       "      <th>floor</th>\n",
       "      <th>by_ages</th>\n",
       "    </tr>\n",
       "  </thead>\n",
       "  <tbody>\n",
       "    <tr>\n",
       "      <th>(29.0, B5, S, B)</th>\n",
       "      <td>1</td>\n",
       "      <td>1</td>\n",
       "      <td>female</td>\n",
       "      <td>29.0000</td>\n",
       "      <td>B5</td>\n",
       "      <td>S</td>\n",
       "      <td>B</td>\n",
       "      <td>(28, 80]</td>\n",
       "    </tr>\n",
       "    <tr>\n",
       "      <th>(0.9167, C22 C26, S, C)</th>\n",
       "      <td>1</td>\n",
       "      <td>1</td>\n",
       "      <td>male</td>\n",
       "      <td>0.9167</td>\n",
       "      <td>C22 C26</td>\n",
       "      <td>S</td>\n",
       "      <td>C</td>\n",
       "      <td>[0.167, 28]</td>\n",
       "    </tr>\n",
       "    <tr>\n",
       "      <th>(48.0, E12, S, E)</th>\n",
       "      <td>1</td>\n",
       "      <td>1</td>\n",
       "      <td>male</td>\n",
       "      <td>48.0000</td>\n",
       "      <td>E12</td>\n",
       "      <td>S</td>\n",
       "      <td>E</td>\n",
       "      <td>(28, 80]</td>\n",
       "    </tr>\n",
       "    <tr>\n",
       "      <th>(63.0, D7, S, D)</th>\n",
       "      <td>1</td>\n",
       "      <td>1</td>\n",
       "      <td>female</td>\n",
       "      <td>63.0000</td>\n",
       "      <td>D7</td>\n",
       "      <td>S</td>\n",
       "      <td>D</td>\n",
       "      <td>(28, 80]</td>\n",
       "    </tr>\n",
       "    <tr>\n",
       "      <th>(53.0, C101, S, C)</th>\n",
       "      <td>1</td>\n",
       "      <td>1</td>\n",
       "      <td>female</td>\n",
       "      <td>53.0000</td>\n",
       "      <td>C101</td>\n",
       "      <td>S</td>\n",
       "      <td>C</td>\n",
       "      <td>(28, 80]</td>\n",
       "    </tr>\n",
       "    <tr>\n",
       "      <th>(18.0, C62 C64, C, C)</th>\n",
       "      <td>1</td>\n",
       "      <td>1</td>\n",
       "      <td>female</td>\n",
       "      <td>18.0000</td>\n",
       "      <td>C62 C64</td>\n",
       "      <td>C</td>\n",
       "      <td>C</td>\n",
       "      <td>[0.167, 28]</td>\n",
       "    </tr>\n",
       "    <tr>\n",
       "      <th>(24.0, B35, C, B)</th>\n",
       "      <td>1</td>\n",
       "      <td>1</td>\n",
       "      <td>female</td>\n",
       "      <td>24.0000</td>\n",
       "      <td>B35</td>\n",
       "      <td>C</td>\n",
       "      <td>B</td>\n",
       "      <td>[0.167, 28]</td>\n",
       "    </tr>\n",
       "    <tr>\n",
       "      <th>(26.0, nan, S, nan)</th>\n",
       "      <td>1</td>\n",
       "      <td>1</td>\n",
       "      <td>female</td>\n",
       "      <td>26.0000</td>\n",
       "      <td>NaN</td>\n",
       "      <td>S</td>\n",
       "      <td>NaN</td>\n",
       "      <td>[0.167, 28]</td>\n",
       "    </tr>\n",
       "    <tr>\n",
       "      <th>(80.0, A23, S, A)</th>\n",
       "      <td>1</td>\n",
       "      <td>1</td>\n",
       "      <td>male</td>\n",
       "      <td>80.0000</td>\n",
       "      <td>A23</td>\n",
       "      <td>S</td>\n",
       "      <td>A</td>\n",
       "      <td>(28, 80]</td>\n",
       "    </tr>\n",
       "    <tr>\n",
       "      <th>(50.0, B58 B60, C, B)</th>\n",
       "      <td>1</td>\n",
       "      <td>1</td>\n",
       "      <td>female</td>\n",
       "      <td>50.0000</td>\n",
       "      <td>B58 B60</td>\n",
       "      <td>C</td>\n",
       "      <td>B</td>\n",
       "      <td>(28, 80]</td>\n",
       "    </tr>\n",
       "    <tr>\n",
       "      <th>(32.0, D15, C, D)</th>\n",
       "      <td>1</td>\n",
       "      <td>1</td>\n",
       "      <td>female</td>\n",
       "      <td>32.0000</td>\n",
       "      <td>D15</td>\n",
       "      <td>C</td>\n",
       "      <td>D</td>\n",
       "      <td>(28, 80]</td>\n",
       "    </tr>\n",
       "    <tr>\n",
       "      <th>(37.0, D35, S, D)</th>\n",
       "      <td>1</td>\n",
       "      <td>1</td>\n",
       "      <td>male</td>\n",
       "      <td>37.0000</td>\n",
       "      <td>D35</td>\n",
       "      <td>S</td>\n",
       "      <td>D</td>\n",
       "      <td>(28, 80]</td>\n",
       "    </tr>\n",
       "    <tr>\n",
       "      <th>(47.0, D35, S, D)</th>\n",
       "      <td>1</td>\n",
       "      <td>1</td>\n",
       "      <td>female</td>\n",
       "      <td>47.0000</td>\n",
       "      <td>D35</td>\n",
       "      <td>S</td>\n",
       "      <td>D</td>\n",
       "      <td>(28, 80]</td>\n",
       "    </tr>\n",
       "    <tr>\n",
       "      <th>(26.0, C148, C, C)</th>\n",
       "      <td>1</td>\n",
       "      <td>1</td>\n",
       "      <td>male</td>\n",
       "      <td>26.0000</td>\n",
       "      <td>C148</td>\n",
       "      <td>C</td>\n",
       "      <td>C</td>\n",
       "      <td>[0.167, 28]</td>\n",
       "    </tr>\n",
       "    <tr>\n",
       "      <th>(42.0, nan, C, nan)</th>\n",
       "      <td>1</td>\n",
       "      <td>1</td>\n",
       "      <td>female</td>\n",
       "      <td>42.0000</td>\n",
       "      <td>NaN</td>\n",
       "      <td>C</td>\n",
       "      <td>NaN</td>\n",
       "      <td>(28, 80]</td>\n",
       "    </tr>\n",
       "    <tr>\n",
       "      <th>(29.0, C97, S, C)</th>\n",
       "      <td>1</td>\n",
       "      <td>1</td>\n",
       "      <td>female</td>\n",
       "      <td>29.0000</td>\n",
       "      <td>C97</td>\n",
       "      <td>S</td>\n",
       "      <td>C</td>\n",
       "      <td>(28, 80]</td>\n",
       "    </tr>\n",
       "    <tr>\n",
       "      <th>(25.0, B49, C, B)</th>\n",
       "      <td>1</td>\n",
       "      <td>1</td>\n",
       "      <td>male</td>\n",
       "      <td>25.0000</td>\n",
       "      <td>B49</td>\n",
       "      <td>C</td>\n",
       "      <td>B</td>\n",
       "      <td>[0.167, 28]</td>\n",
       "    </tr>\n",
       "    <tr>\n",
       "      <th>(19.0, B49, C, B)</th>\n",
       "      <td>1</td>\n",
       "      <td>1</td>\n",
       "      <td>female</td>\n",
       "      <td>19.0000</td>\n",
       "      <td>B49</td>\n",
       "      <td>C</td>\n",
       "      <td>B</td>\n",
       "      <td>[0.167, 28]</td>\n",
       "    </tr>\n",
       "    <tr>\n",
       "      <th>(35.0, C99, S, C)</th>\n",
       "      <td>1</td>\n",
       "      <td>1</td>\n",
       "      <td>female</td>\n",
       "      <td>35.0000</td>\n",
       "      <td>C99</td>\n",
       "      <td>S</td>\n",
       "      <td>C</td>\n",
       "      <td>(28, 80]</td>\n",
       "    </tr>\n",
       "    <tr>\n",
       "      <th>(28.0, C52, S, C)</th>\n",
       "      <td>1</td>\n",
       "      <td>1</td>\n",
       "      <td>male</td>\n",
       "      <td>28.0000</td>\n",
       "      <td>C52</td>\n",
       "      <td>S</td>\n",
       "      <td>C</td>\n",
       "      <td>[0.167, 28]</td>\n",
       "    </tr>\n",
       "    <tr>\n",
       "      <th>(40.0, A31, C, A)</th>\n",
       "      <td>1</td>\n",
       "      <td>1</td>\n",
       "      <td>male</td>\n",
       "      <td>40.0000</td>\n",
       "      <td>A31</td>\n",
       "      <td>C</td>\n",
       "      <td>A</td>\n",
       "      <td>(28, 80]</td>\n",
       "    </tr>\n",
       "    <tr>\n",
       "      <th>(30.0, C7, S, C)</th>\n",
       "      <td>1</td>\n",
       "      <td>1</td>\n",
       "      <td>female</td>\n",
       "      <td>30.0000</td>\n",
       "      <td>C7</td>\n",
       "      <td>S</td>\n",
       "      <td>C</td>\n",
       "      <td>(28, 80]</td>\n",
       "    </tr>\n",
       "    <tr>\n",
       "      <th>(58.0, C103, S, C)</th>\n",
       "      <td>1</td>\n",
       "      <td>1</td>\n",
       "      <td>female</td>\n",
       "      <td>58.0000</td>\n",
       "      <td>C103</td>\n",
       "      <td>S</td>\n",
       "      <td>C</td>\n",
       "      <td>(28, 80]</td>\n",
       "    </tr>\n",
       "    <tr>\n",
       "      <th>(45.0, nan, C, nan)</th>\n",
       "      <td>1</td>\n",
       "      <td>1</td>\n",
       "      <td>female</td>\n",
       "      <td>45.0000</td>\n",
       "      <td>NaN</td>\n",
       "      <td>C</td>\n",
       "      <td>NaN</td>\n",
       "      <td>(28, 80]</td>\n",
       "    </tr>\n",
       "    <tr>\n",
       "      <th>(22.0, E33, S, E)</th>\n",
       "      <td>1</td>\n",
       "      <td>1</td>\n",
       "      <td>female</td>\n",
       "      <td>22.0000</td>\n",
       "      <td>E33</td>\n",
       "      <td>S</td>\n",
       "      <td>E</td>\n",
       "      <td>[0.167, 28]</td>\n",
       "    </tr>\n",
       "    <tr>\n",
       "      <th>(44.0, B4, C, B)</th>\n",
       "      <td>1</td>\n",
       "      <td>1</td>\n",
       "      <td>female</td>\n",
       "      <td>44.0000</td>\n",
       "      <td>B4</td>\n",
       "      <td>C</td>\n",
       "      <td>B</td>\n",
       "      <td>(28, 80]</td>\n",
       "    </tr>\n",
       "    <tr>\n",
       "      <th>(59.0, C101, S, C)</th>\n",
       "      <td>1</td>\n",
       "      <td>1</td>\n",
       "      <td>female</td>\n",
       "      <td>59.0000</td>\n",
       "      <td>C101</td>\n",
       "      <td>S</td>\n",
       "      <td>C</td>\n",
       "      <td>(28, 80]</td>\n",
       "    </tr>\n",
       "    <tr>\n",
       "      <th>(60.0, D15, C, D)</th>\n",
       "      <td>1</td>\n",
       "      <td>1</td>\n",
       "      <td>female</td>\n",
       "      <td>60.0000</td>\n",
       "      <td>D15</td>\n",
       "      <td>C</td>\n",
       "      <td>D</td>\n",
       "      <td>(28, 80]</td>\n",
       "    </tr>\n",
       "    <tr>\n",
       "      <th>(41.0, E40, C, E)</th>\n",
       "      <td>1</td>\n",
       "      <td>1</td>\n",
       "      <td>female</td>\n",
       "      <td>41.0000</td>\n",
       "      <td>E40</td>\n",
       "      <td>C</td>\n",
       "      <td>E</td>\n",
       "      <td>(28, 80]</td>\n",
       "    </tr>\n",
       "    <tr>\n",
       "      <th>(42.0, E24, S, E)</th>\n",
       "      <td>1</td>\n",
       "      <td>1</td>\n",
       "      <td>male</td>\n",
       "      <td>42.0000</td>\n",
       "      <td>E24</td>\n",
       "      <td>S</td>\n",
       "      <td>E</td>\n",
       "      <td>(28, 80]</td>\n",
       "    </tr>\n",
       "    <tr>\n",
       "      <th>...</th>\n",
       "      <td>...</td>\n",
       "      <td>...</td>\n",
       "      <td>...</td>\n",
       "      <td>...</td>\n",
       "      <td>...</td>\n",
       "      <td>...</td>\n",
       "      <td>...</td>\n",
       "      <td>...</td>\n",
       "    </tr>\n",
       "    <tr>\n",
       "      <th>(9.0, nan, S, nan)</th>\n",
       "      <td>3</td>\n",
       "      <td>1</td>\n",
       "      <td>male</td>\n",
       "      <td>9.0000</td>\n",
       "      <td>NaN</td>\n",
       "      <td>S</td>\n",
       "      <td>NaN</td>\n",
       "      <td>[0.167, 28]</td>\n",
       "    </tr>\n",
       "    <tr>\n",
       "      <th>(32.0, nan, S, nan)</th>\n",
       "      <td>3</td>\n",
       "      <td>1</td>\n",
       "      <td>male</td>\n",
       "      <td>32.0000</td>\n",
       "      <td>NaN</td>\n",
       "      <td>S</td>\n",
       "      <td>NaN</td>\n",
       "      <td>(28, 80]</td>\n",
       "    </tr>\n",
       "    <tr>\n",
       "      <th>(31.0, nan, S, nan)</th>\n",
       "      <td>3</td>\n",
       "      <td>1</td>\n",
       "      <td>female</td>\n",
       "      <td>31.0000</td>\n",
       "      <td>NaN</td>\n",
       "      <td>S</td>\n",
       "      <td>NaN</td>\n",
       "      <td>(28, 80]</td>\n",
       "    </tr>\n",
       "    <tr>\n",
       "      <th>(25.0, nan, S, nan)</th>\n",
       "      <td>3</td>\n",
       "      <td>1</td>\n",
       "      <td>male</td>\n",
       "      <td>25.0000</td>\n",
       "      <td>NaN</td>\n",
       "      <td>S</td>\n",
       "      <td>NaN</td>\n",
       "      <td>[0.167, 28]</td>\n",
       "    </tr>\n",
       "    <tr>\n",
       "      <th>(32.0, E10, S, E)</th>\n",
       "      <td>3</td>\n",
       "      <td>1</td>\n",
       "      <td>male</td>\n",
       "      <td>32.0000</td>\n",
       "      <td>E10</td>\n",
       "      <td>S</td>\n",
       "      <td>E</td>\n",
       "      <td>(28, 80]</td>\n",
       "    </tr>\n",
       "    <tr>\n",
       "      <th>(21.0, nan, S, nan)</th>\n",
       "      <td>3</td>\n",
       "      <td>1</td>\n",
       "      <td>female</td>\n",
       "      <td>21.0000</td>\n",
       "      <td>NaN</td>\n",
       "      <td>S</td>\n",
       "      <td>NaN</td>\n",
       "      <td>[0.167, 28]</td>\n",
       "    </tr>\n",
       "    <tr>\n",
       "      <th>(1.0, G6, S, G)</th>\n",
       "      <td>3</td>\n",
       "      <td>1</td>\n",
       "      <td>female</td>\n",
       "      <td>1.0000</td>\n",
       "      <td>G6</td>\n",
       "      <td>S</td>\n",
       "      <td>G</td>\n",
       "      <td>[0.167, 28]</td>\n",
       "    </tr>\n",
       "    <tr>\n",
       "      <th>(24.0, G6, S, G)</th>\n",
       "      <td>3</td>\n",
       "      <td>1</td>\n",
       "      <td>female</td>\n",
       "      <td>24.0000</td>\n",
       "      <td>G6</td>\n",
       "      <td>S</td>\n",
       "      <td>G</td>\n",
       "      <td>[0.167, 28]</td>\n",
       "    </tr>\n",
       "    <tr>\n",
       "      <th>(4.0, G6, S, G)</th>\n",
       "      <td>3</td>\n",
       "      <td>1</td>\n",
       "      <td>female</td>\n",
       "      <td>4.0000</td>\n",
       "      <td>G6</td>\n",
       "      <td>S</td>\n",
       "      <td>G</td>\n",
       "      <td>[0.167, 28]</td>\n",
       "    </tr>\n",
       "    <tr>\n",
       "      <th>(25.0, nan, S, nan)</th>\n",
       "      <td>3</td>\n",
       "      <td>1</td>\n",
       "      <td>male</td>\n",
       "      <td>25.0000</td>\n",
       "      <td>NaN</td>\n",
       "      <td>S</td>\n",
       "      <td>NaN</td>\n",
       "      <td>[0.167, 28]</td>\n",
       "    </tr>\n",
       "    <tr>\n",
       "      <th>(29.0, nan, S, nan)</th>\n",
       "      <td>3</td>\n",
       "      <td>1</td>\n",
       "      <td>male</td>\n",
       "      <td>29.0000</td>\n",
       "      <td>NaN</td>\n",
       "      <td>S</td>\n",
       "      <td>NaN</td>\n",
       "      <td>(28, 80]</td>\n",
       "    </tr>\n",
       "    <tr>\n",
       "      <th>(18.0, nan, S, nan)</th>\n",
       "      <td>3</td>\n",
       "      <td>1</td>\n",
       "      <td>female</td>\n",
       "      <td>18.0000</td>\n",
       "      <td>NaN</td>\n",
       "      <td>S</td>\n",
       "      <td>NaN</td>\n",
       "      <td>[0.167, 28]</td>\n",
       "    </tr>\n",
       "    <tr>\n",
       "      <th>(23.0, nan, S, nan)</th>\n",
       "      <td>3</td>\n",
       "      <td>1</td>\n",
       "      <td>female</td>\n",
       "      <td>23.0000</td>\n",
       "      <td>NaN</td>\n",
       "      <td>S</td>\n",
       "      <td>NaN</td>\n",
       "      <td>[0.167, 28]</td>\n",
       "    </tr>\n",
       "    <tr>\n",
       "      <th>(31.0, nan, S, nan)</th>\n",
       "      <td>3</td>\n",
       "      <td>1</td>\n",
       "      <td>male</td>\n",
       "      <td>31.0000</td>\n",
       "      <td>NaN</td>\n",
       "      <td>S</td>\n",
       "      <td>NaN</td>\n",
       "      <td>(28, 80]</td>\n",
       "    </tr>\n",
       "    <tr>\n",
       "      <th>(16.0, nan, S, nan)</th>\n",
       "      <td>3</td>\n",
       "      <td>1</td>\n",
       "      <td>male</td>\n",
       "      <td>16.0000</td>\n",
       "      <td>NaN</td>\n",
       "      <td>S</td>\n",
       "      <td>NaN</td>\n",
       "      <td>[0.167, 28]</td>\n",
       "    </tr>\n",
       "    <tr>\n",
       "      <th>(44.0, nan, S, nan)</th>\n",
       "      <td>3</td>\n",
       "      <td>1</td>\n",
       "      <td>male</td>\n",
       "      <td>44.0000</td>\n",
       "      <td>NaN</td>\n",
       "      <td>S</td>\n",
       "      <td>NaN</td>\n",
       "      <td>(28, 80]</td>\n",
       "    </tr>\n",
       "    <tr>\n",
       "      <th>(14.0, nan, S, nan)</th>\n",
       "      <td>3</td>\n",
       "      <td>1</td>\n",
       "      <td>male</td>\n",
       "      <td>14.0000</td>\n",
       "      <td>NaN</td>\n",
       "      <td>S</td>\n",
       "      <td>NaN</td>\n",
       "      <td>[0.167, 28]</td>\n",
       "    </tr>\n",
       "    <tr>\n",
       "      <th>(25.0, nan, S, nan)</th>\n",
       "      <td>3</td>\n",
       "      <td>1</td>\n",
       "      <td>male</td>\n",
       "      <td>25.0000</td>\n",
       "      <td>NaN</td>\n",
       "      <td>S</td>\n",
       "      <td>NaN</td>\n",
       "      <td>[0.167, 28]</td>\n",
       "    </tr>\n",
       "    <tr>\n",
       "      <th>(0.4167, nan, C, nan)</th>\n",
       "      <td>3</td>\n",
       "      <td>1</td>\n",
       "      <td>male</td>\n",
       "      <td>0.4167</td>\n",
       "      <td>NaN</td>\n",
       "      <td>C</td>\n",
       "      <td>NaN</td>\n",
       "      <td>[0.167, 28]</td>\n",
       "    </tr>\n",
       "    <tr>\n",
       "      <th>(16.0, nan, C, nan)</th>\n",
       "      <td>3</td>\n",
       "      <td>1</td>\n",
       "      <td>female</td>\n",
       "      <td>16.0000</td>\n",
       "      <td>NaN</td>\n",
       "      <td>C</td>\n",
       "      <td>NaN</td>\n",
       "      <td>[0.167, 28]</td>\n",
       "    </tr>\n",
       "    <tr>\n",
       "      <th>(25.0, nan, S, nan)</th>\n",
       "      <td>3</td>\n",
       "      <td>1</td>\n",
       "      <td>male</td>\n",
       "      <td>25.0000</td>\n",
       "      <td>NaN</td>\n",
       "      <td>S</td>\n",
       "      <td>NaN</td>\n",
       "      <td>[0.167, 28]</td>\n",
       "    </tr>\n",
       "    <tr>\n",
       "      <th>(7.0, nan, C, nan)</th>\n",
       "      <td>3</td>\n",
       "      <td>1</td>\n",
       "      <td>male</td>\n",
       "      <td>7.0000</td>\n",
       "      <td>NaN</td>\n",
       "      <td>C</td>\n",
       "      <td>NaN</td>\n",
       "      <td>[0.167, 28]</td>\n",
       "    </tr>\n",
       "    <tr>\n",
       "      <th>(9.0, nan, C, nan)</th>\n",
       "      <td>3</td>\n",
       "      <td>1</td>\n",
       "      <td>female</td>\n",
       "      <td>9.0000</td>\n",
       "      <td>NaN</td>\n",
       "      <td>C</td>\n",
       "      <td>NaN</td>\n",
       "      <td>[0.167, 28]</td>\n",
       "    </tr>\n",
       "    <tr>\n",
       "      <th>(29.0, nan, C, nan)</th>\n",
       "      <td>3</td>\n",
       "      <td>1</td>\n",
       "      <td>female</td>\n",
       "      <td>29.0000</td>\n",
       "      <td>NaN</td>\n",
       "      <td>C</td>\n",
       "      <td>NaN</td>\n",
       "      <td>(28, 80]</td>\n",
       "    </tr>\n",
       "    <tr>\n",
       "      <th>(18.0, nan, S, nan)</th>\n",
       "      <td>3</td>\n",
       "      <td>1</td>\n",
       "      <td>female</td>\n",
       "      <td>18.0000</td>\n",
       "      <td>NaN</td>\n",
       "      <td>S</td>\n",
       "      <td>NaN</td>\n",
       "      <td>[0.167, 28]</td>\n",
       "    </tr>\n",
       "    <tr>\n",
       "      <th>(63.0, nan, S, nan)</th>\n",
       "      <td>3</td>\n",
       "      <td>1</td>\n",
       "      <td>female</td>\n",
       "      <td>63.0000</td>\n",
       "      <td>NaN</td>\n",
       "      <td>S</td>\n",
       "      <td>NaN</td>\n",
       "      <td>(28, 80]</td>\n",
       "    </tr>\n",
       "    <tr>\n",
       "      <th>(22.0, nan, C, nan)</th>\n",
       "      <td>3</td>\n",
       "      <td>1</td>\n",
       "      <td>male</td>\n",
       "      <td>22.0000</td>\n",
       "      <td>NaN</td>\n",
       "      <td>C</td>\n",
       "      <td>NaN</td>\n",
       "      <td>[0.167, 28]</td>\n",
       "    </tr>\n",
       "    <tr>\n",
       "      <th>(38.0, nan, C, nan)</th>\n",
       "      <td>3</td>\n",
       "      <td>1</td>\n",
       "      <td>female</td>\n",
       "      <td>38.0000</td>\n",
       "      <td>NaN</td>\n",
       "      <td>C</td>\n",
       "      <td>NaN</td>\n",
       "      <td>(28, 80]</td>\n",
       "    </tr>\n",
       "    <tr>\n",
       "      <th>(47.0, nan, S, nan)</th>\n",
       "      <td>3</td>\n",
       "      <td>1</td>\n",
       "      <td>female</td>\n",
       "      <td>47.0000</td>\n",
       "      <td>NaN</td>\n",
       "      <td>S</td>\n",
       "      <td>NaN</td>\n",
       "      <td>(28, 80]</td>\n",
       "    </tr>\n",
       "    <tr>\n",
       "      <th>(15.0, nan, C, nan)</th>\n",
       "      <td>3</td>\n",
       "      <td>1</td>\n",
       "      <td>female</td>\n",
       "      <td>15.0000</td>\n",
       "      <td>NaN</td>\n",
       "      <td>C</td>\n",
       "      <td>NaN</td>\n",
       "      <td>[0.167, 28]</td>\n",
       "    </tr>\n",
       "  </tbody>\n",
       "</table>\n",
       "<p>425 rows × 8 columns</p>\n",
       "</div>"
      ],
      "text/plain": [
       "                        pclass survived     sex      age    cabin embarked  \\\n",
       "(29.0, B5, S, B)             1        1  female  29.0000       B5        S   \n",
       "(0.9167, C22 C26, S, C)      1        1    male   0.9167  C22 C26        S   \n",
       "(48.0, E12, S, E)            1        1    male  48.0000      E12        S   \n",
       "(63.0, D7, S, D)             1        1  female  63.0000       D7        S   \n",
       "(53.0, C101, S, C)           1        1  female  53.0000     C101        S   \n",
       "(18.0, C62 C64, C, C)        1        1  female  18.0000  C62 C64        C   \n",
       "(24.0, B35, C, B)            1        1  female  24.0000      B35        C   \n",
       "(26.0, nan, S, nan)          1        1  female  26.0000      NaN        S   \n",
       "(80.0, A23, S, A)            1        1    male  80.0000      A23        S   \n",
       "(50.0, B58 B60, C, B)        1        1  female  50.0000  B58 B60        C   \n",
       "(32.0, D15, C, D)            1        1  female  32.0000      D15        C   \n",
       "(37.0, D35, S, D)            1        1    male  37.0000      D35        S   \n",
       "(47.0, D35, S, D)            1        1  female  47.0000      D35        S   \n",
       "(26.0, C148, C, C)           1        1    male  26.0000     C148        C   \n",
       "(42.0, nan, C, nan)          1        1  female  42.0000      NaN        C   \n",
       "(29.0, C97, S, C)            1        1  female  29.0000      C97        S   \n",
       "(25.0, B49, C, B)            1        1    male  25.0000      B49        C   \n",
       "(19.0, B49, C, B)            1        1  female  19.0000      B49        C   \n",
       "(35.0, C99, S, C)            1        1  female  35.0000      C99        S   \n",
       "(28.0, C52, S, C)            1        1    male  28.0000      C52        S   \n",
       "(40.0, A31, C, A)            1        1    male  40.0000      A31        C   \n",
       "(30.0, C7, S, C)             1        1  female  30.0000       C7        S   \n",
       "(58.0, C103, S, C)           1        1  female  58.0000     C103        S   \n",
       "(45.0, nan, C, nan)          1        1  female  45.0000      NaN        C   \n",
       "(22.0, E33, S, E)            1        1  female  22.0000      E33        S   \n",
       "(44.0, B4, C, B)             1        1  female  44.0000       B4        C   \n",
       "(59.0, C101, S, C)           1        1  female  59.0000     C101        S   \n",
       "(60.0, D15, C, D)            1        1  female  60.0000      D15        C   \n",
       "(41.0, E40, C, E)            1        1  female  41.0000      E40        C   \n",
       "(42.0, E24, S, E)            1        1    male  42.0000      E24        S   \n",
       "...                        ...      ...     ...      ...      ...      ...   \n",
       "(9.0, nan, S, nan)           3        1    male   9.0000      NaN        S   \n",
       "(32.0, nan, S, nan)          3        1    male  32.0000      NaN        S   \n",
       "(31.0, nan, S, nan)          3        1  female  31.0000      NaN        S   \n",
       "(25.0, nan, S, nan)          3        1    male  25.0000      NaN        S   \n",
       "(32.0, E10, S, E)            3        1    male  32.0000      E10        S   \n",
       "(21.0, nan, S, nan)          3        1  female  21.0000      NaN        S   \n",
       "(1.0, G6, S, G)              3        1  female   1.0000       G6        S   \n",
       "(24.0, G6, S, G)             3        1  female  24.0000       G6        S   \n",
       "(4.0, G6, S, G)              3        1  female   4.0000       G6        S   \n",
       "(25.0, nan, S, nan)          3        1    male  25.0000      NaN        S   \n",
       "(29.0, nan, S, nan)          3        1    male  29.0000      NaN        S   \n",
       "(18.0, nan, S, nan)          3        1  female  18.0000      NaN        S   \n",
       "(23.0, nan, S, nan)          3        1  female  23.0000      NaN        S   \n",
       "(31.0, nan, S, nan)          3        1    male  31.0000      NaN        S   \n",
       "(16.0, nan, S, nan)          3        1    male  16.0000      NaN        S   \n",
       "(44.0, nan, S, nan)          3        1    male  44.0000      NaN        S   \n",
       "(14.0, nan, S, nan)          3        1    male  14.0000      NaN        S   \n",
       "(25.0, nan, S, nan)          3        1    male  25.0000      NaN        S   \n",
       "(0.4167, nan, C, nan)        3        1    male   0.4167      NaN        C   \n",
       "(16.0, nan, C, nan)          3        1  female  16.0000      NaN        C   \n",
       "(25.0, nan, S, nan)          3        1    male  25.0000      NaN        S   \n",
       "(7.0, nan, C, nan)           3        1    male   7.0000      NaN        C   \n",
       "(9.0, nan, C, nan)           3        1  female   9.0000      NaN        C   \n",
       "(29.0, nan, C, nan)          3        1  female  29.0000      NaN        C   \n",
       "(18.0, nan, S, nan)          3        1  female  18.0000      NaN        S   \n",
       "(63.0, nan, S, nan)          3        1  female  63.0000      NaN        S   \n",
       "(22.0, nan, C, nan)          3        1    male  22.0000      NaN        C   \n",
       "(38.0, nan, C, nan)          3        1  female  38.0000      NaN        C   \n",
       "(47.0, nan, S, nan)          3        1  female  47.0000      NaN        S   \n",
       "(15.0, nan, C, nan)          3        1  female  15.0000      NaN        C   \n",
       "\n",
       "                        floor      by_ages  \n",
       "(29.0, B5, S, B)            B     (28, 80]  \n",
       "(0.9167, C22 C26, S, C)     C  [0.167, 28]  \n",
       "(48.0, E12, S, E)           E     (28, 80]  \n",
       "(63.0, D7, S, D)            D     (28, 80]  \n",
       "(53.0, C101, S, C)          C     (28, 80]  \n",
       "(18.0, C62 C64, C, C)       C  [0.167, 28]  \n",
       "(24.0, B35, C, B)           B  [0.167, 28]  \n",
       "(26.0, nan, S, nan)       NaN  [0.167, 28]  \n",
       "(80.0, A23, S, A)           A     (28, 80]  \n",
       "(50.0, B58 B60, C, B)       B     (28, 80]  \n",
       "(32.0, D15, C, D)           D     (28, 80]  \n",
       "(37.0, D35, S, D)           D     (28, 80]  \n",
       "(47.0, D35, S, D)           D     (28, 80]  \n",
       "(26.0, C148, C, C)          C  [0.167, 28]  \n",
       "(42.0, nan, C, nan)       NaN     (28, 80]  \n",
       "(29.0, C97, S, C)           C     (28, 80]  \n",
       "(25.0, B49, C, B)           B  [0.167, 28]  \n",
       "(19.0, B49, C, B)           B  [0.167, 28]  \n",
       "(35.0, C99, S, C)           C     (28, 80]  \n",
       "(28.0, C52, S, C)           C  [0.167, 28]  \n",
       "(40.0, A31, C, A)           A     (28, 80]  \n",
       "(30.0, C7, S, C)            C     (28, 80]  \n",
       "(58.0, C103, S, C)          C     (28, 80]  \n",
       "(45.0, nan, C, nan)       NaN     (28, 80]  \n",
       "(22.0, E33, S, E)           E  [0.167, 28]  \n",
       "(44.0, B4, C, B)            B     (28, 80]  \n",
       "(59.0, C101, S, C)          C     (28, 80]  \n",
       "(60.0, D15, C, D)           D     (28, 80]  \n",
       "(41.0, E40, C, E)           E     (28, 80]  \n",
       "(42.0, E24, S, E)           E     (28, 80]  \n",
       "...                       ...          ...  \n",
       "(9.0, nan, S, nan)        NaN  [0.167, 28]  \n",
       "(32.0, nan, S, nan)       NaN     (28, 80]  \n",
       "(31.0, nan, S, nan)       NaN     (28, 80]  \n",
       "(25.0, nan, S, nan)       NaN  [0.167, 28]  \n",
       "(32.0, E10, S, E)           E     (28, 80]  \n",
       "(21.0, nan, S, nan)       NaN  [0.167, 28]  \n",
       "(1.0, G6, S, G)             G  [0.167, 28]  \n",
       "(24.0, G6, S, G)            G  [0.167, 28]  \n",
       "(4.0, G6, S, G)             G  [0.167, 28]  \n",
       "(25.0, nan, S, nan)       NaN  [0.167, 28]  \n",
       "(29.0, nan, S, nan)       NaN     (28, 80]  \n",
       "(18.0, nan, S, nan)       NaN  [0.167, 28]  \n",
       "(23.0, nan, S, nan)       NaN  [0.167, 28]  \n",
       "(31.0, nan, S, nan)       NaN     (28, 80]  \n",
       "(16.0, nan, S, nan)       NaN  [0.167, 28]  \n",
       "(44.0, nan, S, nan)       NaN     (28, 80]  \n",
       "(14.0, nan, S, nan)       NaN  [0.167, 28]  \n",
       "(25.0, nan, S, nan)       NaN  [0.167, 28]  \n",
       "(0.4167, nan, C, nan)     NaN  [0.167, 28]  \n",
       "(16.0, nan, C, nan)       NaN  [0.167, 28]  \n",
       "(25.0, nan, S, nan)       NaN  [0.167, 28]  \n",
       "(7.0, nan, C, nan)        NaN  [0.167, 28]  \n",
       "(9.0, nan, C, nan)        NaN  [0.167, 28]  \n",
       "(29.0, nan, C, nan)       NaN     (28, 80]  \n",
       "(18.0, nan, S, nan)       NaN  [0.167, 28]  \n",
       "(63.0, nan, S, nan)       NaN     (28, 80]  \n",
       "(22.0, nan, C, nan)       NaN  [0.167, 28]  \n",
       "(38.0, nan, C, nan)       NaN     (28, 80]  \n",
       "(47.0, nan, S, nan)       NaN     (28, 80]  \n",
       "(15.0, nan, C, nan)       NaN  [0.167, 28]  \n",
       "\n",
       "[425 rows x 8 columns]"
      ]
     },
     "execution_count": 59,
     "metadata": {},
     "output_type": "execute_result"
    }
   ],
   "source": [
    "#Present your results in a DataFrame with unique index.\n",
    "clean_frame.index = clean_frame.set_index(['pclass', 'sex', 'by_ages', 'survived'])\n",
    "clean_frame[clean_frame.survived == 1]"
   ]
  },
  {
   "cell_type": "code",
   "execution_count": null,
   "metadata": {},
   "outputs": [],
   "source": []
  }
 ],
 "metadata": {
  "kernelspec": {
   "display_name": "Python [default]",
   "language": "python",
   "name": "python3"
  },
  "language_info": {
   "codemirror_mode": {
    "name": "ipython",
    "version": 3
   },
   "file_extension": ".py",
   "mimetype": "text/x-python",
   "name": "python",
   "nbconvert_exporter": "python",
   "pygments_lexer": "ipython3",
   "version": "3.5.4"
  }
 },
 "nbformat": 4,
 "nbformat_minor": 2
}

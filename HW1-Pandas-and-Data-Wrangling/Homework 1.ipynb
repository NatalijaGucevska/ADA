{
 "cells": [
  {
   "cell_type": "markdown",
   "metadata": {},
   "source": [
    "# Table of Contents\n",
    " <p><div class=\"lev1\"><a href=\"#Task-1.-Compiling-Ebola-Data\"><span class=\"toc-item-num\">Task 1.&nbsp;&nbsp;</span>Compiling Ebola Data</a></div>\n",
    " <div class=\"lev1\"><a href=\"#Task-2.-RNA-Sequences\"><span class=\"toc-item-num\">Task 2.&nbsp;&nbsp;</span>RNA Sequences</a></div>\n",
    " <div class=\"lev1\"><a href=\"#Task-3.-Class-War-in-Titanic\"><span class=\"toc-item-num\">Task 3.&nbsp;&nbsp;</span>Class War in Titanic</a></div></p>"
   ]
  },
  {
   "cell_type": "code",
   "execution_count": null,
   "metadata": {},
   "outputs": [],
   "source": [
    "DATA_FOLDER = '' # Use the data folder provided in Tutorial 02 - Intro to Pandas."
   ]
  },
  {
   "cell_type": "markdown",
   "metadata": {},
   "source": [
    "## Task 1. Compiling Ebola Data\n",
    "\n",
    "The `DATA_FOLDER/ebola` folder contains summarized reports of Ebola cases from three countries (Guinea, Liberia and Sierra Leone) during the recent outbreak of the disease in West Africa. For each country, there are daily reports that contain various information about the outbreak in several cities in each country.\n",
    "\n",
    "Use pandas to import these data files into a single `Dataframe`.\n",
    "Using this `DataFrame`, calculate for *each country*, the *daily average per month* of *new cases* and *deaths*.\n",
    "Make sure you handle all the different expressions for *new cases* and *deaths* that are used in the reports."
   ]
  },
  {
   "cell_type": "code",
   "execution_count": null,
   "metadata": {},
   "outputs": [],
   "source": [
    "# Write your answer here"
   ]
  },
  {
   "cell_type": "markdown",
   "metadata": {},
   "source": [
    "## Task 2. RNA Sequences\n",
    "\n",
    "In the `DATA_FOLDER/microbiome` subdirectory, there are 9 spreadsheets of microbiome data that was acquired from high-throughput RNA sequencing procedures, along with a 10<sup>th</sup> file that describes the content of each. \n",
    "\n",
    "Use pandas to import the first 9 spreadsheets into a single `DataFrame`.\n",
    "Then, add the metadata information from the 10<sup>th</sup> spreadsheet as columns in the combined `DataFrame`.\n",
    "Make sure that the final `DataFrame` has a unique index and all the `NaN` values have been replaced by the tag `unknown`."
   ]
  },
  {
   "cell_type": "code",
   "execution_count": null,
   "metadata": {},
   "outputs": [],
   "source": [
    "# Write your answer here"
   ]
  },
  {
   "cell_type": "markdown",
   "metadata": {},
   "source": [
    "## Task 3. Class War in Titanic\n",
    "\n",
    "Use pandas to import the data file `Data/titanic.xls`. It contains data on all the passengers that travelled on the Titanic."
   ]
  },
  {
   "cell_type": "code",
   "execution_count": null,
   "metadata": {},
   "outputs": [],
   "source": [
    "from IPython.core.display import HTML\n",
    "\n",
    "DATA_FOLDER = 'Data'\n",
    "HTML(filename=DATA_FOLDER+'/titanic.html')"
   ]
  },
  {
   "cell_type": "markdown",
   "metadata": {},
   "source": [
    "For each of the following questions state clearly your assumptions and discuss your findings:\n",
    "1. Describe the *type* and the *value range* of each attribute. Indicate and transform the attributes that can be `Categorical`. \n",
    "2. Plot histograms for the *travel class*, *embarkation port*, *sex* and *age* attributes. For the latter one, use *discrete decade intervals*. \n",
    "3. Calculate the proportion of passengers by *cabin floor*. Present your results in a *pie chart*.\n",
    "4. For each *travel class*, calculate the proportion of the passengers that survived. Present your results in *pie charts*.\n",
    "5. Calculate the proportion of the passengers that survived by *travel class* and *sex*. Present your results in *a single histogram*.\n",
    "6. Create 2 equally populated *age categories* and calculate survival proportions by *age category*, *travel class* and *sex*. Present your results in a `DataFrame` with unique index."
   ]
  },
  {
   "cell_type": "code",
   "execution_count": null,
   "metadata": {},
   "outputs": [],
   "source": [
    "import pandas as pd\n",
    "import string\n",
    "import math\n",
    "\n",
    "#Load and cleanup data\n",
    "frame = pd.read_excel(DATA_FOLDER+'/titanic.xls')\n",
    "frame.ticket = frame.ticket.map(lambda tickets: str(tickets).strip('{}{}'.format(string.ascii_letters, string.punctuation)).split(' ')[-1])\n",
    "frame.ticket = frame.ticket.map(lambda tickets: 0 if len(tickets)==0 else int(tickets))\n",
    "frame"
   ]
  },
  {
   "cell_type": "code",
   "execution_count": null,
   "metadata": {},
   "outputs": [],
   "source": [
    "# 1. Describe the *type* and the *value range* of each attribute.\n",
    "\n",
    "print(\"\\npclass \\n range: {}\\n type: {}\".format(frame.pclass.unique(), frame.pclass.dtype))\n",
    "print(\"\\nsurvived \\n range: {}\\n type: {}\".format(frame.survived.unique(), frame.survived.dtype))\n",
    "print(\"\\nsex \\n range: {}\\n type: {}\".format(frame.sex.unique(), frame.sex.dtype))\n",
    "print(\"\\nembarked \\n range: {}\\n type: {}\".format(frame.embarked.unique(), frame.embarked.dtype))\n",
    "print(\"\\nparch \\n range: {}-{}\\n type: {}\".format(frame.parch.min(), frame.parch.max(), frame.parch.dtype))\n",
    "print(\"\\nsibsp \\n range: {}-{}\\n type: {}\".format(frame.sibsp.min(), frame.sibsp.max(), frame.sibsp.dtype))\n",
    "print(\"\\nage \\n range: {}-{}\\n type: {}\".format(frame.age.min(), frame.age.max(), frame.age.dtype))\n",
    "print(\"\\nticket \\n range: {}-{}\\n type: {}\".format(frame.ticket.min(), frame.ticket.max(), frame.ticket.dtype))\n",
    "print(\"\\nfare \\n range: {}-{}\\n type: {}\".format(frame.fare.min(), frame.fare.max(), frame.fare.dtype))\n",
    "print(\"\\nbody \\n range: {}-{}\\n type: {}\".format(frame.body.min(), frame.body.max(), frame.body.dtype))\n",
    "print(\"\\nboat \\n range: {}\\n type: {}\".format(frame.boat.unique(), frame.boat.dtype))\n",
    "print(\"\\ncabin \\n range: {}\\n type: {}\".format(frame.cabin.unique(), frame.cabin.dtype))\n",
    "print(\"\\nname \\n range: {}\\n type: {}\".format(frame.name.unique(), frame.name.dtype))\n",
    "print(\"\\nhome.dest \\n range: {}\\n type: {}\".format(frame['home.dest'].unique(), frame['home.dest'].dtype))"
   ]
  },
  {
   "cell_type": "markdown",
   "metadata": {},
   "source": [
    "<b>pclass</b>, <b>survived</b> and <b>sex</b> can be categorical values. These are deviding the dataset to reasonably smaller subsets\n",
    "<b>embarked</b> can be also considered as categorical value if we decide to eliminate the samples that have 'nan' value in this column"
   ]
  },
  {
   "cell_type": "code",
   "execution_count": null,
   "metadata": {},
   "outputs": [],
   "source": [
    "#Transform the attributes that can be `Categorical`. \n",
    "frame['pclass'] = frame.pclass.astype('category')\n",
    "frame['survived'] = frame.survived.astype('category')\n",
    "frame['sex'] = frame.sex.astype('category')\n",
    "frame['embarked'] = frame.embarked.astype('category')"
   ]
  },
  {
   "cell_type": "code",
   "execution_count": null,
   "metadata": {},
   "outputs": [],
   "source": [
    "#Drop columns that won't be used furhter\n",
    "clean_frame = frame.drop(['sibsp', 'parch', 'ticket', 'fare', 'body', 'home.dest', 'boat', 'name'], axis=1)"
   ]
  },
  {
   "cell_type": "code",
   "execution_count": null,
   "metadata": {},
   "outputs": [],
   "source": [
    "import matplotlib.pyplot as plt\n",
    "import matplotlib\n",
    "matplotlib.style.use('ggplot')\n",
    "\n",
    "#Plot histograms for the *travel class*, *embarkation port*,\n",
    "#*sex* and *age* attributes. For the latter one, use *discrete decade intervals*. \n",
    "\n",
    "clean_frame['sex'].value_counts().plot(kind='bar', color=['r','g'], title='Grouped by sex')\n",
    "plt.show()\n",
    "\n",
    "clean_frame['pclass'].value_counts().plot(kind='bar', color=['r','g','b'], title='Grouped by travel class')\n",
    "plt.show()\n",
    "\n",
    "clean_frame['embarked'].value_counts().plot(kind='bar', color=['r','g','b'], title='Grouped by embarkation port')\n",
    "plt.show()\n",
    "\n",
    "pd.cut(clean_frame.age, [0,10,20,30,40,50,60,70,80]).value_counts().plot(kind='bar', title='Grouped by decade')\n",
    "plt.show()"
   ]
  },
  {
   "cell_type": "code",
   "execution_count": null,
   "metadata": {},
   "outputs": [],
   "source": [
    "for c in clean_frame.cabin.values:\n",
    "    if len(str(c).split(' '))>1:\n",
    "        print(c) "
   ]
  },
  {
   "cell_type": "markdown",
   "metadata": {},
   "source": [
    "According to [this](https://www.encyclopedia-titanica.org/titanic-deckplans/g-deck.html) map, we assume that the starting letter for each value represent the floor on which the person stays. For the cases where we have for exemple 'F G63' we assume that the person stayed on floor F in part G cabin 63. When there are more than one value as cabin for the same person we noticed that these cabins are always on the same floor (showed above). "
   ]
  },
  {
   "cell_type": "code",
   "execution_count": null,
   "metadata": {},
   "outputs": [],
   "source": [
    "#Calculate the proportion of passengers by cabin floor. Present your results in a pie chart\n",
    "\n",
    "#Add new column named floor\n",
    "clean_frame['floor'] = clean_frame.cabin.dropna().map(lambda f: f[0])\n",
    "#Make it categorical \n",
    "clean_frame['floor'] = clean_frame.floor.astype('category')\n",
    "#Show the piechart\n",
    "clean_frame['floor'].value_counts().plot(kind='pie', title='Grouped by cabin floor')\n",
    "plt.show()"
   ]
  },
  {
   "cell_type": "code",
   "execution_count": null,
   "metadata": {},
   "outputs": [],
   "source": [
    "#For each travel class, calculate the proportion of the passengers that survived.\n",
    "#Present your results in pie charts.\n",
    "clean_frame[clean_frame.survived==1]['pclass'].value_counts().plot(kind='pie', title='Survived proportions from each class')\n",
    "plt.show()\n",
    "clean_frame.groupby(['pclass', 'survived']).pclass.value_counts().plot(kind='pie', title='Survived(1) vs. Dead(0) all together')\n",
    "plt.show()\n",
    "clean_frame[clean_frame.pclass==1]['survived'].value_counts().plot(kind='pie', title='Survived(1) from class 1')\n",
    "plt.show()\n",
    "clean_frame[clean_frame.pclass==2]['survived'].value_counts().plot(kind='pie', title='Survived(1) from class 2')\n",
    "plt.show()\n",
    "clean_frame[clean_frame.pclass==3]['survived'].value_counts().plot(kind='pie', title='Survived(1) from class 3')\n",
    "plt.show()"
   ]
  },
  {
   "cell_type": "code",
   "execution_count": null,
   "metadata": {},
   "outputs": [],
   "source": [
    "#Calculate the proportion of the passengers that survived by travel class and sex.\n",
    "#Present your results in a single histogram.\n",
    "grouped = clean_frame[clean_frame.survived==1].groupby(['pclass', 'sex'])\n",
    "\n",
    "grouped.survived.value_counts().plot(kind='bar', color=['r','g','b','m','y', 'c'], title='Survived passengers by sex and travel class')\n",
    "plt.show()"
   ]
  },
  {
   "cell_type": "code",
   "execution_count": null,
   "metadata": {},
   "outputs": [],
   "source": [
    "#Create 2 equally populated age categories and calculate survival proportions by age category, travel class and sex. \n",
    "by_ages = pd.qcut(clean_frame.age, 2)\n",
    "clean_frame['by_ages'] = by_ages\n",
    "\n",
    "grouped = clean_frame[clean_frame.survived==1].groupby(['pclass', 'sex', 'by_ages'])\n",
    "grouped.survived.value_counts().plot(kind='bar', color=['r','g','b','m','y', 'c'], title='Survived passengers by sex, travel class and age category')\n",
    "plt.show()"
   ]
  },
  {
   "cell_type": "code",
   "execution_count": null,
   "metadata": {},
   "outputs": [],
   "source": [
    "#Present your results in a DataFrame with unique index.\n",
    "clean_frame['id'] = range(len(clean_frame))\n",
    "clean_frame = clean_frame.set_index(['id'])\n",
    "clean_frame"
   ]
  },
  {
   "cell_type": "code",
   "execution_count": null,
   "metadata": {},
   "outputs": [],
   "source": []
  },
  {
   "cell_type": "code",
   "execution_count": null,
   "metadata": {},
   "outputs": [],
   "source": []
  }
 ],
 "metadata": {
  "kernelspec": {
   "display_name": "Python [conda root]",
   "language": "python",
   "name": "conda-root-py"
  },
  "language_info": {
   "codemirror_mode": {
    "name": "ipython",
    "version": 3
   },
   "file_extension": ".py",
   "mimetype": "text/x-python",
   "name": "python",
   "nbconvert_exporter": "python",
   "pygments_lexer": "ipython3",
   "version": "3.6.1"
  }
 },
 "nbformat": 4,
 "nbformat_minor": 2
}
